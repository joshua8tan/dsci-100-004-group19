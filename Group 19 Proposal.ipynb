{
 "cells": [
  {
   "cell_type": "markdown",
   "id": "d395b0d1-feb3-46cc-9a10-c95f27119b09",
   "metadata": {},
   "source": [
    "# Group 19 Proposal"
   ]
  },
  {
   "cell_type": "code",
   "execution_count": null,
   "id": "7fa51bc7-dc0e-454a-85bd-bbc1cba1480f",
   "metadata": {},
   "outputs": [],
   "source": []
  }
 ],
 "metadata": {
  "kernelspec": {
   "display_name": "R",
   "language": "R",
   "name": "ir"
  },
  "language_info": {
   "codemirror_mode": "r",
   "file_extension": ".r",
   "mimetype": "text/x-r-source",
   "name": "R",
   "pygments_lexer": "r",
   "version": "4.2.2"
  }
 },
 "nbformat": 4,
 "nbformat_minor": 5
}
