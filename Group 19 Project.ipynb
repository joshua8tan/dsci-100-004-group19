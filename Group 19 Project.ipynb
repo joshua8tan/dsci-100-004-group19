{
 "cells": [
  {
   "cell_type": "markdown",
   "id": "23f215d1-2743-4737-a663-0f49bc8d7a10",
   "metadata": {},
   "source": [
    "# DSCI 100-004: Group 19 Project"
   ]
  },
  {
   "cell_type": "markdown",
   "id": "5e2adde7-5e4b-4063-901a-e0c85becfdd9",
   "metadata": {},
   "source": [
    "Aadeesh Nargotra, Hongwei Wang, Joshua Tan, Nayeon Lee"
   ]
  },
  {
   "cell_type": "markdown",
   "id": "48500576-9622-45d2-991f-826877824f08",
   "metadata": {},
   "source": [
    "## Table of Contents:\n",
    "* [Introduction](#introduction)\n",
    "    * [Background and significance](*background)\n",
    "* [Methods: Cleaning and Exploring the Data](#methods)\n",
    "    * [Installing and loading the required packages](#installing)\n",
    "    * [Reading the airplane dataset](#reading)\n",
    "    * [Reducing the size of the dataset](#reducing)\n",
    "    * [Cleaning airplane_data](#cleaning)\n",
    "    * [Splitting airplane_cleaned_data into training and test sets](#splitting)\n",
    "* [Methods: Tuning and Evaluating the Classifier]\n",
    "* [Methods: Predicting Satisfaction from the Test Set] "
   ]
  },
  {
   "cell_type": "markdown",
   "id": "6a2f6e6b-d4ec-46ae-9d16-d2f093164ab6",
   "metadata": {},
   "source": [
    "## Introduction <a name=\"introduction\"></a>"
   ]
  },
  {
   "cell_type": "markdown",
   "id": "092b96b5-4023-41d5-bde7-af270be24eb8",
   "metadata": {},
   "source": [
    "### Background and significance <a name=\"background\"></a>"
   ]
  },
  {
   "cell_type": "markdown",
   "id": "f3b8cced-b047-4625-a7e6-9e03e763b21e",
   "metadata": {},
   "source": [
    "Airlines regularly receive feedback from customers who utilize their planes based on their experience. A major responsibility of airlines when it comes to providing amenities is to ensure that customers have the best possible experience while flying. By identifying areas for improvement, airlines would be able to better understand customer needs, thereby increasing customer retention. We will be answering our predictive question, “can we predict the next customer’s satisfaction as satisfied or dissatisfied based on the airplane satisfaction data?”  The factors that can determine our classification include, departure/arrival delays, gate location, online boarding, inflight entertainment, legroom service, check-in service, inflight wifi service, food and drink, seat comfort, on-board service baggage handling, and cleanliness. We will be utilizing ‘Airline Passenger Satisfaction’ dataset by T.J. Klein on Kagle. https://www.kaggle.com/datasets/teejmahal20/airline-passenger-satisfaction/data\n",
    "\n",
    "<mark>TODO: Add information about what the dataset includes. (I.e., what each column has)<mark>\n",
    "\n",
    "<mark>TODO: Perhaps add citations here?<mark>\n"
   ]
  },
  {
   "cell_type": "markdown",
   "id": "7c4a9b13-20c5-46f8-8322-ff752b48af77",
   "metadata": {},
   "source": [
    "## Methods <a name=\"methods\"></a>"
   ]
  },
  {
   "cell_type": "markdown",
   "id": "db4c7e59-c68a-4a6f-bd2d-505d516240e5",
   "metadata": {},
   "source": [
    "### Installing and loading the required packages <a name=\"installing\"></a>"
   ]
  },
  {
   "cell_type": "code",
   "execution_count": 1,
   "id": "94599e2f-6b21-4bba-946a-072fc0ec3354",
   "metadata": {
    "tags": []
   },
   "outputs": [
    {
     "name": "stderr",
     "output_type": "stream",
     "text": [
      "Updating HTML index of packages in '.Library'\n",
      "\n",
      "Making 'packages.html' ...\n",
      " done\n",
      "\n",
      "Updating HTML index of packages in '.Library'\n",
      "\n",
      "Making 'packages.html' ...\n",
      " done\n",
      "\n",
      "Updating HTML index of packages in '.Library'\n",
      "\n",
      "Making 'packages.html' ...\n",
      " done\n",
      "\n"
     ]
    }
   ],
   "source": [
    "install.packages(\"janitor\")\n",
    "install.packages(\"kknn\")\n",
    "install.packages(\"gridExtra\")"
   ]
  },
  {
   "cell_type": "code",
   "execution_count": 2,
   "id": "73003b2d-ca2c-4e2d-ad74-1996584fdf48",
   "metadata": {
    "tags": []
   },
   "outputs": [
    {
     "name": "stderr",
     "output_type": "stream",
     "text": [
      "── \u001b[1mAttaching packages\u001b[22m ─────────────────────────────────────── tidyverse 1.3.2 ──\n",
      "\u001b[32m✔\u001b[39m \u001b[34mggplot2\u001b[39m 3.4.2     \u001b[32m✔\u001b[39m \u001b[34mpurrr  \u001b[39m 1.0.1\n",
      "\u001b[32m✔\u001b[39m \u001b[34mtibble \u001b[39m 3.2.1     \u001b[32m✔\u001b[39m \u001b[34mdplyr  \u001b[39m 1.1.1\n",
      "\u001b[32m✔\u001b[39m \u001b[34mtidyr  \u001b[39m 1.3.0     \u001b[32m✔\u001b[39m \u001b[34mstringr\u001b[39m 1.5.0\n",
      "\u001b[32m✔\u001b[39m \u001b[34mreadr  \u001b[39m 2.1.3     \u001b[32m✔\u001b[39m \u001b[34mforcats\u001b[39m 0.5.2\n",
      "── \u001b[1mConflicts\u001b[22m ────────────────────────────────────────── tidyverse_conflicts() ──\n",
      "\u001b[31m✖\u001b[39m \u001b[34mdplyr\u001b[39m::\u001b[32mfilter()\u001b[39m masks \u001b[34mstats\u001b[39m::filter()\n",
      "\u001b[31m✖\u001b[39m \u001b[34mdplyr\u001b[39m::\u001b[32mlag()\u001b[39m    masks \u001b[34mstats\u001b[39m::lag()\n",
      "\n",
      "Attaching package: ‘janitor’\n",
      "\n",
      "\n",
      "The following objects are masked from ‘package:stats’:\n",
      "\n",
      "    chisq.test, fisher.test\n",
      "\n",
      "\n",
      "── \u001b[1mAttaching packages\u001b[22m ────────────────────────────────────── tidymodels 1.0.0 ──\n",
      "\n",
      "\u001b[32m✔\u001b[39m \u001b[34mbroom       \u001b[39m 1.0.2     \u001b[32m✔\u001b[39m \u001b[34mrsample     \u001b[39m 1.1.1\n",
      "\u001b[32m✔\u001b[39m \u001b[34mdials       \u001b[39m 1.1.0     \u001b[32m✔\u001b[39m \u001b[34mtune        \u001b[39m 1.0.1\n",
      "\u001b[32m✔\u001b[39m \u001b[34minfer       \u001b[39m 1.0.4     \u001b[32m✔\u001b[39m \u001b[34mworkflows   \u001b[39m 1.1.2\n",
      "\u001b[32m✔\u001b[39m \u001b[34mmodeldata   \u001b[39m 1.0.1     \u001b[32m✔\u001b[39m \u001b[34mworkflowsets\u001b[39m 1.0.0\n",
      "\u001b[32m✔\u001b[39m \u001b[34mparsnip     \u001b[39m 1.0.3     \u001b[32m✔\u001b[39m \u001b[34myardstick   \u001b[39m 1.1.0\n",
      "\u001b[32m✔\u001b[39m \u001b[34mrecipes     \u001b[39m 1.0.4     \n",
      "\n",
      "── \u001b[1mConflicts\u001b[22m ───────────────────────────────────────── tidymodels_conflicts() ──\n",
      "\u001b[31m✖\u001b[39m \u001b[34mscales\u001b[39m::\u001b[32mdiscard()\u001b[39m masks \u001b[34mpurrr\u001b[39m::discard()\n",
      "\u001b[31m✖\u001b[39m \u001b[34mdplyr\u001b[39m::\u001b[32mfilter()\u001b[39m   masks \u001b[34mstats\u001b[39m::filter()\n",
      "\u001b[31m✖\u001b[39m \u001b[34mrecipes\u001b[39m::\u001b[32mfixed()\u001b[39m  masks \u001b[34mstringr\u001b[39m::fixed()\n",
      "\u001b[31m✖\u001b[39m \u001b[34mdplyr\u001b[39m::\u001b[32mlag()\u001b[39m      masks \u001b[34mstats\u001b[39m::lag()\n",
      "\u001b[31m✖\u001b[39m \u001b[34myardstick\u001b[39m::\u001b[32mspec()\u001b[39m masks \u001b[34mreadr\u001b[39m::spec()\n",
      "\u001b[31m✖\u001b[39m \u001b[34mrecipes\u001b[39m::\u001b[32mstep()\u001b[39m   masks \u001b[34mstats\u001b[39m::step()\n",
      "\u001b[34m•\u001b[39m Learn how to get started at \u001b[32mhttps://www.tidymodels.org/start/\u001b[39m\n",
      "\n",
      "\n",
      "Attaching package: ‘gridExtra’\n",
      "\n",
      "\n",
      "The following object is masked from ‘package:dplyr’:\n",
      "\n",
      "    combine\n",
      "\n",
      "\n"
     ]
    }
   ],
   "source": [
    "library(tidyverse)\n",
    "library(janitor)\n",
    "library(tidymodels)\n",
    "library(gridExtra)\n",
    "library(kknn)\n",
    "library(repr)"
   ]
  },
  {
   "cell_type": "markdown",
   "id": "d73a9d3c-6316-4ee1-af96-6ef56f91ba1e",
   "metadata": {},
   "source": [
    "### Reading the airplane dataset <a name=\"reading\"></a>"
   ]
  },
  {
   "cell_type": "markdown",
   "id": "ca12739c-7097-48d9-8ad1-9aef42536bd2",
   "metadata": {},
   "source": [
    "The airplane data that was downloaded from Kaggle was already split into a test and training set. Specifcially, the dataset was split such that 20% of the data was in the testing set and 80% was in the training set. "
   ]
  },
  {
   "cell_type": "code",
   "execution_count": 3,
   "id": "2d0b40dc-01c8-4433-889b-b492d3f619e4",
   "metadata": {
    "tags": []
   },
   "outputs": [
    {
     "name": "stderr",
     "output_type": "stream",
     "text": [
      "\u001b[1m\u001b[22mNew names:\n",
      "\u001b[36m•\u001b[39m `` -> `...1`\n",
      "\u001b[1mRows: \u001b[22m\u001b[34m25976\u001b[39m \u001b[1mColumns: \u001b[22m\u001b[34m25\u001b[39m\n",
      "\u001b[36m──\u001b[39m \u001b[1mColumn specification\u001b[22m \u001b[36m────────────────────────────────────────────────────────\u001b[39m\n",
      "\u001b[1mDelimiter:\u001b[22m \",\"\n",
      "\u001b[31mchr\u001b[39m  (5): Gender, Customer Type, Type of Travel, Class, satisfaction\n",
      "\u001b[32mdbl\u001b[39m (20): ...1, id, Age, Flight Distance, Inflight wifi service, Departure/A...\n",
      "\n",
      "\u001b[36mℹ\u001b[39m Use `spec()` to retrieve the full column specification for this data.\n",
      "\u001b[36mℹ\u001b[39m Specify the column types or set `show_col_types = FALSE` to quiet this message.\n",
      "\u001b[1m\u001b[22mNew names:\n",
      "\u001b[36m•\u001b[39m `` -> `...1`\n",
      "\u001b[1mRows: \u001b[22m\u001b[34m103904\u001b[39m \u001b[1mColumns: \u001b[22m\u001b[34m25\u001b[39m\n",
      "\u001b[36m──\u001b[39m \u001b[1mColumn specification\u001b[22m \u001b[36m────────────────────────────────────────────────────────\u001b[39m\n",
      "\u001b[1mDelimiter:\u001b[22m \",\"\n",
      "\u001b[31mchr\u001b[39m  (5): Gender, Customer Type, Type of Travel, Class, satisfaction\n",
      "\u001b[32mdbl\u001b[39m (20): ...1, id, Age, Flight Distance, Inflight wifi service, Departure/A...\n",
      "\n",
      "\u001b[36mℹ\u001b[39m Use `spec()` to retrieve the full column specification for this data.\n",
      "\u001b[36mℹ\u001b[39m Specify the column types or set `show_col_types = FALSE` to quiet this message.\n"
     ]
    }
   ],
   "source": [
    "test_set <- read_csv(\"Airplane Data/test.csv\") \n",
    "train_set <- read_csv(\"Airplane Data/train.csv\")"
   ]
  },
  {
   "cell_type": "markdown",
   "id": "04391fae-32a8-4255-a45e-8d108baaae63",
   "metadata": {},
   "source": [
    "### Reducing the size of the dataset <a name=\"reducing\"></a>"
   ]
  },
  {
   "cell_type": "markdown",
   "id": "e35ad945-ff9c-4dc0-8600-3614c9e7b88a",
   "metadata": {},
   "source": [
    "As specified by the output after using `read_csv()` on both sets, the dataset is extremely large with 129,880 total observations and 25 columns. As such, our TA advised us to reduce the dataset into 1/5th of it's original size. To accomplish this, we combined the test and training datasets using `rbind()` and used the `slice()` function to only keep every 5th observation."
   ]
  },
  {
   "cell_type": "code",
   "execution_count": 4,
   "id": "682314cc-ed2a-4c86-b541-5f66f1599324",
   "metadata": {
    "tags": []
   },
   "outputs": [
    {
     "data": {
      "text/html": [
       "25976"
      ],
      "text/latex": [
       "25976"
      ],
      "text/markdown": [
       "25976"
      ],
      "text/plain": [
       "[1] 25976"
      ]
     },
     "metadata": {},
     "output_type": "display_data"
    }
   ],
   "source": [
    "airplane_data <- rbind(test_set, train_set)\n",
    "airplane_data <- airplane_data |>\n",
    "              slice(seq(from = 1, to = 129880, by = 5))\n",
    "nrow(airplane_data)"
   ]
  },
  {
   "cell_type": "markdown",
   "id": "d7ffd439-7293-469b-a018-4ca605c77aa0",
   "metadata": {},
   "source": [
    "Using `nrow()` confirms that our dataset now has 25976 observations compared to the 129,880 observations we previously had."
   ]
  },
  {
   "cell_type": "markdown",
   "id": "0cdb56ba-7b2d-4eee-88ba-daa83ac38d11",
   "metadata": {
    "tags": []
   },
   "source": [
    "### Cleaning airplane_data <a name=\"cleaning\"></a>"
   ]
  },
  {
   "cell_type": "code",
   "execution_count": 5,
   "id": "0fea7610-a0a0-4359-a4dd-88c001c0c301",
   "metadata": {
    "tags": []
   },
   "outputs": [
    {
     "data": {
      "text/html": [
       "<table class=\"dataframe\">\n",
       "<caption>A tibble: 6 × 25</caption>\n",
       "<thead>\n",
       "\t<tr><th scope=col>...1</th><th scope=col>id</th><th scope=col>Gender</th><th scope=col>Customer Type</th><th scope=col>Age</th><th scope=col>Type of Travel</th><th scope=col>Class</th><th scope=col>Flight Distance</th><th scope=col>Inflight wifi service</th><th scope=col>Departure/Arrival time convenient</th><th scope=col>⋯</th><th scope=col>Inflight entertainment</th><th scope=col>On-board service</th><th scope=col>Leg room service</th><th scope=col>Baggage handling</th><th scope=col>Checkin service</th><th scope=col>Inflight service</th><th scope=col>Cleanliness</th><th scope=col>Departure Delay in Minutes</th><th scope=col>Arrival Delay in Minutes</th><th scope=col>satisfaction</th></tr>\n",
       "\t<tr><th scope=col>&lt;dbl&gt;</th><th scope=col>&lt;dbl&gt;</th><th scope=col>&lt;chr&gt;</th><th scope=col>&lt;chr&gt;</th><th scope=col>&lt;dbl&gt;</th><th scope=col>&lt;chr&gt;</th><th scope=col>&lt;chr&gt;</th><th scope=col>&lt;dbl&gt;</th><th scope=col>&lt;dbl&gt;</th><th scope=col>&lt;dbl&gt;</th><th scope=col>⋯</th><th scope=col>&lt;dbl&gt;</th><th scope=col>&lt;dbl&gt;</th><th scope=col>&lt;dbl&gt;</th><th scope=col>&lt;dbl&gt;</th><th scope=col>&lt;dbl&gt;</th><th scope=col>&lt;dbl&gt;</th><th scope=col>&lt;dbl&gt;</th><th scope=col>&lt;dbl&gt;</th><th scope=col>&lt;dbl&gt;</th><th scope=col>&lt;chr&gt;</th></tr>\n",
       "</thead>\n",
       "<tbody>\n",
       "\t<tr><td> 0</td><td>19556</td><td>Female</td><td>Loyal Customer</td><td>52</td><td>Business travel</td><td>Eco     </td><td> 160</td><td>5</td><td>4</td><td>⋯</td><td>5</td><td>5</td><td>5</td><td>5</td><td>2</td><td>5</td><td>5</td><td>50</td><td>44</td><td>satisfied              </td></tr>\n",
       "\t<tr><td> 5</td><td>39177</td><td>Male  </td><td>Loyal Customer</td><td>16</td><td>Business travel</td><td>Eco     </td><td> 311</td><td>3</td><td>3</td><td>⋯</td><td>5</td><td>4</td><td>3</td><td>1</td><td>1</td><td>2</td><td>5</td><td> 0</td><td> 0</td><td>satisfied              </td></tr>\n",
       "\t<tr><td>10</td><td>47583</td><td>Female</td><td>Loyal Customer</td><td>47</td><td>Business travel</td><td>Eco     </td><td>1235</td><td>4</td><td>1</td><td>⋯</td><td>3</td><td>3</td><td>4</td><td>3</td><td>1</td><td>3</td><td>4</td><td>29</td><td>19</td><td>satisfied              </td></tr>\n",
       "\t<tr><td>15</td><td>22470</td><td>Male  </td><td>Loyal Customer</td><td>50</td><td>Personal Travel</td><td>Eco     </td><td>  83</td><td>3</td><td>4</td><td>⋯</td><td>2</td><td>4</td><td>2</td><td>4</td><td>4</td><td>5</td><td>2</td><td> 5</td><td> 2</td><td>neutral or dissatisfied</td></tr>\n",
       "\t<tr><td>20</td><td>63995</td><td>Male  </td><td>Loyal Customer</td><td>60</td><td>Business travel</td><td>Business</td><td> 612</td><td>4</td><td>4</td><td>⋯</td><td>5</td><td>5</td><td>5</td><td>5</td><td>5</td><td>5</td><td>5</td><td>21</td><td>49</td><td>satisfied              </td></tr>\n",
       "\t<tr><td>25</td><td> 7823</td><td>Male  </td><td>Loyal Customer</td><td>62</td><td>Personal Travel</td><td>Eco     </td><td> 710</td><td>3</td><td>5</td><td>⋯</td><td>2</td><td>3</td><td>5</td><td>5</td><td>4</td><td>4</td><td>2</td><td> 0</td><td> 0</td><td>neutral or dissatisfied</td></tr>\n",
       "</tbody>\n",
       "</table>\n"
      ],
      "text/latex": [
       "A tibble: 6 × 25\n",
       "\\begin{tabular}{lllllllllllllllllllll}\n",
       " ...1 & id & Gender & Customer Type & Age & Type of Travel & Class & Flight Distance & Inflight wifi service & Departure/Arrival time convenient & ⋯ & Inflight entertainment & On-board service & Leg room service & Baggage handling & Checkin service & Inflight service & Cleanliness & Departure Delay in Minutes & Arrival Delay in Minutes & satisfaction\\\\\n",
       " <dbl> & <dbl> & <chr> & <chr> & <dbl> & <chr> & <chr> & <dbl> & <dbl> & <dbl> & ⋯ & <dbl> & <dbl> & <dbl> & <dbl> & <dbl> & <dbl> & <dbl> & <dbl> & <dbl> & <chr>\\\\\n",
       "\\hline\n",
       "\t  0 & 19556 & Female & Loyal Customer & 52 & Business travel & Eco      &  160 & 5 & 4 & ⋯ & 5 & 5 & 5 & 5 & 2 & 5 & 5 & 50 & 44 & satisfied              \\\\\n",
       "\t  5 & 39177 & Male   & Loyal Customer & 16 & Business travel & Eco      &  311 & 3 & 3 & ⋯ & 5 & 4 & 3 & 1 & 1 & 2 & 5 &  0 &  0 & satisfied              \\\\\n",
       "\t 10 & 47583 & Female & Loyal Customer & 47 & Business travel & Eco      & 1235 & 4 & 1 & ⋯ & 3 & 3 & 4 & 3 & 1 & 3 & 4 & 29 & 19 & satisfied              \\\\\n",
       "\t 15 & 22470 & Male   & Loyal Customer & 50 & Personal Travel & Eco      &   83 & 3 & 4 & ⋯ & 2 & 4 & 2 & 4 & 4 & 5 & 2 &  5 &  2 & neutral or dissatisfied\\\\\n",
       "\t 20 & 63995 & Male   & Loyal Customer & 60 & Business travel & Business &  612 & 4 & 4 & ⋯ & 5 & 5 & 5 & 5 & 5 & 5 & 5 & 21 & 49 & satisfied              \\\\\n",
       "\t 25 &  7823 & Male   & Loyal Customer & 62 & Personal Travel & Eco      &  710 & 3 & 5 & ⋯ & 2 & 3 & 5 & 5 & 4 & 4 & 2 &  0 &  0 & neutral or dissatisfied\\\\\n",
       "\\end{tabular}\n"
      ],
      "text/markdown": [
       "\n",
       "A tibble: 6 × 25\n",
       "\n",
       "| ...1 &lt;dbl&gt; | id &lt;dbl&gt; | Gender &lt;chr&gt; | Customer Type &lt;chr&gt; | Age &lt;dbl&gt; | Type of Travel &lt;chr&gt; | Class &lt;chr&gt; | Flight Distance &lt;dbl&gt; | Inflight wifi service &lt;dbl&gt; | Departure/Arrival time convenient &lt;dbl&gt; | ⋯ ⋯ | Inflight entertainment &lt;dbl&gt; | On-board service &lt;dbl&gt; | Leg room service &lt;dbl&gt; | Baggage handling &lt;dbl&gt; | Checkin service &lt;dbl&gt; | Inflight service &lt;dbl&gt; | Cleanliness &lt;dbl&gt; | Departure Delay in Minutes &lt;dbl&gt; | Arrival Delay in Minutes &lt;dbl&gt; | satisfaction &lt;chr&gt; |\n",
       "|---|---|---|---|---|---|---|---|---|---|---|---|---|---|---|---|---|---|---|---|---|\n",
       "|  0 | 19556 | Female | Loyal Customer | 52 | Business travel | Eco      |  160 | 5 | 4 | ⋯ | 5 | 5 | 5 | 5 | 2 | 5 | 5 | 50 | 44 | satisfied               |\n",
       "|  5 | 39177 | Male   | Loyal Customer | 16 | Business travel | Eco      |  311 | 3 | 3 | ⋯ | 5 | 4 | 3 | 1 | 1 | 2 | 5 |  0 |  0 | satisfied               |\n",
       "| 10 | 47583 | Female | Loyal Customer | 47 | Business travel | Eco      | 1235 | 4 | 1 | ⋯ | 3 | 3 | 4 | 3 | 1 | 3 | 4 | 29 | 19 | satisfied               |\n",
       "| 15 | 22470 | Male   | Loyal Customer | 50 | Personal Travel | Eco      |   83 | 3 | 4 | ⋯ | 2 | 4 | 2 | 4 | 4 | 5 | 2 |  5 |  2 | neutral or dissatisfied |\n",
       "| 20 | 63995 | Male   | Loyal Customer | 60 | Business travel | Business |  612 | 4 | 4 | ⋯ | 5 | 5 | 5 | 5 | 5 | 5 | 5 | 21 | 49 | satisfied               |\n",
       "| 25 |  7823 | Male   | Loyal Customer | 62 | Personal Travel | Eco      |  710 | 3 | 5 | ⋯ | 2 | 3 | 5 | 5 | 4 | 4 | 2 |  0 |  0 | neutral or dissatisfied |\n",
       "\n"
      ],
      "text/plain": [
       "  ...1 id    Gender Customer Type  Age Type of Travel  Class    Flight Distance\n",
       "1  0   19556 Female Loyal Customer 52  Business travel Eco       160           \n",
       "2  5   39177 Male   Loyal Customer 16  Business travel Eco       311           \n",
       "3 10   47583 Female Loyal Customer 47  Business travel Eco      1235           \n",
       "4 15   22470 Male   Loyal Customer 50  Personal Travel Eco        83           \n",
       "5 20   63995 Male   Loyal Customer 60  Business travel Business  612           \n",
       "6 25    7823 Male   Loyal Customer 62  Personal Travel Eco       710           \n",
       "  Inflight wifi service Departure/Arrival time convenient ⋯\n",
       "1 5                     4                                 ⋯\n",
       "2 3                     3                                 ⋯\n",
       "3 4                     1                                 ⋯\n",
       "4 3                     4                                 ⋯\n",
       "5 4                     4                                 ⋯\n",
       "6 3                     5                                 ⋯\n",
       "  Inflight entertainment On-board service Leg room service Baggage handling\n",
       "1 5                      5                5                5               \n",
       "2 5                      4                3                1               \n",
       "3 3                      3                4                3               \n",
       "4 2                      4                2                4               \n",
       "5 5                      5                5                5               \n",
       "6 2                      3                5                5               \n",
       "  Checkin service Inflight service Cleanliness Departure Delay in Minutes\n",
       "1 2               5                5           50                        \n",
       "2 1               2                5            0                        \n",
       "3 1               3                4           29                        \n",
       "4 4               5                2            5                        \n",
       "5 5               5                5           21                        \n",
       "6 4               4                2            0                        \n",
       "  Arrival Delay in Minutes satisfaction           \n",
       "1 44                       satisfied              \n",
       "2  0                       satisfied              \n",
       "3 19                       satisfied              \n",
       "4  2                       neutral or dissatisfied\n",
       "5 49                       satisfied              \n",
       "6  0                       neutral or dissatisfied"
      ]
     },
     "metadata": {},
     "output_type": "display_data"
    }
   ],
   "source": [
    "head(airplane_data)"
   ]
  },
  {
   "cell_type": "markdown",
   "id": "46b4cd4d-88c5-45d6-a0e5-16fdfc5dbab0",
   "metadata": {},
   "source": [
    "<font size= '2'> **Table 1:** Using `head()` on our reduced airplane dataset reveals information about the column names and their datatypes"
   ]
  },
  {
   "cell_type": "markdown",
   "id": "f7f1622c-b19f-4495-be44-c7595c0c3ffa",
   "metadata": {},
   "source": [
    "Now that the data set is more manageable, we began cleaning our data to prepare for it for analysis. Upon using `head()`, we noticed that the columns weren't in a clean format. Thus, we used the `clean_names()` function to make the column names into snake_case.\n",
    "\n",
    "Next, we needed to remove unnecessary columns that we knew we would not need for our knn analysis. Specifically, we removed the `...1` and `id` columns as they were arbitrary passenger identifiers. We also removed the `Gender`, `Customer Type`, `Age`, `Type of Travel`, and `Class` columns as they are not numerical and thus would not be used for the knn analysis. Finally, although being a numerical variable, we removed `Flight Distance` as we felt that it was not as relevant to a passenger's overall satisfaction. Indeed, the flight distance is a variable  that airlines cannot improve upon as it is simply out of their control.\n",
    "\n",
    "We assigned all these changes to a new variable called `airplane_data_cleaned`."
   ]
  },
  {
   "cell_type": "code",
   "execution_count": 6,
   "id": "d7d74e50-cbbe-478d-a7d1-bd35ee7823dc",
   "metadata": {
    "tags": []
   },
   "outputs": [],
   "source": [
    "airplane_data_cleaned <- airplane_data |>\n",
    "              clean_names() |>\n",
    "              select(9:25)"
   ]
  },
  {
   "cell_type": "markdown",
   "id": "3ae17324-b209-431c-aa61-ce51e500c934",
   "metadata": {},
   "source": [
    "Additionally, as the data set was too big to visually see if there were any missing data (i.e., NAs), we used the `map_df()` function to create a summary table of any NA's in a given column."
   ]
  },
  {
   "cell_type": "code",
   "execution_count": 7,
   "id": "4f95d7d2-153a-4713-8858-57394f83f065",
   "metadata": {
    "tags": []
   },
   "outputs": [
    {
     "data": {
      "text/html": [
       "<table class=\"dataframe\">\n",
       "<caption>A tibble: 1 × 17</caption>\n",
       "<thead>\n",
       "\t<tr><th scope=col>inflight_wifi_service</th><th scope=col>departure_arrival_time_convenient</th><th scope=col>ease_of_online_booking</th><th scope=col>gate_location</th><th scope=col>food_and_drink</th><th scope=col>online_boarding</th><th scope=col>seat_comfort</th><th scope=col>inflight_entertainment</th><th scope=col>on_board_service</th><th scope=col>leg_room_service</th><th scope=col>baggage_handling</th><th scope=col>checkin_service</th><th scope=col>inflight_service</th><th scope=col>cleanliness</th><th scope=col>departure_delay_in_minutes</th><th scope=col>arrival_delay_in_minutes</th><th scope=col>satisfaction</th></tr>\n",
       "\t<tr><th scope=col>&lt;int&gt;</th><th scope=col>&lt;int&gt;</th><th scope=col>&lt;int&gt;</th><th scope=col>&lt;int&gt;</th><th scope=col>&lt;int&gt;</th><th scope=col>&lt;int&gt;</th><th scope=col>&lt;int&gt;</th><th scope=col>&lt;int&gt;</th><th scope=col>&lt;int&gt;</th><th scope=col>&lt;int&gt;</th><th scope=col>&lt;int&gt;</th><th scope=col>&lt;int&gt;</th><th scope=col>&lt;int&gt;</th><th scope=col>&lt;int&gt;</th><th scope=col>&lt;int&gt;</th><th scope=col>&lt;int&gt;</th><th scope=col>&lt;int&gt;</th></tr>\n",
       "</thead>\n",
       "<tbody>\n",
       "\t<tr><td>0</td><td>0</td><td>0</td><td>0</td><td>0</td><td>0</td><td>0</td><td>0</td><td>0</td><td>0</td><td>0</td><td>0</td><td>0</td><td>0</td><td>0</td><td>75</td><td>0</td></tr>\n",
       "</tbody>\n",
       "</table>\n"
      ],
      "text/latex": [
       "A tibble: 1 × 17\n",
       "\\begin{tabular}{lllllllllllllllll}\n",
       " inflight\\_wifi\\_service & departure\\_arrival\\_time\\_convenient & ease\\_of\\_online\\_booking & gate\\_location & food\\_and\\_drink & online\\_boarding & seat\\_comfort & inflight\\_entertainment & on\\_board\\_service & leg\\_room\\_service & baggage\\_handling & checkin\\_service & inflight\\_service & cleanliness & departure\\_delay\\_in\\_minutes & arrival\\_delay\\_in\\_minutes & satisfaction\\\\\n",
       " <int> & <int> & <int> & <int> & <int> & <int> & <int> & <int> & <int> & <int> & <int> & <int> & <int> & <int> & <int> & <int> & <int>\\\\\n",
       "\\hline\n",
       "\t 0 & 0 & 0 & 0 & 0 & 0 & 0 & 0 & 0 & 0 & 0 & 0 & 0 & 0 & 0 & 75 & 0\\\\\n",
       "\\end{tabular}\n"
      ],
      "text/markdown": [
       "\n",
       "A tibble: 1 × 17\n",
       "\n",
       "| inflight_wifi_service &lt;int&gt; | departure_arrival_time_convenient &lt;int&gt; | ease_of_online_booking &lt;int&gt; | gate_location &lt;int&gt; | food_and_drink &lt;int&gt; | online_boarding &lt;int&gt; | seat_comfort &lt;int&gt; | inflight_entertainment &lt;int&gt; | on_board_service &lt;int&gt; | leg_room_service &lt;int&gt; | baggage_handling &lt;int&gt; | checkin_service &lt;int&gt; | inflight_service &lt;int&gt; | cleanliness &lt;int&gt; | departure_delay_in_minutes &lt;int&gt; | arrival_delay_in_minutes &lt;int&gt; | satisfaction &lt;int&gt; |\n",
       "|---|---|---|---|---|---|---|---|---|---|---|---|---|---|---|---|---|\n",
       "| 0 | 0 | 0 | 0 | 0 | 0 | 0 | 0 | 0 | 0 | 0 | 0 | 0 | 0 | 0 | 75 | 0 |\n",
       "\n"
      ],
      "text/plain": [
       "  inflight_wifi_service departure_arrival_time_convenient\n",
       "1 0                     0                                \n",
       "  ease_of_online_booking gate_location food_and_drink online_boarding\n",
       "1 0                      0             0              0              \n",
       "  seat_comfort inflight_entertainment on_board_service leg_room_service\n",
       "1 0            0                      0                0               \n",
       "  baggage_handling checkin_service inflight_service cleanliness\n",
       "1 0                0               0                0          \n",
       "  departure_delay_in_minutes arrival_delay_in_minutes satisfaction\n",
       "1 0                          75                       0           "
      ]
     },
     "metadata": {},
     "output_type": "display_data"
    }
   ],
   "source": [
    "map_df(airplane_data_cleaned, ~sum(is.na(.))) "
   ]
  },
  {
   "cell_type": "markdown",
   "id": "71db7cb7-e0c6-403e-b331-1773ca57db67",
   "metadata": {},
   "source": [
    "<font size= '2'> **Table 2:** A summary table of the number of missing data in each column."
   ]
  },
  {
   "cell_type": "markdown",
   "id": "cd0b315a-5654-40ed-b91e-7813223a80ec",
   "metadata": {},
   "source": [
    "The `map_df()` function revealed that there were 75 NA's in the `arrival_delay_in_minutes` column. Because there were only a few rows with missing data (i.e., 75 rows), we felt comfortable dropping them as they likely wouldn't affect our k-nn analysis. As such, we used the `drop_na` function to remove the rows with an NA in the `arrival_delay_in_minutes` column."
   ]
  },
  {
   "cell_type": "code",
   "execution_count": 8,
   "id": "6a1e3c1a-4649-4eaa-a48d-8b594b6ffb1a",
   "metadata": {
    "tags": []
   },
   "outputs": [
    {
     "data": {
      "text/html": [
       "<table class=\"dataframe\">\n",
       "<caption>A tibble: 1 × 1</caption>\n",
       "<thead>\n",
       "\t<tr><th scope=col>total_na</th></tr>\n",
       "\t<tr><th scope=col>&lt;int&gt;</th></tr>\n",
       "</thead>\n",
       "<tbody>\n",
       "\t<tr><td>0</td></tr>\n",
       "</tbody>\n",
       "</table>\n"
      ],
      "text/latex": [
       "A tibble: 1 × 1\n",
       "\\begin{tabular}{l}\n",
       " total\\_na\\\\\n",
       " <int>\\\\\n",
       "\\hline\n",
       "\t 0\\\\\n",
       "\\end{tabular}\n"
      ],
      "text/markdown": [
       "\n",
       "A tibble: 1 × 1\n",
       "\n",
       "| total_na &lt;int&gt; |\n",
       "|---|\n",
       "| 0 |\n",
       "\n"
      ],
      "text/plain": [
       "  total_na\n",
       "1 0       "
      ]
     },
     "metadata": {},
     "output_type": "display_data"
    },
    {
     "data": {
      "text/html": [
       "25901"
      ],
      "text/latex": [
       "25901"
      ],
      "text/markdown": [
       "25901"
      ],
      "text/plain": [
       "[1] 25901"
      ]
     },
     "metadata": {},
     "output_type": "display_data"
    }
   ],
   "source": [
    "airplane_data_cleaned <- airplane_data_cleaned |> drop_na()\n",
    "as_tibble(sum(is.na(airplane_data_cleaned))) |> \n",
    "    rename(total_na = value)\n",
    "nrow(airplane_data_cleaned)"
   ]
  },
  {
   "cell_type": "markdown",
   "id": "77096849-c9a7-4e63-8d28-a793686d9b37",
   "metadata": {},
   "source": [
    "<font size= '2'> **Table 3:** Using the `as_tibble` function in conjunction with`sum(is.na()` and `rename()` created a table of the total NA's in our dataset. As expected, there are now zero NA's in our data set. Additionally, `nrow()` reveals that our dataset has been reduced from 25976 rows to 25901 rows—consistent with the removal of the 75 rows with NA's."
   ]
  },
  {
   "cell_type": "markdown",
   "id": "4093c455-a492-410a-ad6e-1c25efacec8c",
   "metadata": {
    "tags": []
   },
   "source": [
    "Finally, given that we want to predict the `satisfaction` label of a given observation, we converted the `satisfacation` column from a character class to the factor datatype."
   ]
  },
  {
   "cell_type": "code",
   "execution_count": 9,
   "id": "03eb9b9e-abd0-4a4f-bf33-e36c9db8ec10",
   "metadata": {
    "tags": []
   },
   "outputs": [
    {
     "data": {
      "text/html": [
       "'factor'"
      ],
      "text/latex": [
       "'factor'"
      ],
      "text/markdown": [
       "'factor'"
      ],
      "text/plain": [
       "[1] \"factor\""
      ]
     },
     "metadata": {},
     "output_type": "display_data"
    }
   ],
   "source": [
    "airplane_data_cleaned <- airplane_data_cleaned|> \n",
    "                      mutate(satisfaction = as_factor(satisfaction))\n",
    "class(airplane_data_cleaned$satisfaction)"
   ]
  },
  {
   "cell_type": "markdown",
   "id": "e03e5cba-485b-4b31-8dac-470cb59d3814",
   "metadata": {
    "tags": []
   },
   "source": [
    "The `class` function confirms that the `satisfaction` column is now a factor datatype."
   ]
  },
  {
   "cell_type": "markdown",
   "id": "8fa8a1dc-56c0-4a58-ab21-967c09c72515",
   "metadata": {},
   "source": [
    "### Splitting airplane_cleaned_data into training and test sets <a name=\"splitting\"></a>"
   ]
  },
  {
   "cell_type": "markdown",
   "id": "dacca0e3-b550-498f-8261-27d2be8e9765",
   "metadata": {},
   "source": [
    "Once the airplane data set was cleaned, we split it into our training and test sets using the `initial_split()` function. By setting the `strata` argument to `satisfaction`, we ensure that the data is stratified by the `satisfaction` variable. Furthermore, setting `prop = 0.75` ensures that 75% of the original data set ends up in the training set. In addition, `initial_split()` ensures that the proportions between observations that are either a) satisfied or b) neutral or dissatisfied are the same for both training and test sets. \n",
    "\n",
    "We assigned the training and test sets to `airplane_train` and `airplane_test`, respectively."
   ]
  },
  {
   "cell_type": "code",
   "execution_count": 10,
   "id": "6fd86c39-624e-472d-bf22-ff0ab543b502",
   "metadata": {
    "tags": []
   },
   "outputs": [],
   "source": [
    "set.seed(1234)\n",
    "\n",
    "airplane_split <- initial_split(airplane_data_cleaned, prop = 0.75, strata = satisfaction)\n",
    "airplane_train <- training(airplane_split)\n",
    "airplane_test <- testing(airplane_split)"
   ]
  },
  {
   "cell_type": "markdown",
   "id": "5ef0c95e-c1ef-4fc4-a28c-15a85282f132",
   "metadata": {},
   "source": [
    "### Exploring the training set"
   ]
  },
  {
   "cell_type": "markdown",
   "id": "51f0747f-0f45-429f-9dbc-d2474bdb7890",
   "metadata": {},
   "source": [
    "As part of the exploratory data analysis, we calculated the count and percentage of satisfied and netural or dissatisfied observations in the training set. To accomplish this, we used the `group_by()` function in conjunction with`summarize()`. "
   ]
  },
  {
   "cell_type": "code",
   "execution_count": 11,
   "id": "8e2e2c89-9032-4fa9-ba10-4eb8142f74db",
   "metadata": {
    "tags": []
   },
   "outputs": [
    {
     "data": {
      "text/html": [
       "<table class=\"dataframe\">\n",
       "<caption>A tibble: 2 × 3</caption>\n",
       "<thead>\n",
       "\t<tr><th scope=col>satisfaction</th><th scope=col>count</th><th scope=col>percentage</th></tr>\n",
       "\t<tr><th scope=col>&lt;fct&gt;</th><th scope=col>&lt;int&gt;</th><th scope=col>&lt;dbl&gt;</th></tr>\n",
       "</thead>\n",
       "<tbody>\n",
       "\t<tr><td>satisfied              </td><td> 8380</td><td>43.14028</td></tr>\n",
       "\t<tr><td>neutral or dissatisfied</td><td>11045</td><td>56.85972</td></tr>\n",
       "</tbody>\n",
       "</table>\n"
      ],
      "text/latex": [
       "A tibble: 2 × 3\n",
       "\\begin{tabular}{lll}\n",
       " satisfaction & count & percentage\\\\\n",
       " <fct> & <int> & <dbl>\\\\\n",
       "\\hline\n",
       "\t satisfied               &  8380 & 43.14028\\\\\n",
       "\t neutral or dissatisfied & 11045 & 56.85972\\\\\n",
       "\\end{tabular}\n"
      ],
      "text/markdown": [
       "\n",
       "A tibble: 2 × 3\n",
       "\n",
       "| satisfaction &lt;fct&gt; | count &lt;int&gt; | percentage &lt;dbl&gt; |\n",
       "|---|---|---|\n",
       "| satisfied               |  8380 | 43.14028 |\n",
       "| neutral or dissatisfied | 11045 | 56.85972 |\n",
       "\n"
      ],
      "text/plain": [
       "  satisfaction            count percentage\n",
       "1 satisfied                8380 43.14028  \n",
       "2 neutral or dissatisfied 11045 56.85972  "
      ]
     },
     "metadata": {},
     "output_type": "display_data"
    }
   ],
   "source": [
    "num_obs <- nrow(airplane_train)\n",
    "airplane_train |> \n",
    "    group_by(satisfaction) |>\n",
    "    summarize(\n",
    "            count = n(),\n",
    "            percentage = n() / num_obs * 100\n",
    "              )"
   ]
  },
  {
   "cell_type": "markdown",
   "id": "cc13ba27-b9f4-48f7-b8b7-b12125965d15",
   "metadata": {},
   "source": [
    "<font size= '2'> **Table 4:** The count and percentage of observations in the training set grouped by satisfaction."
   ]
  },
  {
   "cell_type": "markdown",
   "id": "90ccc4f0-cf05-4106-a513-c63a7439b184",
   "metadata": {},
   "source": [
    "The above table reveals that we have 8380 (~ 43.14%) observations that were classified as satisfied and 11045 (~ 56.86%) that were classified as neutral or dissatisfied. Indeed, it looks like there are slightly more passengers who are neutral or dissatisfied with their airline experience compared to passengers who are satisfied.\n",
    "\n",
    "<mark>**TODO: Mention Balancing**<mark> "
   ]
  },
  {
   "cell_type": "markdown",
   "id": "378ca7b2-90c3-409c-9067-47854f31aeb7",
   "metadata": {},
   "source": [
    "Furthermore, we examined the means of each potential predictor variable. Aside from `departure_delay_in_minutes` and `arrival_delay_in_minutes`, each variable is discrete and includes each passenger's satisfaction level for a given airline service on a scale of 1-5. Thus, a higher mean would indicate that many passengers were highly satisfied with the service. This information helped with deciding which predictor variable to include in our knn analysis because if more people were satisfied with one service compared to another, that might play a larger role in whether they were classified as `satisfied` or `neutral or dissatisfied`.\n",
    "\n",
    "To find the means , we used the `map_df()` function and `pivot_longer()` to reorganize the data to create a column for the variable name and another column with the variable's respective mean. We then used `arranged(desc(mean))` to arrange the dataframe by the mean."
   ]
  },
  {
   "cell_type": "code",
   "execution_count": 12,
   "id": "0daf1dab-ea71-4ac2-93bc-7acb5889df05",
   "metadata": {
    "tags": []
   },
   "outputs": [
    {
     "data": {
      "text/html": [
       "<table class=\"dataframe\">\n",
       "<caption>A tibble: 14 × 2</caption>\n",
       "<thead>\n",
       "\t<tr><th scope=col>variable</th><th scope=col>mean</th></tr>\n",
       "\t<tr><th scope=col>&lt;chr&gt;</th><th scope=col>&lt;dbl&gt;</th></tr>\n",
       "</thead>\n",
       "<tbody>\n",
       "\t<tr><td>inflight_service                 </td><td>3.636036</td></tr>\n",
       "\t<tr><td>baggage_handling                 </td><td>3.627490</td></tr>\n",
       "\t<tr><td>seat_comfort                     </td><td>3.436808</td></tr>\n",
       "\t<tr><td>on_board_service                 </td><td>3.383938</td></tr>\n",
       "\t<tr><td>inflight_entertainment           </td><td>3.357220</td></tr>\n",
       "\t<tr><td>leg_room_service                 </td><td>3.339356</td></tr>\n",
       "\t<tr><td>checkin_service                  </td><td>3.295959</td></tr>\n",
       "\t<tr><td>cleanliness                      </td><td>3.283552</td></tr>\n",
       "\t<tr><td>online_boarding                  </td><td>3.243501</td></tr>\n",
       "\t<tr><td>food_and_drink                   </td><td>3.206795</td></tr>\n",
       "\t<tr><td>departure_arrival_time_convenient</td><td>3.042831</td></tr>\n",
       "\t<tr><td>gate_location                    </td><td>2.982548</td></tr>\n",
       "\t<tr><td>ease_of_online_booking           </td><td>2.745431</td></tr>\n",
       "\t<tr><td>inflight_wifi_service            </td><td>2.719279</td></tr>\n",
       "</tbody>\n",
       "</table>\n"
      ],
      "text/latex": [
       "A tibble: 14 × 2\n",
       "\\begin{tabular}{ll}\n",
       " variable & mean\\\\\n",
       " <chr> & <dbl>\\\\\n",
       "\\hline\n",
       "\t inflight\\_service                  & 3.636036\\\\\n",
       "\t baggage\\_handling                  & 3.627490\\\\\n",
       "\t seat\\_comfort                      & 3.436808\\\\\n",
       "\t on\\_board\\_service                  & 3.383938\\\\\n",
       "\t inflight\\_entertainment            & 3.357220\\\\\n",
       "\t leg\\_room\\_service                  & 3.339356\\\\\n",
       "\t checkin\\_service                   & 3.295959\\\\\n",
       "\t cleanliness                       & 3.283552\\\\\n",
       "\t online\\_boarding                   & 3.243501\\\\\n",
       "\t food\\_and\\_drink                    & 3.206795\\\\\n",
       "\t departure\\_arrival\\_time\\_convenient & 3.042831\\\\\n",
       "\t gate\\_location                     & 2.982548\\\\\n",
       "\t ease\\_of\\_online\\_booking            & 2.745431\\\\\n",
       "\t inflight\\_wifi\\_service             & 2.719279\\\\\n",
       "\\end{tabular}\n"
      ],
      "text/markdown": [
       "\n",
       "A tibble: 14 × 2\n",
       "\n",
       "| variable &lt;chr&gt; | mean &lt;dbl&gt; |\n",
       "|---|---|\n",
       "| inflight_service                  | 3.636036 |\n",
       "| baggage_handling                  | 3.627490 |\n",
       "| seat_comfort                      | 3.436808 |\n",
       "| on_board_service                  | 3.383938 |\n",
       "| inflight_entertainment            | 3.357220 |\n",
       "| leg_room_service                  | 3.339356 |\n",
       "| checkin_service                   | 3.295959 |\n",
       "| cleanliness                       | 3.283552 |\n",
       "| online_boarding                   | 3.243501 |\n",
       "| food_and_drink                    | 3.206795 |\n",
       "| departure_arrival_time_convenient | 3.042831 |\n",
       "| gate_location                     | 2.982548 |\n",
       "| ease_of_online_booking            | 2.745431 |\n",
       "| inflight_wifi_service             | 2.719279 |\n",
       "\n"
      ],
      "text/plain": [
       "   variable                          mean    \n",
       "1  inflight_service                  3.636036\n",
       "2  baggage_handling                  3.627490\n",
       "3  seat_comfort                      3.436808\n",
       "4  on_board_service                  3.383938\n",
       "5  inflight_entertainment            3.357220\n",
       "6  leg_room_service                  3.339356\n",
       "7  checkin_service                   3.295959\n",
       "8  cleanliness                       3.283552\n",
       "9  online_boarding                   3.243501\n",
       "10 food_and_drink                    3.206795\n",
       "11 departure_arrival_time_convenient 3.042831\n",
       "12 gate_location                     2.982548\n",
       "13 ease_of_online_booking            2.745431\n",
       "14 inflight_wifi_service             2.719279"
      ]
     },
     "metadata": {},
     "output_type": "display_data"
    }
   ],
   "source": [
    "airplane_means <- airplane_train |>\n",
    "    select(-satisfaction) |>\n",
    "    map_df(mean)   \n",
    "airplane_means |>\n",
    "    select(-departure_delay_in_minutes, -arrival_delay_in_minutes) |>\n",
    "    pivot_longer(1:14, names_to = \"variable\", values_to = \"mean\") |>\n",
    "    arrange(desc(mean))"
   ]
  },
  {
   "cell_type": "markdown",
   "id": "573f37c2-6b8f-4555-a57c-5a4cfd90f1f2",
   "metadata": {},
   "source": [
    "<font size= '2'> **Table 5:** The means of each discrete predictor variable arranged in descending order by mean"
   ]
  },
  {
   "cell_type": "markdown",
   "id": "a1276540-a496-4821-bfef-2f7921ba37ff",
   "metadata": {
    "tags": []
   },
   "source": [
    "As indicated by Table 5, it looks like passengers were on average most satisfied with the airline's `inflight_service`, `baggage_handling`, and `seat_comfort`. \n",
    "\n",
    "<mark> **TODO: Potentially include citation about how these are generally more important than other predictors???**<mark> "
   ]
  },
  {
   "cell_type": "markdown",
   "id": "56993726-22da-4f93-8b3c-953e62602f66",
   "metadata": {},
   "source": [
    "VISUALIZING THE TOP 3 "
   ]
  },
  {
   "cell_type": "markdown",
   "id": "87475db3-a237-495c-9943-ec0edd9b8707",
   "metadata": {},
   "source": [
    "Now that we've looked at the discrete variables, what about the remaining continuous variables? Again, we used the `map_df()` function to help us find the means of the `departure_delay_in_minutes` and `arrival_delay_in_minutes` variables."
   ]
  },
  {
   "cell_type": "markdown",
   "id": "9fa57699-5f31-432c-9cf1-bf4c07ce69f0",
   "metadata": {},
   "source": [
    "## Methods: Performing *K*-Nearest Neighbors Classification"
   ]
  },
  {
   "cell_type": "markdown",
   "id": "14ad65e7-42ae-434d-916c-f27d1a9210f5",
   "metadata": {},
   "source": [
    "### 1) Creating a recipe and the nearest_neighbors model specification for cross-validation"
   ]
  },
  {
   "cell_type": "markdown",
   "id": "8254d679-e18c-4ff5-a1dd-228f21acc996",
   "metadata": {},
   "source": [
    "As part of building our classifier, we first preprocessed the airplane_train data by creating a recipe that standardizes the data. We then created our model specification setting `neighbors = tune())` since we will be first performing 10-fold cross validation to choose the best *K*."
   ]
  },
  {
   "cell_type": "code",
   "execution_count": 13,
   "id": "8961a612-f265-4869-983f-7bf12069d203",
   "metadata": {
    "tags": []
   },
   "outputs": [],
   "source": [
    "airplane_recipe <- recipe(satisfaction ~ inflight_service + baggage_handling + seat_comfort + departure_delay_in_minutes + arrival_delay_in_minutes, \n",
    "                          data = airplane_train) |>\n",
    "                          step_scale(all_predictors()) |>\n",
    "                          step_center(all_predictors())\n",
    "\n",
    "knn_spec_tune <- nearest_neighbor(weight_func = \"rectangular\", neighbors = tune()) |>\n",
    "                 set_engine(\"kknn\") |>\n",
    "                 set_mode(\"classification\")"
   ]
  },
  {
   "cell_type": "markdown",
   "id": "a0b28a54-5a1a-4b00-91d7-bfdb3b49d541",
   "metadata": {},
   "source": [
    "### 2) Performing 10-fold cross validation to choose *K*"
   ]
  },
  {
   "cell_type": "markdown",
   "id": "63ceb844-6d8d-40e6-93c4-9bb530b4d5ae",
   "metadata": {},
   "source": [
    "Below we used the `vfold_cv()` function to split our training data into 10 folds, stratifying by `satisfaction`. We set the seed to 1234 to ensure that we get the same folds everytime the code is run.\n",
    "\n",
    "To actually perform the cross-validation, we first created a data frame `k_vals` containing values from 1 to 100. Next, we created a workflow passing `airplane_vfold` to the `resamples` argument and the`k_vals` dataframe to the `grid` argument of `tune_grid()`. We also added our recipe: `airplane_recipe` and model specification: `knn_spec_tune` into the workflow."
   ]
  },
  {
   "cell_type": "code",
   "execution_count": 16,
   "id": "43fbc7f8-f46f-4160-828f-919c2581a2ee",
   "metadata": {
    "tags": []
   },
   "outputs": [
    {
     "data": {
      "text/html": [
       "<table class=\"dataframe\">\n",
       "<caption>A tibble: 6 × 2</caption>\n",
       "<thead>\n",
       "\t<tr><th scope=col>neighbors</th><th scope=col>mean</th></tr>\n",
       "\t<tr><th scope=col>&lt;dbl&gt;</th><th scope=col>&lt;dbl&gt;</th></tr>\n",
       "</thead>\n",
       "<tbody>\n",
       "\t<tr><td>26</td><td>0.6491111</td></tr>\n",
       "\t<tr><td>21</td><td>0.6489050</td></tr>\n",
       "\t<tr><td>31</td><td>0.6485447</td></tr>\n",
       "\t<tr><td>36</td><td>0.6482358</td></tr>\n",
       "\t<tr><td>41</td><td>0.6457136</td></tr>\n",
       "\t<tr><td>46</td><td>0.6454046</td></tr>\n",
       "</tbody>\n",
       "</table>\n"
      ],
      "text/latex": [
       "A tibble: 6 × 2\n",
       "\\begin{tabular}{ll}\n",
       " neighbors & mean\\\\\n",
       " <dbl> & <dbl>\\\\\n",
       "\\hline\n",
       "\t 26 & 0.6491111\\\\\n",
       "\t 21 & 0.6489050\\\\\n",
       "\t 31 & 0.6485447\\\\\n",
       "\t 36 & 0.6482358\\\\\n",
       "\t 41 & 0.6457136\\\\\n",
       "\t 46 & 0.6454046\\\\\n",
       "\\end{tabular}\n"
      ],
      "text/markdown": [
       "\n",
       "A tibble: 6 × 2\n",
       "\n",
       "| neighbors &lt;dbl&gt; | mean &lt;dbl&gt; |\n",
       "|---|---|\n",
       "| 26 | 0.6491111 |\n",
       "| 21 | 0.6489050 |\n",
       "| 31 | 0.6485447 |\n",
       "| 36 | 0.6482358 |\n",
       "| 41 | 0.6457136 |\n",
       "| 46 | 0.6454046 |\n",
       "\n"
      ],
      "text/plain": [
       "  neighbors mean     \n",
       "1 26        0.6491111\n",
       "2 21        0.6489050\n",
       "3 31        0.6485447\n",
       "4 36        0.6482358\n",
       "5 41        0.6457136\n",
       "6 46        0.6454046"
      ]
     },
     "metadata": {},
     "output_type": "display_data"
    }
   ],
   "source": [
    "set.seed(1234)\n",
    "\n",
    "airplane_vfold <- vfold_cv(airplane_train, v = 10, strata = satisfaction)\n",
    "\n",
    "k_vals <- tibble(neighbors = seq(from = 1, to = 100, by = 5))\n",
    "\n",
    "knn_results <- workflow() |>\n",
    "               add_recipe(airplane_recipe) |>\n",
    "               add_model(knn_spec_tune) |>\n",
    "               tune_grid(resamples = airplane_vfold, grid = k_vals) |>\n",
    "               collect_metrics()\n",
    "\n",
    "accuracies <- knn_results |>\n",
    "               filter(.metric == \"accuracy\") |>\n",
    "               select(neighbors, mean) |>\n",
    "               arrange(desc(mean))\n",
    "\n",
    "head(accuracies)"
   ]
  },
  {
   "cell_type": "markdown",
   "id": "784c20be-3490-40f9-9bf4-8ace7bd99ff5",
   "metadata": {},
   "source": [
    "**ADD TEXT**"
   ]
  },
  {
   "cell_type": "code",
   "execution_count": 17,
   "id": "977e0265-b5d4-4bf2-9405-4b67c91926de",
   "metadata": {
    "tags": []
   },
   "outputs": [
    {
     "data": {
      "application/pdf": "[encoded data removed]",
      "image/jpeg": "[encoded data removed]",
      "image/png": "[encoded data removed]",
      "image/svg+xml": [
       "<?xml version=\"1.0\" encoding=\"UTF-8\"?>\n",
       "<svg xmlns=\"http://www.w3.org/2000/svg\" xmlns:xlink=\"http://www.w3.org/1999/xlink\" width=\"504pt\" height=\"504pt\" viewBox=\"0 0 504 504\" version=\"1.1\">\n",
       "<defs>\n",
       "<g>\n",
       "<symbol overflow=\"visible\" id=\"glyph0-0\">\n",
       "<path style=\"stroke:none;\" d=\"M 0.3125 0 L 0.3125 -6.390625 L 2.859375 -6.390625 L 2.859375 0 Z M 0.640625 -0.3125 L 2.546875 -0.3125 L 2.546875 -6.078125 L 0.640625 -6.078125 Z M 0.640625 -0.3125 \"/>\n",
       "</symbol>\n",
       "<symbol overflow=\"visible\" id=\"glyph0-1\">\n",
       "<path style=\"stroke:none;\" d=\"M 4.953125 -3.296875 C 4.953125 -2.671875 4.890625 -2.140625 4.765625 -1.703125 C 4.648438 -1.265625 4.488281 -0.910156 4.28125 -0.640625 C 4.082031 -0.378906 3.84375 -0.191406 3.5625 -0.078125 C 3.28125 0.0351562 2.976562 0.09375 2.65625 0.09375 C 2.332031 0.09375 2.03125 0.0351562 1.75 -0.078125 C 1.476562 -0.191406 1.238281 -0.378906 1.03125 -0.640625 C 0.820312 -0.910156 0.660156 -1.257812 0.546875 -1.6875 C 0.429688 -2.125 0.375 -2.660156 0.375 -3.296875 C 0.375 -3.960938 0.429688 -4.515625 0.546875 -4.953125 C 0.660156 -5.390625 0.820312 -5.738281 1.03125 -6 C 1.238281 -6.257812 1.484375 -6.441406 1.765625 -6.546875 C 2.046875 -6.648438 2.351562 -6.703125 2.6875 -6.703125 C 3 -6.703125 3.289062 -6.648438 3.5625 -6.546875 C 3.84375 -6.441406 4.085938 -6.257812 4.296875 -6 C 4.503906 -5.738281 4.664062 -5.390625 4.78125 -4.953125 C 4.894531 -4.515625 4.953125 -3.960938 4.953125 -3.296875 Z M 4.109375 -3.296875 C 4.109375 -3.828125 4.078125 -4.265625 4.015625 -4.609375 C 3.953125 -4.960938 3.859375 -5.238281 3.734375 -5.4375 C 3.609375 -5.644531 3.457031 -5.789062 3.28125 -5.875 C 3.101562 -5.96875 2.90625 -6.015625 2.6875 -6.015625 C 2.445312 -6.015625 2.234375 -5.96875 2.046875 -5.875 C 1.867188 -5.789062 1.71875 -5.644531 1.59375 -5.4375 C 1.476562 -5.226562 1.390625 -4.945312 1.328125 -4.59375 C 1.265625 -4.25 1.234375 -3.816406 1.234375 -3.296875 C 1.234375 -2.796875 1.265625 -2.367188 1.328125 -2.015625 C 1.390625 -1.671875 1.484375 -1.394531 1.609375 -1.1875 C 1.734375 -0.976562 1.882812 -0.828125 2.0625 -0.734375 C 2.238281 -0.640625 2.441406 -0.59375 2.671875 -0.59375 C 2.890625 -0.59375 3.085938 -0.640625 3.265625 -0.734375 C 3.441406 -0.828125 3.59375 -0.976562 3.71875 -1.1875 C 3.84375 -1.394531 3.9375 -1.671875 4 -2.015625 C 4.070312 -2.367188 4.109375 -2.796875 4.109375 -3.296875 Z M 4.109375 -3.296875 \"/>\n",
       "</symbol>\n",
       "<symbol overflow=\"visible\" id=\"glyph0-2\">\n",
       "<path style=\"stroke:none;\" d=\"M 0.875 0 L 0.875 -1.03125 L 1.796875 -1.03125 L 1.796875 0 Z M 0.875 0 \"/>\n",
       "</symbol>\n",
       "<symbol overflow=\"visible\" id=\"glyph0-3\">\n",
       "<path style=\"stroke:none;\" d=\"M 4.90625 -2.15625 C 4.90625 -1.820312 4.859375 -1.515625 4.765625 -1.234375 C 4.679688 -0.960938 4.546875 -0.726562 4.359375 -0.53125 C 4.179688 -0.332031 3.957031 -0.175781 3.6875 -0.0625 C 3.425781 0.0390625 3.125 0.09375 2.78125 0.09375 C 2.394531 0.09375 2.054688 0.0195312 1.765625 -0.125 C 1.484375 -0.269531 1.242188 -0.476562 1.046875 -0.75 C 0.859375 -1.03125 0.71875 -1.367188 0.625 -1.765625 C 0.53125 -2.171875 0.484375 -2.628906 0.484375 -3.140625 C 0.484375 -3.734375 0.535156 -4.25 0.640625 -4.6875 C 0.753906 -5.132812 0.910156 -5.503906 1.109375 -5.796875 C 1.316406 -6.097656 1.566406 -6.320312 1.859375 -6.46875 C 2.148438 -6.625 2.476562 -6.703125 2.84375 -6.703125 C 3.070312 -6.703125 3.285156 -6.675781 3.484375 -6.625 C 3.679688 -6.582031 3.859375 -6.507812 4.015625 -6.40625 C 4.179688 -6.300781 4.320312 -6.160156 4.4375 -5.984375 C 4.5625 -5.816406 4.660156 -5.609375 4.734375 -5.359375 L 3.921875 -5.203125 C 3.835938 -5.492188 3.695312 -5.703125 3.5 -5.828125 C 3.3125 -5.953125 3.09375 -6.015625 2.84375 -6.015625 C 2.601562 -6.015625 2.390625 -5.957031 2.203125 -5.84375 C 2.023438 -5.738281 1.867188 -5.578125 1.734375 -5.359375 C 1.597656 -5.140625 1.492188 -4.863281 1.421875 -4.53125 C 1.359375 -4.207031 1.328125 -3.828125 1.328125 -3.390625 C 1.484375 -3.679688 1.695312 -3.898438 1.96875 -4.046875 C 2.25 -4.191406 2.566406 -4.265625 2.921875 -4.265625 C 3.222656 -4.265625 3.492188 -4.21875 3.734375 -4.125 C 3.984375 -4.03125 4.191406 -3.890625 4.359375 -3.703125 C 4.535156 -3.515625 4.671875 -3.289062 4.765625 -3.03125 C 4.859375 -2.769531 4.90625 -2.476562 4.90625 -2.15625 Z M 4.0625 -2.125 C 4.0625 -2.351562 4.03125 -2.554688 3.96875 -2.734375 C 3.914062 -2.921875 3.832031 -3.078125 3.71875 -3.203125 C 3.601562 -3.335938 3.460938 -3.4375 3.296875 -3.5 C 3.128906 -3.570312 2.9375 -3.609375 2.71875 -3.609375 C 2.570312 -3.609375 2.421875 -3.585938 2.265625 -3.546875 C 2.109375 -3.503906 1.96875 -3.429688 1.84375 -3.328125 C 1.71875 -3.222656 1.613281 -3.085938 1.53125 -2.921875 C 1.445312 -2.753906 1.40625 -2.554688 1.40625 -2.328125 C 1.40625 -2.078125 1.4375 -1.847656 1.5 -1.640625 C 1.5625 -1.429688 1.648438 -1.25 1.765625 -1.09375 C 1.890625 -0.9375 2.03125 -0.8125 2.1875 -0.71875 C 2.351562 -0.625 2.539062 -0.578125 2.75 -0.578125 C 2.957031 -0.578125 3.140625 -0.613281 3.296875 -0.6875 C 3.460938 -0.757812 3.597656 -0.859375 3.703125 -0.984375 C 3.816406 -1.117188 3.90625 -1.28125 3.96875 -1.46875 C 4.03125 -1.664062 4.0625 -1.882812 4.0625 -2.125 Z M 4.0625 -2.125 \"/>\n",
       "</symbol>\n",
       "<symbol overflow=\"visible\" id=\"glyph0-4\">\n",
       "<path style=\"stroke:none;\" d=\"M 0.484375 0 L 0.484375 -0.59375 C 0.640625 -0.957031 0.832031 -1.28125 1.0625 -1.5625 C 1.289062 -1.84375 1.53125 -2.09375 1.78125 -2.3125 C 2.039062 -2.539062 2.289062 -2.75 2.53125 -2.9375 C 2.78125 -3.132812 3.003906 -3.332031 3.203125 -3.53125 C 3.410156 -3.726562 3.578125 -3.929688 3.703125 -4.140625 C 3.828125 -4.347656 3.890625 -4.585938 3.890625 -4.859375 C 3.890625 -5.046875 3.859375 -5.207031 3.796875 -5.34375 C 3.742188 -5.488281 3.660156 -5.609375 3.546875 -5.703125 C 3.441406 -5.804688 3.316406 -5.878906 3.171875 -5.921875 C 3.023438 -5.972656 2.859375 -6 2.671875 -6 C 2.503906 -6 2.347656 -5.972656 2.203125 -5.921875 C 2.054688 -5.878906 1.925781 -5.8125 1.8125 -5.71875 C 1.695312 -5.625 1.601562 -5.507812 1.53125 -5.375 C 1.457031 -5.238281 1.40625 -5.078125 1.375 -4.890625 L 0.515625 -4.96875 C 0.546875 -5.207031 0.613281 -5.429688 0.71875 -5.640625 C 0.820312 -5.847656 0.960938 -6.03125 1.140625 -6.1875 C 1.328125 -6.34375 1.546875 -6.46875 1.796875 -6.5625 C 2.046875 -6.65625 2.335938 -6.703125 2.671875 -6.703125 C 3.003906 -6.703125 3.296875 -6.660156 3.546875 -6.578125 C 3.804688 -6.503906 4.023438 -6.390625 4.203125 -6.234375 C 4.378906 -6.078125 4.515625 -5.882812 4.609375 -5.65625 C 4.703125 -5.4375 4.75 -5.179688 4.75 -4.890625 C 4.75 -4.671875 4.707031 -4.457031 4.625 -4.25 C 4.550781 -4.050781 4.445312 -3.863281 4.3125 -3.6875 C 4.175781 -3.507812 4.019531 -3.332031 3.84375 -3.15625 C 3.675781 -2.988281 3.492188 -2.820312 3.296875 -2.65625 C 3.109375 -2.5 2.914062 -2.34375 2.71875 -2.1875 C 2.53125 -2.03125 2.347656 -1.867188 2.171875 -1.703125 C 2.003906 -1.546875 1.851562 -1.382812 1.71875 -1.21875 C 1.582031 -1.0625 1.476562 -0.894531 1.40625 -0.71875 L 4.859375 -0.71875 L 4.859375 0 Z M 0.484375 0 \"/>\n",
       "</symbol>\n",
       "<symbol overflow=\"visible\" id=\"glyph0-5\">\n",
       "<path style=\"stroke:none;\" d=\"M 4.125 -1.5 L 4.125 0 L 3.328125 0 L 3.328125 -1.5 L 0.21875 -1.5 L 0.21875 -2.15625 L 3.234375 -6.59375 L 4.125 -6.59375 L 4.125 -2.15625 L 5.046875 -2.15625 L 5.046875 -1.5 Z M 3.328125 -5.65625 C 3.328125 -5.632812 3.3125 -5.597656 3.28125 -5.546875 C 3.257812 -5.503906 3.234375 -5.457031 3.203125 -5.40625 C 3.171875 -5.351562 3.132812 -5.296875 3.09375 -5.234375 C 3.0625 -5.171875 3.035156 -5.125 3.015625 -5.09375 L 1.328125 -2.59375 C 1.304688 -2.570312 1.28125 -2.539062 1.25 -2.5 C 1.226562 -2.457031 1.203125 -2.414062 1.171875 -2.375 C 1.140625 -2.332031 1.109375 -2.289062 1.078125 -2.25 C 1.046875 -2.207031 1.019531 -2.175781 1 -2.15625 L 3.328125 -2.15625 Z M 3.328125 -5.65625 \"/>\n",
       "</symbol>\n",
       "<symbol overflow=\"visible\" id=\"glyph0-6\">\n",
       "<path style=\"stroke:none;\" d=\"M 4.9375 -2.15625 C 4.9375 -1.820312 4.882812 -1.515625 4.78125 -1.234375 C 4.6875 -0.960938 4.539062 -0.726562 4.34375 -0.53125 C 4.144531 -0.332031 3.898438 -0.175781 3.609375 -0.0625 C 3.316406 0.0390625 2.976562 0.09375 2.59375 0.09375 C 2.25 0.09375 1.945312 0.0507812 1.6875 -0.03125 C 1.425781 -0.113281 1.207031 -0.222656 1.03125 -0.359375 C 0.851562 -0.503906 0.710938 -0.671875 0.609375 -0.859375 C 0.503906 -1.046875 0.429688 -1.25 0.390625 -1.46875 L 1.234375 -1.578125 C 1.265625 -1.453125 1.3125 -1.328125 1.375 -1.203125 C 1.4375 -1.085938 1.519531 -0.984375 1.625 -0.890625 C 1.738281 -0.804688 1.875 -0.734375 2.03125 -0.671875 C 2.1875 -0.617188 2.378906 -0.59375 2.609375 -0.59375 C 2.828125 -0.59375 3.023438 -0.625 3.203125 -0.6875 C 3.378906 -0.757812 3.53125 -0.859375 3.65625 -0.984375 C 3.78125 -1.117188 3.878906 -1.28125 3.953125 -1.46875 C 4.023438 -1.664062 4.0625 -1.882812 4.0625 -2.125 C 4.0625 -2.332031 4.023438 -2.519531 3.953125 -2.6875 C 3.890625 -2.863281 3.796875 -3.007812 3.671875 -3.125 C 3.554688 -3.25 3.410156 -3.34375 3.234375 -3.40625 C 3.054688 -3.476562 2.851562 -3.515625 2.625 -3.515625 C 2.488281 -3.515625 2.359375 -3.503906 2.234375 -3.484375 C 2.117188 -3.460938 2.007812 -3.425781 1.90625 -3.375 C 1.800781 -3.332031 1.707031 -3.28125 1.625 -3.21875 C 1.550781 -3.164062 1.476562 -3.109375 1.40625 -3.046875 L 0.578125 -3.046875 L 0.796875 -6.59375 L 4.546875 -6.59375 L 4.546875 -5.890625 L 1.5625 -5.890625 L 1.4375 -3.796875 C 1.582031 -3.910156 1.769531 -4.007812 2 -4.09375 C 2.226562 -4.175781 2.492188 -4.21875 2.796875 -4.21875 C 3.128906 -4.21875 3.425781 -4.164062 3.6875 -4.0625 C 3.945312 -3.957031 4.171875 -3.8125 4.359375 -3.625 C 4.546875 -3.445312 4.6875 -3.234375 4.78125 -2.984375 C 4.882812 -2.734375 4.9375 -2.457031 4.9375 -2.15625 Z M 4.9375 -2.15625 \"/>\n",
       "</symbol>\n",
       "<symbol overflow=\"visible\" id=\"glyph0-7\">\n",
       "<path style=\"stroke:none;\" d=\"M 0.734375 0 L 0.734375 -0.71875 L 2.40625 -0.71875 L 2.40625 -5.796875 L 0.921875 -4.734375 L 0.921875 -5.53125 L 2.484375 -6.59375 L 3.265625 -6.59375 L 3.265625 -0.71875 L 4.859375 -0.71875 L 4.859375 0 Z M 0.734375 0 \"/>\n",
       "</symbol>\n",
       "<symbol overflow=\"visible\" id=\"glyph0-8\">\n",
       "<path style=\"stroke:none;\" d=\"M 4.90625 -1.828125 C 4.90625 -1.523438 4.859375 -1.253906 4.765625 -1.015625 C 4.671875 -0.773438 4.523438 -0.570312 4.328125 -0.40625 C 4.140625 -0.238281 3.90625 -0.113281 3.625 -0.03125 C 3.351562 0.0507812 3.035156 0.09375 2.671875 0.09375 C 2.265625 0.09375 1.921875 0.046875 1.640625 -0.046875 C 1.359375 -0.148438 1.125 -0.285156 0.9375 -0.453125 C 0.757812 -0.628906 0.625 -0.820312 0.53125 -1.03125 C 0.445312 -1.25 0.390625 -1.472656 0.359375 -1.703125 L 1.234375 -1.78125 C 1.265625 -1.601562 1.3125 -1.441406 1.375 -1.296875 C 1.4375 -1.148438 1.523438 -1.023438 1.640625 -0.921875 C 1.765625 -0.816406 1.910156 -0.738281 2.078125 -0.6875 C 2.242188 -0.632812 2.441406 -0.609375 2.671875 -0.609375 C 3.097656 -0.609375 3.429688 -0.710938 3.671875 -0.921875 C 3.910156 -1.128906 4.03125 -1.4375 4.03125 -1.84375 C 4.03125 -2.09375 3.976562 -2.289062 3.875 -2.4375 C 3.769531 -2.582031 3.632812 -2.695312 3.46875 -2.78125 C 3.3125 -2.863281 3.140625 -2.921875 2.953125 -2.953125 C 2.765625 -2.984375 2.585938 -3 2.421875 -3 L 1.953125 -3 L 1.953125 -3.71875 L 2.40625 -3.71875 C 2.5625 -3.71875 2.722656 -3.734375 2.890625 -3.765625 C 3.066406 -3.804688 3.226562 -3.867188 3.375 -3.953125 C 3.519531 -4.035156 3.632812 -4.148438 3.71875 -4.296875 C 3.8125 -4.441406 3.859375 -4.628906 3.859375 -4.859375 C 3.859375 -5.210938 3.753906 -5.488281 3.546875 -5.6875 C 3.335938 -5.894531 3.03125 -6 2.625 -6 C 2.257812 -6 1.957031 -5.90625 1.71875 -5.71875 C 1.488281 -5.53125 1.359375 -5.257812 1.328125 -4.90625 L 0.484375 -4.984375 C 0.515625 -5.273438 0.59375 -5.523438 0.71875 -5.734375 C 0.84375 -5.953125 1 -6.128906 1.1875 -6.265625 C 1.382812 -6.410156 1.601562 -6.519531 1.84375 -6.59375 C 2.09375 -6.664062 2.359375 -6.703125 2.640625 -6.703125 C 3.003906 -6.703125 3.316406 -6.65625 3.578125 -6.5625 C 3.847656 -6.46875 4.066406 -6.34375 4.234375 -6.1875 C 4.410156 -6.03125 4.535156 -5.84375 4.609375 -5.625 C 4.691406 -5.414062 4.734375 -5.191406 4.734375 -4.953125 C 4.734375 -4.753906 4.707031 -4.570312 4.65625 -4.40625 C 4.601562 -4.238281 4.519531 -4.085938 4.40625 -3.953125 C 4.289062 -3.816406 4.144531 -3.703125 3.96875 -3.609375 C 3.800781 -3.515625 3.59375 -3.441406 3.34375 -3.390625 L 3.34375 -3.375 C 3.613281 -3.34375 3.847656 -3.28125 4.046875 -3.1875 C 4.242188 -3.09375 4.40625 -2.976562 4.53125 -2.84375 C 4.65625 -2.707031 4.75 -2.550781 4.8125 -2.375 C 4.875 -2.195312 4.90625 -2.015625 4.90625 -1.828125 Z M 4.90625 -1.828125 \"/>\n",
       "</symbol>\n",
       "<symbol overflow=\"visible\" id=\"glyph0-9\">\n",
       "<path style=\"stroke:none;\" d=\"M 4.859375 -5.921875 C 4.523438 -5.410156 4.21875 -4.921875 3.9375 -4.453125 C 3.65625 -3.984375 3.414062 -3.515625 3.21875 -3.046875 C 3.019531 -2.578125 2.863281 -2.09375 2.75 -1.59375 C 2.644531 -1.09375 2.59375 -0.5625 2.59375 0 L 1.703125 0 C 1.703125 -0.53125 1.765625 -1.046875 1.890625 -1.546875 C 2.015625 -2.054688 2.179688 -2.554688 2.390625 -3.046875 C 2.609375 -3.535156 2.859375 -4.015625 3.140625 -4.484375 C 3.421875 -4.953125 3.71875 -5.421875 4.03125 -5.890625 L 0.484375 -5.890625 L 0.484375 -6.59375 L 4.859375 -6.59375 Z M 4.859375 -5.921875 \"/>\n",
       "</symbol>\n",
       "<symbol overflow=\"visible\" id=\"glyph0-10\">\n",
       "<path style=\"stroke:none;\" d=\"M 4.921875 -1.84375 C 4.921875 -1.5625 4.875 -1.300781 4.78125 -1.0625 C 4.695312 -0.832031 4.5625 -0.628906 4.375 -0.453125 C 4.195312 -0.285156 3.960938 -0.148438 3.671875 -0.046875 C 3.390625 0.046875 3.054688 0.09375 2.671875 0.09375 C 2.285156 0.09375 1.945312 0.046875 1.65625 -0.046875 C 1.375 -0.148438 1.140625 -0.285156 0.953125 -0.453125 C 0.773438 -0.617188 0.640625 -0.820312 0.546875 -1.0625 C 0.460938 -1.300781 0.421875 -1.554688 0.421875 -1.828125 C 0.421875 -2.066406 0.457031 -2.28125 0.53125 -2.46875 C 0.601562 -2.65625 0.695312 -2.816406 0.8125 -2.953125 C 0.9375 -3.085938 1.078125 -3.195312 1.234375 -3.28125 C 1.398438 -3.363281 1.566406 -3.421875 1.734375 -3.453125 L 1.734375 -3.46875 C 1.546875 -3.507812 1.378906 -3.578125 1.234375 -3.671875 C 1.085938 -3.773438 0.960938 -3.894531 0.859375 -4.03125 C 0.765625 -4.164062 0.691406 -4.316406 0.640625 -4.484375 C 0.597656 -4.648438 0.578125 -4.820312 0.578125 -5 C 0.578125 -5.238281 0.617188 -5.457031 0.703125 -5.65625 C 0.796875 -5.863281 0.925781 -6.046875 1.09375 -6.203125 C 1.269531 -6.359375 1.488281 -6.476562 1.75 -6.5625 C 2.007812 -6.65625 2.3125 -6.703125 2.65625 -6.703125 C 3.007812 -6.703125 3.316406 -6.65625 3.578125 -6.5625 C 3.847656 -6.46875 4.066406 -6.34375 4.234375 -6.1875 C 4.410156 -6.039062 4.539062 -5.863281 4.625 -5.65625 C 4.707031 -5.445312 4.75 -5.226562 4.75 -5 C 4.75 -4.820312 4.722656 -4.648438 4.671875 -4.484375 C 4.617188 -4.316406 4.546875 -4.164062 4.453125 -4.03125 C 4.359375 -3.894531 4.238281 -3.773438 4.09375 -3.671875 C 3.945312 -3.578125 3.773438 -3.515625 3.578125 -3.484375 L 3.578125 -3.46875 C 3.773438 -3.4375 3.953125 -3.378906 4.109375 -3.296875 C 4.273438 -3.210938 4.414062 -3.101562 4.53125 -2.96875 C 4.65625 -2.832031 4.75 -2.671875 4.8125 -2.484375 C 4.882812 -2.296875 4.921875 -2.082031 4.921875 -1.84375 Z M 3.875 -4.953125 C 3.875 -5.117188 3.851562 -5.269531 3.8125 -5.40625 C 3.769531 -5.539062 3.703125 -5.65625 3.609375 -5.75 C 3.515625 -5.851562 3.390625 -5.929688 3.234375 -5.984375 C 3.078125 -6.046875 2.882812 -6.078125 2.65625 -6.078125 C 2.425781 -6.078125 2.234375 -6.046875 2.078125 -5.984375 C 1.929688 -5.929688 1.804688 -5.851562 1.703125 -5.75 C 1.609375 -5.65625 1.539062 -5.539062 1.5 -5.40625 C 1.457031 -5.269531 1.4375 -5.117188 1.4375 -4.953125 C 1.4375 -4.816406 1.453125 -4.679688 1.484375 -4.546875 C 1.515625 -4.410156 1.578125 -4.285156 1.671875 -4.171875 C 1.765625 -4.054688 1.890625 -3.960938 2.046875 -3.890625 C 2.203125 -3.828125 2.40625 -3.796875 2.65625 -3.796875 C 2.925781 -3.796875 3.140625 -3.828125 3.296875 -3.890625 C 3.460938 -3.960938 3.585938 -4.054688 3.671875 -4.171875 C 3.753906 -4.285156 3.804688 -4.410156 3.828125 -4.546875 C 3.859375 -4.679688 3.875 -4.816406 3.875 -4.953125 Z M 4.046875 -1.921875 C 4.046875 -2.078125 4.019531 -2.226562 3.96875 -2.375 C 3.925781 -2.53125 3.851562 -2.664062 3.75 -2.78125 C 3.644531 -2.894531 3.5 -2.984375 3.3125 -3.046875 C 3.132812 -3.117188 2.914062 -3.15625 2.65625 -3.15625 C 2.40625 -3.15625 2.191406 -3.117188 2.015625 -3.046875 C 1.847656 -2.984375 1.707031 -2.890625 1.59375 -2.765625 C 1.488281 -2.648438 1.410156 -2.515625 1.359375 -2.359375 C 1.304688 -2.210938 1.28125 -2.0625 1.28125 -1.90625 C 1.28125 -1.695312 1.304688 -1.507812 1.359375 -1.34375 C 1.410156 -1.175781 1.488281 -1.03125 1.59375 -0.90625 C 1.707031 -0.789062 1.851562 -0.695312 2.03125 -0.625 C 2.207031 -0.5625 2.421875 -0.53125 2.671875 -0.53125 C 2.929688 -0.53125 3.148438 -0.5625 3.328125 -0.625 C 3.503906 -0.695312 3.644531 -0.789062 3.75 -0.90625 C 3.851562 -1.03125 3.925781 -1.175781 3.96875 -1.34375 C 4.019531 -1.519531 4.046875 -1.710938 4.046875 -1.921875 Z M 4.046875 -1.921875 \"/>\n",
       "</symbol>\n",
       "<symbol overflow=\"visible\" id=\"glyph0-11\">\n",
       "<path style=\"stroke:none;\" d=\"M 4.875 -3.4375 C 4.875 -2.84375 4.816406 -2.328125 4.703125 -1.890625 C 4.597656 -1.453125 4.441406 -1.082031 4.234375 -0.78125 C 4.035156 -0.488281 3.785156 -0.269531 3.484375 -0.125 C 3.191406 0.0195312 2.859375 0.09375 2.484375 0.09375 C 2.234375 0.09375 2.003906 0.0664062 1.796875 0.015625 C 1.597656 -0.0351562 1.421875 -0.113281 1.265625 -0.21875 C 1.109375 -0.332031 0.972656 -0.472656 0.859375 -0.640625 C 0.742188 -0.816406 0.648438 -1.03125 0.578125 -1.28125 L 1.390625 -1.40625 C 1.472656 -1.125 1.609375 -0.914062 1.796875 -0.78125 C 1.984375 -0.644531 2.21875 -0.578125 2.5 -0.578125 C 2.726562 -0.578125 2.9375 -0.628906 3.125 -0.734375 C 3.320312 -0.847656 3.484375 -1.015625 3.609375 -1.234375 C 3.742188 -1.453125 3.847656 -1.722656 3.921875 -2.046875 C 3.992188 -2.367188 4.035156 -2.75 4.046875 -3.1875 C 3.984375 -3.039062 3.894531 -2.910156 3.78125 -2.796875 C 3.664062 -2.679688 3.535156 -2.582031 3.390625 -2.5 C 3.242188 -2.414062 3.085938 -2.351562 2.921875 -2.3125 C 2.753906 -2.269531 2.582031 -2.25 2.40625 -2.25 C 2.101562 -2.25 1.832031 -2.300781 1.59375 -2.40625 C 1.351562 -2.519531 1.144531 -2.671875 0.96875 -2.859375 C 0.800781 -3.054688 0.671875 -3.289062 0.578125 -3.5625 C 0.492188 -3.84375 0.453125 -4.148438 0.453125 -4.484375 C 0.453125 -4.816406 0.5 -5.117188 0.59375 -5.390625 C 0.695312 -5.671875 0.84375 -5.90625 1.03125 -6.09375 C 1.21875 -6.289062 1.445312 -6.441406 1.71875 -6.546875 C 1.988281 -6.648438 2.296875 -6.703125 2.640625 -6.703125 C 3.378906 -6.703125 3.9375 -6.425781 4.3125 -5.875 C 4.6875 -5.332031 4.875 -4.519531 4.875 -3.4375 Z M 3.96875 -4.25 C 3.96875 -4.488281 3.9375 -4.71875 3.875 -4.9375 C 3.820312 -5.15625 3.738281 -5.34375 3.625 -5.5 C 3.507812 -5.65625 3.367188 -5.78125 3.203125 -5.875 C 3.035156 -5.96875 2.84375 -6.015625 2.625 -6.015625 C 2.414062 -6.015625 2.226562 -5.976562 2.0625 -5.90625 C 1.90625 -5.832031 1.769531 -5.726562 1.65625 -5.59375 C 1.539062 -5.46875 1.453125 -5.304688 1.390625 -5.109375 C 1.335938 -4.921875 1.3125 -4.710938 1.3125 -4.484375 C 1.3125 -4.253906 1.335938 -4.046875 1.390625 -3.859375 C 1.441406 -3.671875 1.519531 -3.503906 1.625 -3.359375 C 1.738281 -3.222656 1.875 -3.113281 2.03125 -3.03125 C 2.195312 -2.957031 2.390625 -2.921875 2.609375 -2.921875 C 2.765625 -2.921875 2.921875 -2.945312 3.078125 -3 C 3.242188 -3.050781 3.390625 -3.128906 3.515625 -3.234375 C 3.648438 -3.347656 3.757812 -3.488281 3.84375 -3.65625 C 3.925781 -3.820312 3.96875 -4.019531 3.96875 -4.25 Z M 3.96875 -4.25 \"/>\n",
       "</symbol>\n",
       "<symbol overflow=\"visible\" id=\"glyph1-0\">\n",
       "<path style=\"stroke:none;\" d=\"M 0.40625 0 L 0.40625 -8 L 3.59375 -8 L 3.59375 0 Z M 0.796875 -0.40625 L 3.1875 -0.40625 L 3.1875 -7.59375 L 0.796875 -7.59375 Z M 0.796875 -0.40625 \"/>\n",
       "</symbol>\n",
       "<symbol overflow=\"visible\" id=\"glyph1-1\">\n",
       "<path style=\"stroke:none;\" d=\"M 6.34375 0 L 1.921875 -7.03125 C 1.929688 -6.84375 1.941406 -6.65625 1.953125 -6.46875 C 1.960938 -6.300781 1.96875 -6.128906 1.96875 -5.953125 C 1.976562 -5.773438 1.984375 -5.617188 1.984375 -5.484375 L 1.984375 0 L 0.984375 0 L 0.984375 -8.25 L 2.28125 -8.25 L 6.75 -1.171875 C 6.738281 -1.367188 6.726562 -1.5625 6.71875 -1.75 C 6.707031 -1.914062 6.695312 -2.09375 6.6875 -2.28125 C 6.6875 -2.476562 6.6875 -2.664062 6.6875 -2.84375 L 6.6875 -8.25 L 7.6875 -8.25 L 7.6875 0 Z M 6.34375 0 \"/>\n",
       "</symbol>\n",
       "<symbol overflow=\"visible\" id=\"glyph1-2\">\n",
       "<path style=\"stroke:none;\" d=\"M 1.625 -2.953125 C 1.625 -2.617188 1.65625 -2.3125 1.71875 -2.03125 C 1.789062 -1.75 1.894531 -1.507812 2.03125 -1.3125 C 2.175781 -1.113281 2.359375 -0.957031 2.578125 -0.84375 C 2.804688 -0.726562 3.078125 -0.671875 3.390625 -0.671875 C 3.847656 -0.671875 4.210938 -0.757812 4.484375 -0.9375 C 4.765625 -1.125 4.953125 -1.359375 5.046875 -1.640625 L 5.96875 -1.390625 C 5.90625 -1.210938 5.8125 -1.035156 5.6875 -0.859375 C 5.570312 -0.679688 5.414062 -0.519531 5.21875 -0.375 C 5.019531 -0.226562 4.769531 -0.109375 4.46875 -0.015625 C 4.164062 0.078125 3.804688 0.125 3.390625 0.125 C 2.453125 0.125 1.738281 -0.15625 1.25 -0.71875 C 0.757812 -1.28125 0.515625 -2.113281 0.515625 -3.21875 C 0.515625 -3.8125 0.585938 -4.3125 0.734375 -4.71875 C 0.878906 -5.132812 1.082031 -5.46875 1.34375 -5.71875 C 1.601562 -5.976562 1.90625 -6.164062 2.25 -6.28125 C 2.59375 -6.394531 2.957031 -6.453125 3.34375 -6.453125 C 3.875 -6.453125 4.316406 -6.363281 4.671875 -6.1875 C 5.035156 -6.019531 5.320312 -5.785156 5.53125 -5.484375 C 5.75 -5.179688 5.90625 -4.820312 6 -4.40625 C 6.09375 -4 6.140625 -3.5625 6.140625 -3.09375 L 6.140625 -2.953125 Z M 5.046875 -3.75 C 4.992188 -4.425781 4.828125 -4.914062 4.546875 -5.21875 C 4.265625 -5.519531 3.859375 -5.671875 3.328125 -5.671875 C 3.148438 -5.671875 2.960938 -5.644531 2.765625 -5.59375 C 2.578125 -5.539062 2.398438 -5.441406 2.234375 -5.296875 C 2.078125 -5.148438 1.941406 -4.953125 1.828125 -4.703125 C 1.710938 -4.453125 1.644531 -4.132812 1.625 -3.75 Z M 5.046875 -3.75 \"/>\n",
       "</symbol>\n",
       "<symbol overflow=\"visible\" id=\"glyph1-3\">\n",
       "<path style=\"stroke:none;\" d=\"M 0.796875 -7.6875 L 0.796875 -8.703125 L 1.859375 -8.703125 L 1.859375 -7.6875 Z M 0.796875 0 L 0.796875 -6.34375 L 1.859375 -6.34375 L 1.859375 0 Z M 0.796875 0 \"/>\n",
       "</symbol>\n",
       "<symbol overflow=\"visible\" id=\"glyph1-4\">\n",
       "<path style=\"stroke:none;\" d=\"M 3.21875 2.484375 C 2.851562 2.484375 2.53125 2.445312 2.25 2.375 C 1.96875 2.300781 1.722656 2.195312 1.515625 2.0625 C 1.316406 1.925781 1.15625 1.757812 1.03125 1.5625 C 0.90625 1.375 0.816406 1.160156 0.765625 0.921875 L 1.828125 0.78125 C 1.898438 1.070312 2.054688 1.296875 2.296875 1.453125 C 2.535156 1.609375 2.847656 1.6875 3.234375 1.6875 C 3.472656 1.6875 3.691406 1.648438 3.890625 1.578125 C 4.085938 1.515625 4.253906 1.410156 4.390625 1.265625 C 4.523438 1.117188 4.628906 0.925781 4.703125 0.6875 C 4.773438 0.457031 4.8125 0.175781 4.8125 -0.15625 L 4.8125 -1.171875 C 4.726562 -1.015625 4.628906 -0.863281 4.515625 -0.71875 C 4.398438 -0.570312 4.257812 -0.441406 4.09375 -0.328125 C 3.925781 -0.210938 3.734375 -0.117188 3.515625 -0.046875 C 3.296875 0.015625 3.046875 0.046875 2.765625 0.046875 C 2.359375 0.046875 2.007812 -0.0195312 1.71875 -0.15625 C 1.4375 -0.289062 1.203125 -0.492188 1.015625 -0.765625 C 0.835938 -1.035156 0.707031 -1.367188 0.625 -1.765625 C 0.539062 -2.171875 0.5 -2.632812 0.5 -3.15625 C 0.5 -3.664062 0.539062 -4.125 0.625 -4.53125 C 0.707031 -4.9375 0.84375 -5.28125 1.03125 -5.5625 C 1.226562 -5.84375 1.476562 -6.054688 1.78125 -6.203125 C 2.082031 -6.359375 2.453125 -6.4375 2.890625 -6.4375 C 3.335938 -6.4375 3.722656 -6.332031 4.046875 -6.125 C 4.378906 -5.925781 4.632812 -5.632812 4.8125 -5.25 L 4.828125 -5.25 C 4.828125 -5.351562 4.828125 -5.460938 4.828125 -5.578125 C 4.835938 -5.703125 4.84375 -5.816406 4.84375 -5.921875 C 4.851562 -6.035156 4.863281 -6.128906 4.875 -6.203125 C 4.882812 -6.285156 4.894531 -6.332031 4.90625 -6.34375 L 5.90625 -6.34375 C 5.894531 -6.300781 5.890625 -6.238281 5.890625 -6.15625 C 5.890625 -6.070312 5.882812 -5.972656 5.875 -5.859375 C 5.875 -5.742188 5.867188 -5.613281 5.859375 -5.46875 C 5.859375 -5.320312 5.859375 -5.175781 5.859375 -5.03125 L 5.859375 -0.1875 C 5.859375 0.707031 5.640625 1.375 5.203125 1.8125 C 4.773438 2.257812 4.113281 2.484375 3.21875 2.484375 Z M 4.8125 -3.171875 C 4.8125 -3.609375 4.765625 -3.984375 4.671875 -4.296875 C 4.578125 -4.617188 4.453125 -4.878906 4.296875 -5.078125 C 4.140625 -5.273438 3.957031 -5.421875 3.75 -5.515625 C 3.550781 -5.609375 3.347656 -5.65625 3.140625 -5.65625 C 2.867188 -5.65625 2.632812 -5.609375 2.4375 -5.515625 C 2.25 -5.421875 2.09375 -5.269531 1.96875 -5.0625 C 1.84375 -4.863281 1.75 -4.609375 1.6875 -4.296875 C 1.625 -3.984375 1.59375 -3.609375 1.59375 -3.171875 C 1.59375 -2.710938 1.625 -2.328125 1.6875 -2.015625 C 1.75 -1.703125 1.84375 -1.453125 1.96875 -1.265625 C 2.09375 -1.078125 2.25 -0.941406 2.4375 -0.859375 C 2.625 -0.773438 2.851562 -0.734375 3.125 -0.734375 C 3.332031 -0.734375 3.535156 -0.773438 3.734375 -0.859375 C 3.941406 -0.953125 4.125 -1.097656 4.28125 -1.296875 C 4.445312 -1.492188 4.578125 -1.742188 4.671875 -2.046875 C 4.765625 -2.359375 4.8125 -2.734375 4.8125 -3.171875 Z M 4.8125 -3.171875 \"/>\n",
       "</symbol>\n",
       "<symbol overflow=\"visible\" id=\"glyph1-5\">\n",
       "<path style=\"stroke:none;\" d=\"M 1.859375 -5.25 C 1.972656 -5.46875 2.097656 -5.648438 2.234375 -5.796875 C 2.367188 -5.953125 2.519531 -6.078125 2.6875 -6.171875 C 2.851562 -6.273438 3.03125 -6.347656 3.21875 -6.390625 C 3.414062 -6.429688 3.640625 -6.453125 3.890625 -6.453125 C 4.296875 -6.453125 4.628906 -6.394531 4.890625 -6.28125 C 5.148438 -6.175781 5.351562 -6.023438 5.5 -5.828125 C 5.644531 -5.628906 5.742188 -5.394531 5.796875 -5.125 C 5.859375 -4.851562 5.890625 -4.550781 5.890625 -4.21875 L 5.890625 0 L 4.828125 0 L 4.828125 -4.015625 C 4.828125 -4.285156 4.8125 -4.519531 4.78125 -4.71875 C 4.75 -4.925781 4.6875 -5.097656 4.59375 -5.234375 C 4.5 -5.367188 4.363281 -5.46875 4.1875 -5.53125 C 4.019531 -5.601562 3.800781 -5.640625 3.53125 -5.640625 C 3.28125 -5.640625 3.050781 -5.59375 2.84375 -5.5 C 2.644531 -5.414062 2.472656 -5.289062 2.328125 -5.125 C 2.191406 -4.957031 2.082031 -4.753906 2 -4.515625 C 1.925781 -4.285156 1.890625 -4.023438 1.890625 -3.734375 L 1.890625 0 L 0.828125 0 L 0.828125 -8.703125 L 1.890625 -8.703125 L 1.890625 -6.4375 C 1.890625 -6.300781 1.882812 -6.171875 1.875 -6.046875 C 1.875 -5.921875 1.867188 -5.800781 1.859375 -5.6875 C 1.859375 -5.582031 1.851562 -5.488281 1.84375 -5.40625 C 1.84375 -5.332031 1.84375 -5.28125 1.84375 -5.25 Z M 1.859375 -5.25 \"/>\n",
       "</symbol>\n",
       "<symbol overflow=\"visible\" id=\"glyph1-6\">\n",
       "<path style=\"stroke:none;\" d=\"M 6.171875 -3.203125 C 6.171875 -0.984375 5.394531 0.125 3.84375 0.125 C 3.363281 0.125 2.960938 0.0351562 2.640625 -0.140625 C 2.316406 -0.316406 2.054688 -0.597656 1.859375 -0.984375 C 1.859375 -0.878906 1.851562 -0.769531 1.84375 -0.65625 C 1.832031 -0.550781 1.820312 -0.453125 1.8125 -0.359375 C 1.8125 -0.265625 1.804688 -0.1875 1.796875 -0.125 C 1.796875 -0.0625 1.796875 -0.0195312 1.796875 0 L 0.78125 0 C 0.78125 -0.03125 0.78125 -0.0859375 0.78125 -0.171875 C 0.789062 -0.265625 0.796875 -0.367188 0.796875 -0.484375 C 0.796875 -0.597656 0.796875 -0.722656 0.796875 -0.859375 C 0.804688 -1.003906 0.8125 -1.15625 0.8125 -1.3125 L 0.8125 -8.703125 L 1.859375 -8.703125 L 1.859375 -6.21875 C 1.859375 -6.101562 1.859375 -5.988281 1.859375 -5.875 C 1.859375 -5.769531 1.859375 -5.675781 1.859375 -5.59375 C 1.847656 -5.5 1.84375 -5.410156 1.84375 -5.328125 L 1.859375 -5.328125 C 2.054688 -5.734375 2.316406 -6.019531 2.640625 -6.1875 C 2.960938 -6.363281 3.363281 -6.453125 3.84375 -6.453125 C 4.644531 -6.453125 5.234375 -6.179688 5.609375 -5.640625 C 5.984375 -5.109375 6.171875 -4.296875 6.171875 -3.203125 Z M 5.0625 -3.171875 C 5.0625 -3.609375 5.035156 -3.984375 4.984375 -4.296875 C 4.929688 -4.609375 4.84375 -4.863281 4.71875 -5.0625 C 4.59375 -5.257812 4.4375 -5.40625 4.25 -5.5 C 4.0625 -5.59375 3.832031 -5.640625 3.5625 -5.640625 C 3.289062 -5.640625 3.046875 -5.59375 2.828125 -5.5 C 2.617188 -5.414062 2.441406 -5.273438 2.296875 -5.078125 C 2.160156 -4.878906 2.050781 -4.613281 1.96875 -4.28125 C 1.894531 -3.957031 1.859375 -3.5625 1.859375 -3.09375 C 1.859375 -2.644531 1.894531 -2.265625 1.96875 -1.953125 C 2.050781 -1.648438 2.160156 -1.398438 2.296875 -1.203125 C 2.441406 -1.015625 2.617188 -0.875 2.828125 -0.78125 C 3.035156 -0.695312 3.28125 -0.65625 3.5625 -0.65625 C 3.8125 -0.65625 4.03125 -0.703125 4.21875 -0.796875 C 4.40625 -0.890625 4.5625 -1.035156 4.6875 -1.234375 C 4.8125 -1.429688 4.90625 -1.6875 4.96875 -2 C 5.03125 -2.320312 5.0625 -2.710938 5.0625 -3.171875 Z M 5.0625 -3.171875 \"/>\n",
       "</symbol>\n",
       "<symbol overflow=\"visible\" id=\"glyph1-7\">\n",
       "<path style=\"stroke:none;\" d=\"M 6.171875 -3.171875 C 6.171875 -2.066406 5.925781 -1.238281 5.4375 -0.6875 C 4.945312 -0.144531 4.238281 0.125 3.3125 0.125 C 2.875 0.125 2.476562 0.0546875 2.125 -0.078125 C 1.78125 -0.210938 1.488281 -0.414062 1.25 -0.6875 C 1.007812 -0.96875 0.820312 -1.3125 0.6875 -1.71875 C 0.5625 -2.132812 0.5 -2.617188 0.5 -3.171875 C 0.5 -5.359375 1.445312 -6.453125 3.34375 -6.453125 C 3.832031 -6.453125 4.253906 -6.382812 4.609375 -6.25 C 4.972656 -6.113281 5.269531 -5.910156 5.5 -5.640625 C 5.726562 -5.367188 5.894531 -5.023438 6 -4.609375 C 6.113281 -4.203125 6.171875 -3.722656 6.171875 -3.171875 Z M 5.0625 -3.171875 C 5.0625 -3.671875 5.019531 -4.078125 4.9375 -4.390625 C 4.863281 -4.710938 4.753906 -4.96875 4.609375 -5.15625 C 4.460938 -5.351562 4.285156 -5.488281 4.078125 -5.5625 C 3.867188 -5.632812 3.628906 -5.671875 3.359375 -5.671875 C 3.085938 -5.671875 2.84375 -5.628906 2.625 -5.546875 C 2.414062 -5.472656 2.234375 -5.335938 2.078125 -5.140625 C 1.929688 -4.953125 1.816406 -4.695312 1.734375 -4.375 C 1.648438 -4.050781 1.609375 -3.648438 1.609375 -3.171875 C 1.609375 -2.679688 1.648438 -2.273438 1.734375 -1.953125 C 1.828125 -1.628906 1.945312 -1.367188 2.09375 -1.171875 C 2.25 -0.984375 2.425781 -0.847656 2.625 -0.765625 C 2.832031 -0.691406 3.054688 -0.65625 3.296875 -0.65625 C 3.566406 -0.65625 3.8125 -0.691406 4.03125 -0.765625 C 4.25 -0.847656 4.429688 -0.984375 4.578125 -1.171875 C 4.734375 -1.367188 4.851562 -1.628906 4.9375 -1.953125 C 5.019531 -2.273438 5.0625 -2.679688 5.0625 -3.171875 Z M 5.0625 -3.171875 \"/>\n",
       "</symbol>\n",
       "<symbol overflow=\"visible\" id=\"glyph1-8\">\n",
       "<path style=\"stroke:none;\" d=\"M 0.828125 0 L 0.828125 -4.859375 C 0.828125 -4.992188 0.828125 -5.128906 0.828125 -5.265625 C 0.828125 -5.410156 0.820312 -5.546875 0.8125 -5.671875 C 0.8125 -5.796875 0.804688 -5.914062 0.796875 -6.03125 C 0.796875 -6.144531 0.796875 -6.25 0.796875 -6.34375 L 1.796875 -6.34375 C 1.796875 -6.25 1.796875 -6.144531 1.796875 -6.03125 C 1.804688 -5.914062 1.8125 -5.796875 1.8125 -5.671875 C 1.820312 -5.554688 1.828125 -5.441406 1.828125 -5.328125 C 1.835938 -5.210938 1.84375 -5.117188 1.84375 -5.046875 L 1.859375 -5.046875 C 1.929688 -5.285156 2.007812 -5.492188 2.09375 -5.671875 C 2.1875 -5.847656 2.285156 -5.992188 2.390625 -6.109375 C 2.503906 -6.222656 2.640625 -6.304688 2.796875 -6.359375 C 2.953125 -6.421875 3.144531 -6.453125 3.375 -6.453125 C 3.457031 -6.453125 3.535156 -6.445312 3.609375 -6.4375 C 3.691406 -6.425781 3.753906 -6.414062 3.796875 -6.40625 L 3.796875 -5.4375 C 3.722656 -5.457031 3.640625 -5.46875 3.546875 -5.46875 C 3.453125 -5.476562 3.347656 -5.484375 3.234375 -5.484375 C 2.992188 -5.484375 2.785156 -5.425781 2.609375 -5.3125 C 2.441406 -5.207031 2.304688 -5.054688 2.203125 -4.859375 C 2.097656 -4.671875 2.019531 -4.441406 1.96875 -4.171875 C 1.914062 -3.910156 1.890625 -3.625 1.890625 -3.3125 L 1.890625 0 Z M 0.828125 0 \"/>\n",
       "</symbol>\n",
       "<symbol overflow=\"visible\" id=\"glyph1-9\">\n",
       "<path style=\"stroke:none;\" d=\"M 5.5625 -1.75 C 5.5625 -1.457031 5.503906 -1.191406 5.390625 -0.953125 C 5.273438 -0.722656 5.109375 -0.53125 4.890625 -0.375 C 4.671875 -0.21875 4.398438 -0.09375 4.078125 0 C 3.765625 0.0820312 3.40625 0.125 3 0.125 C 2.625 0.125 2.289062 0.09375 2 0.03125 C 1.707031 -0.0195312 1.445312 -0.109375 1.21875 -0.234375 C 1 -0.359375 0.8125 -0.523438 0.65625 -0.734375 C 0.507812 -0.941406 0.398438 -1.191406 0.328125 -1.484375 L 1.265625 -1.671875 C 1.359375 -1.328125 1.546875 -1.078125 1.828125 -0.921875 C 2.109375 -0.765625 2.5 -0.6875 3 -0.6875 C 3.21875 -0.6875 3.421875 -0.703125 3.609375 -0.734375 C 3.804688 -0.765625 3.972656 -0.816406 4.109375 -0.890625 C 4.242188 -0.972656 4.347656 -1.078125 4.421875 -1.203125 C 4.503906 -1.328125 4.546875 -1.484375 4.546875 -1.671875 C 4.546875 -1.859375 4.5 -2.015625 4.40625 -2.140625 C 4.3125 -2.265625 4.1875 -2.367188 4.03125 -2.453125 C 3.875 -2.535156 3.679688 -2.601562 3.453125 -2.65625 C 3.222656 -2.71875 2.972656 -2.785156 2.703125 -2.859375 C 2.441406 -2.929688 2.1875 -3.007812 1.9375 -3.09375 C 1.6875 -3.175781 1.460938 -3.28125 1.265625 -3.40625 C 1.066406 -3.539062 0.90625 -3.707031 0.78125 -3.90625 C 0.65625 -4.113281 0.59375 -4.367188 0.59375 -4.671875 C 0.59375 -5.242188 0.796875 -5.679688 1.203125 -5.984375 C 1.617188 -6.285156 2.21875 -6.4375 3 -6.4375 C 3.707031 -6.4375 4.265625 -6.3125 4.671875 -6.0625 C 5.085938 -5.820312 5.347656 -5.429688 5.453125 -4.890625 L 4.5 -4.765625 C 4.46875 -4.929688 4.40625 -5.066406 4.3125 -5.171875 C 4.21875 -5.285156 4.101562 -5.378906 3.96875 -5.453125 C 3.84375 -5.523438 3.695312 -5.570312 3.53125 -5.59375 C 3.363281 -5.625 3.1875 -5.640625 3 -5.640625 C 2.53125 -5.640625 2.179688 -5.566406 1.953125 -5.421875 C 1.722656 -5.273438 1.609375 -5.054688 1.609375 -4.765625 C 1.609375 -4.597656 1.648438 -4.457031 1.734375 -4.34375 C 1.816406 -4.226562 1.929688 -4.132812 2.078125 -4.0625 C 2.234375 -3.988281 2.414062 -3.921875 2.625 -3.859375 C 2.84375 -3.804688 3.078125 -3.75 3.328125 -3.6875 C 3.492188 -3.644531 3.664062 -3.597656 3.84375 -3.546875 C 4.019531 -3.492188 4.191406 -3.429688 4.359375 -3.359375 C 4.523438 -3.296875 4.679688 -3.21875 4.828125 -3.125 C 4.972656 -3.039062 5.097656 -2.929688 5.203125 -2.796875 C 5.316406 -2.671875 5.40625 -2.519531 5.46875 -2.34375 C 5.53125 -2.175781 5.5625 -1.976562 5.5625 -1.75 Z M 5.5625 -1.75 \"/>\n",
       "</symbol>\n",
       "<symbol overflow=\"visible\" id=\"glyph2-0\">\n",
       "<path style=\"stroke:none;\" d=\"M 0 -0.40625 L -8 -0.40625 L -8 -3.59375 L 0 -3.59375 Z M -0.40625 -0.796875 L -0.40625 -3.1875 L -7.59375 -3.1875 L -7.59375 -0.796875 Z M -0.40625 -0.796875 \"/>\n",
       "</symbol>\n",
       "<symbol overflow=\"visible\" id=\"glyph2-1\">\n",
       "<path style=\"stroke:none;\" d=\"M 0 -6.84375 L -2.421875 -5.890625 L -2.421875 -2.140625 L 0 -1.1875 L 0 -0.03125 L -8.25 -3.390625 L -8.25 -4.671875 L 0 -7.984375 Z M -6.015625 -4.5 C -6.171875 -4.4375 -6.328125 -4.375 -6.484375 -4.3125 C -6.648438 -4.257812 -6.796875 -4.210938 -6.921875 -4.171875 C -7.054688 -4.128906 -7.164062 -4.09375 -7.25 -4.0625 C -7.34375 -4.03125 -7.394531 -4.015625 -7.40625 -4.015625 C -7.394531 -4.003906 -7.34375 -3.984375 -7.25 -3.953125 C -7.15625 -3.929688 -7.039062 -3.894531 -6.90625 -3.84375 C -6.78125 -3.800781 -6.632812 -3.75 -6.46875 -3.6875 C -6.3125 -3.632812 -6.15625 -3.582031 -6 -3.53125 L -3.28125 -2.46875 L -3.28125 -5.5625 Z M -6.015625 -4.5 \"/>\n",
       "</symbol>\n",
       "<symbol overflow=\"visible\" id=\"glyph2-2\">\n",
       "<path style=\"stroke:none;\" d=\"M -3.203125 -1.609375 C -2.835938 -1.609375 -2.5 -1.632812 -2.1875 -1.6875 C -1.882812 -1.738281 -1.625 -1.828125 -1.40625 -1.953125 C -1.1875 -2.078125 -1.015625 -2.242188 -0.890625 -2.453125 C -0.773438 -2.660156 -0.71875 -2.914062 -0.71875 -3.21875 C -0.71875 -3.59375 -0.816406 -3.90625 -1.015625 -4.15625 C -1.222656 -4.40625 -1.535156 -4.5625 -1.953125 -4.625 L -1.890625 -5.6875 C -1.628906 -5.644531 -1.375 -5.566406 -1.125 -5.453125 C -0.882812 -5.335938 -0.671875 -5.175781 -0.484375 -4.96875 C -0.304688 -4.769531 -0.160156 -4.523438 -0.046875 -4.234375 C 0.0664062 -3.953125 0.125 -3.617188 0.125 -3.234375 C 0.125 -2.742188 0.0390625 -2.320312 -0.125 -1.96875 C -0.300781 -1.625 -0.535156 -1.34375 -0.828125 -1.125 C -1.117188 -0.90625 -1.460938 -0.75 -1.859375 -0.65625 C -2.265625 -0.5625 -2.703125 -0.515625 -3.171875 -0.515625 C -3.597656 -0.515625 -3.972656 -0.546875 -4.296875 -0.609375 C -4.628906 -0.679688 -4.914062 -0.78125 -5.15625 -0.90625 C -5.40625 -1.039062 -5.613281 -1.191406 -5.78125 -1.359375 C -5.945312 -1.535156 -6.078125 -1.722656 -6.171875 -1.921875 C -6.273438 -2.117188 -6.347656 -2.328125 -6.390625 -2.546875 C -6.429688 -2.773438 -6.453125 -3.003906 -6.453125 -3.234375 C -6.453125 -3.585938 -6.40625 -3.898438 -6.3125 -4.171875 C -6.21875 -4.453125 -6.082031 -4.691406 -5.90625 -4.890625 C -5.738281 -5.097656 -5.539062 -5.265625 -5.3125 -5.390625 C -5.082031 -5.515625 -4.832031 -5.601562 -4.5625 -5.65625 L -4.484375 -4.5625 C -4.835938 -4.507812 -5.113281 -4.367188 -5.3125 -4.140625 C -5.519531 -3.921875 -5.625 -3.609375 -5.625 -3.203125 C -5.625 -2.898438 -5.570312 -2.644531 -5.46875 -2.4375 C -5.375 -2.238281 -5.226562 -2.078125 -5.03125 -1.953125 C -4.832031 -1.828125 -4.578125 -1.738281 -4.265625 -1.6875 C -3.960938 -1.632812 -3.609375 -1.609375 -3.203125 -1.609375 Z M -3.203125 -1.609375 \"/>\n",
       "</symbol>\n",
       "<symbol overflow=\"visible\" id=\"glyph2-3\">\n",
       "<path style=\"stroke:none;\" d=\"M -6.34375 -1.84375 L -2.328125 -1.84375 C -2.015625 -1.84375 -1.753906 -1.863281 -1.546875 -1.90625 C -1.335938 -1.945312 -1.171875 -2.019531 -1.046875 -2.125 C -0.921875 -2.226562 -0.832031 -2.363281 -0.78125 -2.53125 C -0.726562 -2.695312 -0.703125 -2.898438 -0.703125 -3.140625 C -0.703125 -3.390625 -0.742188 -3.613281 -0.828125 -3.8125 C -0.921875 -4.019531 -1.046875 -4.191406 -1.203125 -4.328125 C -1.367188 -4.472656 -1.570312 -4.582031 -1.8125 -4.65625 C -2.0625 -4.738281 -2.347656 -4.78125 -2.671875 -4.78125 L -6.34375 -4.78125 L -6.34375 -5.84375 L -1.359375 -5.84375 C -1.222656 -5.84375 -1.082031 -5.84375 -0.9375 -5.84375 C -0.789062 -5.84375 -0.648438 -5.84375 -0.515625 -5.84375 C -0.390625 -5.851562 -0.28125 -5.859375 -0.1875 -5.859375 C -0.09375 -5.867188 -0.03125 -5.875 0 -5.875 L 0 -4.875 C -0.0195312 -4.875 -0.0703125 -4.867188 -0.15625 -4.859375 C -0.238281 -4.859375 -0.335938 -4.851562 -0.453125 -4.84375 C -0.566406 -4.84375 -0.679688 -4.835938 -0.796875 -4.828125 C -0.910156 -4.828125 -1.003906 -4.828125 -1.078125 -4.828125 L -1.078125 -4.8125 C -0.898438 -4.71875 -0.734375 -4.609375 -0.578125 -4.484375 C -0.429688 -4.359375 -0.304688 -4.21875 -0.203125 -4.0625 C -0.0976562 -3.90625 -0.0195312 -3.722656 0.03125 -3.515625 C 0.09375 -3.304688 0.125 -3.066406 0.125 -2.796875 C 0.125 -2.441406 0.0820312 -2.132812 0 -1.875 C -0.09375 -1.625 -0.226562 -1.414062 -0.40625 -1.25 C -0.59375 -1.09375 -0.828125 -0.972656 -1.109375 -0.890625 C -1.390625 -0.816406 -1.722656 -0.78125 -2.109375 -0.78125 L -6.34375 -0.78125 Z M -6.34375 -1.84375 \"/>\n",
       "</symbol>\n",
       "<symbol overflow=\"visible\" id=\"glyph2-4\">\n",
       "<path style=\"stroke:none;\" d=\"M 0 -0.828125 L -4.859375 -0.828125 C -4.992188 -0.828125 -5.128906 -0.828125 -5.265625 -0.828125 C -5.410156 -0.828125 -5.546875 -0.820312 -5.671875 -0.8125 C -5.796875 -0.8125 -5.914062 -0.804688 -6.03125 -0.796875 C -6.144531 -0.796875 -6.25 -0.796875 -6.34375 -0.796875 L -6.34375 -1.796875 C -6.25 -1.796875 -6.144531 -1.796875 -6.03125 -1.796875 C -5.914062 -1.804688 -5.796875 -1.8125 -5.671875 -1.8125 C -5.554688 -1.820312 -5.441406 -1.828125 -5.328125 -1.828125 C -5.210938 -1.835938 -5.117188 -1.84375 -5.046875 -1.84375 L -5.046875 -1.859375 C -5.285156 -1.929688 -5.492188 -2.007812 -5.671875 -2.09375 C -5.847656 -2.1875 -5.992188 -2.285156 -6.109375 -2.390625 C -6.222656 -2.503906 -6.304688 -2.640625 -6.359375 -2.796875 C -6.421875 -2.953125 -6.453125 -3.144531 -6.453125 -3.375 C -6.453125 -3.457031 -6.445312 -3.535156 -6.4375 -3.609375 C -6.425781 -3.691406 -6.414062 -3.753906 -6.40625 -3.796875 L -5.4375 -3.796875 C -5.457031 -3.722656 -5.46875 -3.640625 -5.46875 -3.546875 C -5.476562 -3.453125 -5.484375 -3.347656 -5.484375 -3.234375 C -5.484375 -2.992188 -5.425781 -2.785156 -5.3125 -2.609375 C -5.207031 -2.441406 -5.054688 -2.304688 -4.859375 -2.203125 C -4.671875 -2.097656 -4.441406 -2.019531 -4.171875 -1.96875 C -3.910156 -1.914062 -3.625 -1.890625 -3.3125 -1.890625 L 0 -1.890625 Z M 0 -0.828125 \"/>\n",
       "</symbol>\n",
       "<symbol overflow=\"visible\" id=\"glyph2-5\">\n",
       "<path style=\"stroke:none;\" d=\"M 0.125 -2.421875 C 0.125 -1.785156 -0.0390625 -1.304688 -0.375 -0.984375 C -0.71875 -0.671875 -1.179688 -0.515625 -1.765625 -0.515625 C -2.179688 -0.515625 -2.523438 -0.59375 -2.796875 -0.75 C -3.066406 -0.90625 -3.273438 -1.109375 -3.421875 -1.359375 C -3.578125 -1.617188 -3.679688 -1.910156 -3.734375 -2.234375 C -3.796875 -2.566406 -3.832031 -2.90625 -3.84375 -3.25 L -3.875 -4.671875 L -4.21875 -4.671875 C -4.476562 -4.671875 -4.695312 -4.640625 -4.875 -4.578125 C -5.0625 -4.523438 -5.210938 -4.441406 -5.328125 -4.328125 C -5.441406 -4.222656 -5.523438 -4.082031 -5.578125 -3.90625 C -5.628906 -3.738281 -5.65625 -3.539062 -5.65625 -3.3125 C -5.65625 -3.101562 -5.640625 -2.914062 -5.609375 -2.75 C -5.578125 -2.59375 -5.523438 -2.453125 -5.453125 -2.328125 C -5.378906 -2.210938 -5.273438 -2.113281 -5.140625 -2.03125 C -5.015625 -1.957031 -4.847656 -1.910156 -4.640625 -1.890625 L -4.75 -0.796875 C -5 -0.828125 -5.226562 -0.894531 -5.4375 -1 C -5.644531 -1.113281 -5.820312 -1.269531 -5.96875 -1.46875 C -6.125 -1.675781 -6.242188 -1.929688 -6.328125 -2.234375 C -6.410156 -2.535156 -6.453125 -2.898438 -6.453125 -3.328125 C -6.453125 -4.128906 -6.269531 -4.726562 -5.90625 -5.125 C -5.539062 -5.53125 -5.015625 -5.734375 -4.328125 -5.734375 L -1.59375 -5.734375 C -1.28125 -5.734375 -1.046875 -5.773438 -0.890625 -5.859375 C -0.734375 -5.941406 -0.65625 -6.097656 -0.65625 -6.328125 C -0.65625 -6.390625 -0.65625 -6.445312 -0.65625 -6.5 C -0.664062 -6.5625 -0.675781 -6.617188 -0.6875 -6.671875 L -0.03125 -6.671875 C 0 -6.535156 0.0195312 -6.398438 0.03125 -6.265625 C 0.0507812 -6.140625 0.0625 -6.003906 0.0625 -5.859375 C 0.0625 -5.660156 0.0351562 -5.488281 -0.015625 -5.34375 C -0.0664062 -5.207031 -0.144531 -5.09375 -0.25 -5 C -0.363281 -4.90625 -0.5 -4.832031 -0.65625 -4.78125 C -0.8125 -4.738281 -1 -4.710938 -1.21875 -4.703125 L -1.21875 -4.671875 C -1.007812 -4.554688 -0.820312 -4.429688 -0.65625 -4.296875 C -0.5 -4.160156 -0.363281 -4.003906 -0.25 -3.828125 C -0.132812 -3.648438 -0.046875 -3.445312 0.015625 -3.21875 C 0.0859375 -2.988281 0.125 -2.722656 0.125 -2.421875 Z M -0.671875 -2.671875 C -0.671875 -3.003906 -0.734375 -3.296875 -0.859375 -3.546875 C -0.984375 -3.796875 -1.140625 -4.003906 -1.328125 -4.171875 C -1.523438 -4.335938 -1.734375 -4.460938 -1.953125 -4.546875 C -2.179688 -4.628906 -2.398438 -4.671875 -2.609375 -4.671875 L -3.125 -4.671875 L -3.109375 -3.515625 C -3.097656 -3.253906 -3.078125 -3.007812 -3.046875 -2.78125 C -3.015625 -2.550781 -2.945312 -2.347656 -2.84375 -2.171875 C -2.75 -1.992188 -2.613281 -1.851562 -2.4375 -1.75 C -2.269531 -1.644531 -2.039062 -1.59375 -1.75 -1.59375 C -1.40625 -1.59375 -1.140625 -1.6875 -0.953125 -1.875 C -0.765625 -2.0625 -0.671875 -2.328125 -0.671875 -2.671875 Z M -0.671875 -2.671875 \"/>\n",
       "</symbol>\n",
       "<symbol overflow=\"visible\" id=\"glyph2-6\">\n",
       "<path style=\"stroke:none;\" d=\"M 0 -3.546875 C 0.382812 -3.390625 0.726562 -3.234375 1.03125 -3.078125 C 1.34375 -2.929688 1.601562 -2.757812 1.8125 -2.5625 C 2.03125 -2.375 2.195312 -2.160156 2.3125 -1.921875 C 2.425781 -1.691406 2.484375 -1.425781 2.484375 -1.125 C 2.484375 -0.988281 2.476562 -0.863281 2.46875 -0.75 C 2.46875 -0.632812 2.453125 -0.515625 2.421875 -0.390625 L 1.640625 -0.390625 C 1.648438 -0.460938 1.65625 -0.546875 1.65625 -0.640625 C 1.664062 -0.734375 1.671875 -0.816406 1.671875 -0.890625 C 1.671875 -1.191406 1.554688 -1.472656 1.328125 -1.734375 C 1.097656 -2.003906 0.726562 -2.238281 0.21875 -2.4375 L -0.03125 -2.546875 L -6.34375 -0.03125 L -6.34375 -1.15625 L -2.84375 -2.484375 C -2.726562 -2.523438 -2.582031 -2.578125 -2.40625 -2.640625 C -2.238281 -2.703125 -2.066406 -2.757812 -1.890625 -2.8125 C -1.710938 -2.875 -1.550781 -2.925781 -1.40625 -2.96875 C -1.269531 -3.019531 -1.1875 -3.050781 -1.15625 -3.0625 C -1.195312 -3.070312 -1.28125 -3.097656 -1.40625 -3.140625 C -1.53125 -3.191406 -1.671875 -3.242188 -1.828125 -3.296875 C -1.984375 -3.359375 -2.140625 -3.414062 -2.296875 -3.46875 C -2.460938 -3.53125 -2.601562 -3.582031 -2.71875 -3.625 L -6.34375 -4.859375 L -6.34375 -5.984375 Z M 0 -3.546875 \"/>\n",
       "</symbol>\n",
       "<symbol overflow=\"visible\" id=\"glyph2-7\">\n",
       "<path style=\"stroke:none;\" d=\"\"/>\n",
       "</symbol>\n",
       "<symbol overflow=\"visible\" id=\"glyph2-8\">\n",
       "<path style=\"stroke:none;\" d=\"M 0 -0.984375 L -8.25 -0.984375 L -8.25 -7.25 L -7.34375 -7.25 L -7.34375 -2.109375 L -4.6875 -2.109375 L -4.6875 -6.890625 L -3.796875 -6.890625 L -3.796875 -2.109375 L -0.921875 -2.109375 L -0.921875 -7.484375 L 0 -7.484375 Z M 0 -0.984375 \"/>\n",
       "</symbol>\n",
       "<symbol overflow=\"visible\" id=\"glyph2-9\">\n",
       "<path style=\"stroke:none;\" d=\"M -1.75 -5.5625 C -1.457031 -5.5625 -1.191406 -5.503906 -0.953125 -5.390625 C -0.722656 -5.273438 -0.53125 -5.109375 -0.375 -4.890625 C -0.21875 -4.671875 -0.09375 -4.398438 0 -4.078125 C 0.0820312 -3.765625 0.125 -3.40625 0.125 -3 C 0.125 -2.625 0.09375 -2.289062 0.03125 -2 C -0.0195312 -1.707031 -0.109375 -1.445312 -0.234375 -1.21875 C -0.359375 -1 -0.523438 -0.8125 -0.734375 -0.65625 C -0.941406 -0.507812 -1.191406 -0.398438 -1.484375 -0.328125 L -1.671875 -1.265625 C -1.328125 -1.359375 -1.078125 -1.546875 -0.921875 -1.828125 C -0.765625 -2.109375 -0.6875 -2.5 -0.6875 -3 C -0.6875 -3.21875 -0.703125 -3.421875 -0.734375 -3.609375 C -0.765625 -3.804688 -0.816406 -3.972656 -0.890625 -4.109375 C -0.972656 -4.242188 -1.078125 -4.347656 -1.203125 -4.421875 C -1.328125 -4.503906 -1.484375 -4.546875 -1.671875 -4.546875 C -1.859375 -4.546875 -2.015625 -4.5 -2.140625 -4.40625 C -2.265625 -4.3125 -2.367188 -4.1875 -2.453125 -4.03125 C -2.535156 -3.875 -2.601562 -3.679688 -2.65625 -3.453125 C -2.71875 -3.222656 -2.785156 -2.972656 -2.859375 -2.703125 C -2.929688 -2.441406 -3.007812 -2.1875 -3.09375 -1.9375 C -3.175781 -1.6875 -3.28125 -1.460938 -3.40625 -1.265625 C -3.539062 -1.066406 -3.707031 -0.90625 -3.90625 -0.78125 C -4.113281 -0.65625 -4.367188 -0.59375 -4.671875 -0.59375 C -5.242188 -0.59375 -5.679688 -0.796875 -5.984375 -1.203125 C -6.285156 -1.617188 -6.4375 -2.21875 -6.4375 -3 C -6.4375 -3.707031 -6.3125 -4.265625 -6.0625 -4.671875 C -5.820312 -5.085938 -5.429688 -5.347656 -4.890625 -5.453125 L -4.765625 -4.5 C -4.929688 -4.46875 -5.066406 -4.40625 -5.171875 -4.3125 C -5.285156 -4.21875 -5.378906 -4.101562 -5.453125 -3.96875 C -5.523438 -3.84375 -5.570312 -3.695312 -5.59375 -3.53125 C -5.625 -3.363281 -5.640625 -3.1875 -5.640625 -3 C -5.640625 -2.53125 -5.566406 -2.179688 -5.421875 -1.953125 C -5.273438 -1.722656 -5.054688 -1.609375 -4.765625 -1.609375 C -4.597656 -1.609375 -4.457031 -1.648438 -4.34375 -1.734375 C -4.226562 -1.816406 -4.132812 -1.929688 -4.0625 -2.078125 C -3.988281 -2.234375 -3.921875 -2.414062 -3.859375 -2.625 C -3.804688 -2.84375 -3.75 -3.078125 -3.6875 -3.328125 C -3.644531 -3.492188 -3.597656 -3.664062 -3.546875 -3.84375 C -3.492188 -4.019531 -3.429688 -4.191406 -3.359375 -4.359375 C -3.296875 -4.523438 -3.21875 -4.679688 -3.125 -4.828125 C -3.039062 -4.972656 -2.929688 -5.097656 -2.796875 -5.203125 C -2.671875 -5.316406 -2.519531 -5.40625 -2.34375 -5.46875 C -2.175781 -5.53125 -1.976562 -5.5625 -1.75 -5.5625 Z M -1.75 -5.5625 \"/>\n",
       "</symbol>\n",
       "<symbol overflow=\"visible\" id=\"glyph2-10\">\n",
       "<path style=\"stroke:none;\" d=\"M -0.046875 -3.25 C -0.00390625 -3.082031 0.0234375 -2.914062 0.046875 -2.75 C 0.078125 -2.59375 0.09375 -2.40625 0.09375 -2.1875 C 0.09375 -1.34375 -0.382812 -0.921875 -1.34375 -0.921875 L -5.578125 -0.921875 L -5.578125 -0.1875 L -6.34375 -0.1875 L -6.34375 -0.953125 L -7.765625 -1.265625 L -7.765625 -1.96875 L -6.34375 -1.96875 L -6.34375 -3.140625 L -5.578125 -3.140625 L -5.578125 -1.96875 L -1.578125 -1.96875 C -1.265625 -1.96875 -1.046875 -2.015625 -0.921875 -2.109375 C -0.804688 -2.210938 -0.75 -2.390625 -0.75 -2.640625 C -0.75 -2.742188 -0.753906 -2.84375 -0.765625 -2.9375 C -0.785156 -3.03125 -0.804688 -3.132812 -0.828125 -3.25 Z M -0.046875 -3.25 \"/>\n",
       "</symbol>\n",
       "<symbol overflow=\"visible\" id=\"glyph2-11\">\n",
       "<path style=\"stroke:none;\" d=\"M -7.6875 -0.796875 L -8.703125 -0.796875 L -8.703125 -1.859375 L -7.6875 -1.859375 Z M 0 -0.796875 L -6.34375 -0.796875 L -6.34375 -1.859375 L 0 -1.859375 Z M 0 -0.796875 \"/>\n",
       "</symbol>\n",
       "<symbol overflow=\"visible\" id=\"glyph2-12\">\n",
       "<path style=\"stroke:none;\" d=\"M 0 -4.5 L -4.015625 -4.5 C -4.328125 -4.5 -4.585938 -4.476562 -4.796875 -4.4375 C -5.003906 -4.40625 -5.171875 -4.34375 -5.296875 -4.25 C -5.421875 -4.15625 -5.507812 -4.03125 -5.5625 -3.875 C -5.613281 -3.726562 -5.640625 -3.550781 -5.640625 -3.34375 C -5.640625 -3.113281 -5.59375 -2.910156 -5.5 -2.734375 C -5.414062 -2.554688 -5.289062 -2.40625 -5.125 -2.28125 C -4.957031 -2.15625 -4.753906 -2.054688 -4.515625 -1.984375 C -4.273438 -1.910156 -3.992188 -1.875 -3.671875 -1.875 L 0 -1.875 L 0 -0.828125 L -4.984375 -0.828125 C -5.117188 -0.828125 -5.257812 -0.828125 -5.40625 -0.828125 C -5.550781 -0.828125 -5.6875 -0.820312 -5.8125 -0.8125 C -5.945312 -0.8125 -6.0625 -0.804688 -6.15625 -0.796875 C -6.25 -0.796875 -6.3125 -0.796875 -6.34375 -0.796875 L -6.34375 -1.796875 C -6.320312 -1.796875 -6.265625 -1.796875 -6.171875 -1.796875 C -6.085938 -1.804688 -5.988281 -1.8125 -5.875 -1.8125 C -5.769531 -1.820312 -5.660156 -1.828125 -5.546875 -1.828125 C -5.429688 -1.835938 -5.332031 -1.84375 -5.25 -1.84375 L -5.25 -1.859375 C -5.4375 -1.953125 -5.601562 -2.050781 -5.75 -2.15625 C -5.90625 -2.269531 -6.03125 -2.398438 -6.125 -2.546875 C -6.226562 -2.691406 -6.304688 -2.859375 -6.359375 -3.046875 C -6.421875 -3.234375 -6.453125 -3.453125 -6.453125 -3.703125 C -6.453125 -4.191406 -6.359375 -4.570312 -6.171875 -4.84375 C -5.984375 -5.125 -5.675781 -5.320312 -5.25 -5.4375 L -5.25 -5.453125 C -5.4375 -5.546875 -5.601562 -5.648438 -5.75 -5.765625 C -5.90625 -5.878906 -6.03125 -6.015625 -6.125 -6.171875 C -6.226562 -6.328125 -6.304688 -6.503906 -6.359375 -6.703125 C -6.421875 -6.898438 -6.453125 -7.125 -6.453125 -7.375 C -6.453125 -7.695312 -6.410156 -7.972656 -6.328125 -8.203125 C -6.242188 -8.429688 -6.109375 -8.617188 -5.921875 -8.765625 C -5.742188 -8.921875 -5.515625 -9.03125 -5.234375 -9.09375 C -4.953125 -9.164062 -4.613281 -9.203125 -4.21875 -9.203125 L 0 -9.203125 L 0 -8.15625 L -4.015625 -8.15625 C -4.328125 -8.15625 -4.585938 -8.132812 -4.796875 -8.09375 C -5.003906 -8.0625 -5.171875 -8 -5.296875 -7.90625 C -5.421875 -7.8125 -5.507812 -7.691406 -5.5625 -7.546875 C -5.613281 -7.398438 -5.640625 -7.21875 -5.640625 -7 C -5.640625 -6.78125 -5.597656 -6.578125 -5.515625 -6.390625 C -5.429688 -6.210938 -5.304688 -6.0625 -5.140625 -5.9375 C -4.984375 -5.8125 -4.78125 -5.710938 -4.53125 -5.640625 C -4.28125 -5.578125 -3.992188 -5.546875 -3.671875 -5.546875 L 0 -5.546875 Z M 0 -4.5 \"/>\n",
       "</symbol>\n",
       "<symbol overflow=\"visible\" id=\"glyph2-13\">\n",
       "<path style=\"stroke:none;\" d=\"M -2.953125 -1.625 C -2.617188 -1.625 -2.3125 -1.65625 -2.03125 -1.71875 C -1.75 -1.789062 -1.507812 -1.894531 -1.3125 -2.03125 C -1.113281 -2.175781 -0.957031 -2.359375 -0.84375 -2.578125 C -0.726562 -2.804688 -0.671875 -3.078125 -0.671875 -3.390625 C -0.671875 -3.847656 -0.757812 -4.210938 -0.9375 -4.484375 C -1.125 -4.765625 -1.359375 -4.953125 -1.640625 -5.046875 L -1.390625 -5.96875 C -1.210938 -5.90625 -1.035156 -5.8125 -0.859375 -5.6875 C -0.679688 -5.570312 -0.519531 -5.414062 -0.375 -5.21875 C -0.226562 -5.019531 -0.109375 -4.769531 -0.015625 -4.46875 C 0.078125 -4.164062 0.125 -3.804688 0.125 -3.390625 C 0.125 -2.453125 -0.15625 -1.738281 -0.71875 -1.25 C -1.28125 -0.757812 -2.113281 -0.515625 -3.21875 -0.515625 C -3.8125 -0.515625 -4.3125 -0.585938 -4.71875 -0.734375 C -5.132812 -0.878906 -5.46875 -1.082031 -5.71875 -1.34375 C -5.976562 -1.601562 -6.164062 -1.90625 -6.28125 -2.25 C -6.394531 -2.59375 -6.453125 -2.957031 -6.453125 -3.34375 C -6.453125 -3.875 -6.363281 -4.316406 -6.1875 -4.671875 C -6.019531 -5.035156 -5.785156 -5.320312 -5.484375 -5.53125 C -5.179688 -5.75 -4.820312 -5.90625 -4.40625 -6 C -4 -6.09375 -3.5625 -6.140625 -3.09375 -6.140625 L -2.953125 -6.140625 Z M -3.75 -5.046875 C -4.425781 -4.992188 -4.914062 -4.828125 -5.21875 -4.546875 C -5.519531 -4.265625 -5.671875 -3.859375 -5.671875 -3.328125 C -5.671875 -3.148438 -5.644531 -2.960938 -5.59375 -2.765625 C -5.539062 -2.578125 -5.441406 -2.398438 -5.296875 -2.234375 C -5.148438 -2.078125 -4.953125 -1.941406 -4.703125 -1.828125 C -4.453125 -1.710938 -4.132812 -1.644531 -3.75 -1.625 Z M -3.75 -5.046875 \"/>\n",
       "</symbol>\n",
       "<symbol overflow=\"visible\" id=\"glyph3-0\">\n",
       "<path style=\"stroke:none;\" d=\"M 0.484375 0 L 0.484375 -9.609375 L 4.3125 -9.609375 L 4.3125 0 Z M 0.953125 -0.484375 L 3.828125 -0.484375 L 3.828125 -9.125 L 0.953125 -9.125 Z M 0.953125 -0.484375 \"/>\n",
       "</symbol>\n",
       "<symbol overflow=\"visible\" id=\"glyph3-1\">\n",
       "<path style=\"stroke:none;\" d=\"M 1.1875 0 L 1.1875 -9.90625 L 8.703125 -9.90625 L 8.703125 -8.8125 L 2.53125 -8.8125 L 2.53125 -5.640625 L 8.28125 -5.640625 L 8.28125 -4.546875 L 2.53125 -4.546875 L 2.53125 -1.09375 L 8.984375 -1.09375 L 8.984375 0 Z M 1.1875 0 \"/>\n",
       "</symbol>\n",
       "<symbol overflow=\"visible\" id=\"glyph3-2\">\n",
       "<path style=\"stroke:none;\" d=\"M 6.6875 -2.109375 C 6.6875 -1.742188 6.613281 -1.421875 6.46875 -1.140625 C 6.332031 -0.867188 6.132812 -0.632812 5.875 -0.4375 C 5.613281 -0.25 5.289062 -0.101562 4.90625 0 C 4.519531 0.09375 4.082031 0.140625 3.59375 0.140625 C 3.15625 0.140625 2.757812 0.101562 2.40625 0.03125 C 2.050781 -0.03125 1.738281 -0.132812 1.46875 -0.28125 C 1.195312 -0.4375 0.972656 -0.632812 0.796875 -0.875 C 0.617188 -1.125 0.488281 -1.425781 0.40625 -1.78125 L 1.515625 -2 C 1.628906 -1.59375 1.851562 -1.296875 2.1875 -1.109375 C 2.519531 -0.921875 2.988281 -0.828125 3.59375 -0.828125 C 3.863281 -0.828125 4.113281 -0.84375 4.34375 -0.875 C 4.570312 -0.914062 4.765625 -0.976562 4.921875 -1.0625 C 5.085938 -1.15625 5.21875 -1.28125 5.3125 -1.4375 C 5.40625 -1.59375 5.453125 -1.78125 5.453125 -2 C 5.453125 -2.226562 5.394531 -2.414062 5.28125 -2.5625 C 5.175781 -2.71875 5.023438 -2.84375 4.828125 -2.9375 C 4.640625 -3.039062 4.410156 -3.128906 4.140625 -3.203125 C 3.867188 -3.273438 3.566406 -3.351562 3.234375 -3.4375 C 2.929688 -3.519531 2.628906 -3.609375 2.328125 -3.703125 C 2.023438 -3.804688 1.753906 -3.9375 1.515625 -4.09375 C 1.273438 -4.257812 1.078125 -4.460938 0.921875 -4.703125 C 0.773438 -4.941406 0.703125 -5.238281 0.703125 -5.59375 C 0.703125 -6.289062 0.945312 -6.820312 1.4375 -7.1875 C 1.9375 -7.550781 2.660156 -7.734375 3.609375 -7.734375 C 4.453125 -7.734375 5.117188 -7.582031 5.609375 -7.28125 C 6.109375 -6.988281 6.421875 -6.515625 6.546875 -5.859375 L 5.40625 -5.71875 C 5.363281 -5.914062 5.285156 -6.082031 5.171875 -6.21875 C 5.066406 -6.351562 4.929688 -6.460938 4.765625 -6.546875 C 4.609375 -6.628906 4.429688 -6.6875 4.234375 -6.71875 C 4.035156 -6.757812 3.828125 -6.78125 3.609375 -6.78125 C 3.035156 -6.78125 2.613281 -6.691406 2.34375 -6.515625 C 2.070312 -6.335938 1.9375 -6.070312 1.9375 -5.71875 C 1.9375 -5.519531 1.984375 -5.351562 2.078125 -5.21875 C 2.179688 -5.082031 2.320312 -4.96875 2.5 -4.875 C 2.6875 -4.78125 2.90625 -4.695312 3.15625 -4.625 C 3.40625 -4.5625 3.6875 -4.492188 4 -4.421875 C 4.195312 -4.367188 4.398438 -4.3125 4.609375 -4.25 C 4.828125 -4.195312 5.035156 -4.128906 5.234375 -4.046875 C 5.429688 -3.960938 5.617188 -3.863281 5.796875 -3.75 C 5.972656 -3.644531 6.125 -3.515625 6.25 -3.359375 C 6.382812 -3.203125 6.488281 -3.019531 6.5625 -2.8125 C 6.644531 -2.613281 6.6875 -2.378906 6.6875 -2.109375 Z M 6.6875 -2.109375 \"/>\n",
       "</symbol>\n",
       "<symbol overflow=\"visible\" id=\"glyph3-3\">\n",
       "<path style=\"stroke:none;\" d=\"M 3.890625 -0.0625 C 3.703125 -0.0078125 3.507812 0.03125 3.3125 0.0625 C 3.113281 0.09375 2.878906 0.109375 2.609375 0.109375 C 1.597656 0.109375 1.09375 -0.460938 1.09375 -1.609375 L 1.09375 -6.6875 L 0.21875 -6.6875 L 0.21875 -7.609375 L 1.140625 -7.609375 L 1.515625 -9.3125 L 2.359375 -9.3125 L 2.359375 -7.609375 L 3.765625 -7.609375 L 3.765625 -6.6875 L 2.359375 -6.6875 L 2.359375 -1.890625 C 2.359375 -1.523438 2.414062 -1.265625 2.53125 -1.109375 C 2.65625 -0.960938 2.867188 -0.890625 3.171875 -0.890625 C 3.285156 -0.890625 3.398438 -0.898438 3.515625 -0.921875 C 3.628906 -0.941406 3.753906 -0.960938 3.890625 -0.984375 Z M 3.890625 -0.0625 \"/>\n",
       "</symbol>\n",
       "<symbol overflow=\"visible\" id=\"glyph3-4\">\n",
       "<path style=\"stroke:none;\" d=\"M 0.96875 -9.234375 L 0.96875 -10.4375 L 2.234375 -10.4375 L 2.234375 -9.234375 Z M 0.96875 0 L 0.96875 -7.609375 L 2.234375 -7.609375 L 2.234375 0 Z M 0.96875 0 \"/>\n",
       "</symbol>\n",
       "<symbol overflow=\"visible\" id=\"glyph3-5\">\n",
       "<path style=\"stroke:none;\" d=\"M 5.40625 0 L 5.40625 -4.828125 C 5.40625 -5.191406 5.378906 -5.5 5.328125 -5.75 C 5.285156 -6 5.207031 -6.195312 5.09375 -6.34375 C 4.988281 -6.5 4.84375 -6.609375 4.65625 -6.671875 C 4.476562 -6.742188 4.265625 -6.78125 4.015625 -6.78125 C 3.742188 -6.78125 3.5 -6.722656 3.28125 -6.609375 C 3.070312 -6.503906 2.890625 -6.351562 2.734375 -6.15625 C 2.578125 -5.957031 2.457031 -5.710938 2.375 -5.421875 C 2.300781 -5.128906 2.265625 -4.789062 2.265625 -4.40625 L 2.265625 0 L 1 0 L 1 -5.984375 C 1 -6.140625 0.992188 -6.304688 0.984375 -6.484375 C 0.984375 -6.660156 0.984375 -6.828125 0.984375 -6.984375 C 0.984375 -7.140625 0.976562 -7.273438 0.96875 -7.390625 C 0.96875 -7.503906 0.960938 -7.578125 0.953125 -7.609375 L 2.15625 -7.609375 C 2.15625 -7.585938 2.15625 -7.523438 2.15625 -7.421875 C 2.164062 -7.316406 2.171875 -7.195312 2.171875 -7.0625 C 2.179688 -6.925781 2.1875 -6.789062 2.1875 -6.65625 C 2.195312 -6.519531 2.203125 -6.40625 2.203125 -6.3125 L 2.234375 -6.3125 C 2.347656 -6.53125 2.46875 -6.726562 2.59375 -6.90625 C 2.726562 -7.082031 2.878906 -7.234375 3.046875 -7.359375 C 3.222656 -7.484375 3.425781 -7.578125 3.65625 -7.640625 C 3.882812 -7.710938 4.148438 -7.75 4.453125 -7.75 C 5.023438 -7.75 5.476562 -7.632812 5.8125 -7.40625 C 6.15625 -7.175781 6.390625 -6.8125 6.515625 -6.3125 L 6.546875 -6.3125 C 6.648438 -6.53125 6.769531 -6.726562 6.90625 -6.90625 C 7.050781 -7.082031 7.21875 -7.234375 7.40625 -7.359375 C 7.601562 -7.484375 7.816406 -7.578125 8.046875 -7.640625 C 8.285156 -7.710938 8.550781 -7.75 8.84375 -7.75 C 9.226562 -7.75 9.5625 -7.695312 9.84375 -7.59375 C 10.125 -7.488281 10.351562 -7.328125 10.53125 -7.109375 C 10.707031 -6.898438 10.835938 -6.625 10.921875 -6.28125 C 11.003906 -5.945312 11.046875 -5.546875 11.046875 -5.078125 L 11.046875 0 L 9.796875 0 L 9.796875 -4.828125 C 9.796875 -5.191406 9.769531 -5.5 9.71875 -5.75 C 9.675781 -6 9.597656 -6.195312 9.484375 -6.34375 C 9.378906 -6.5 9.238281 -6.609375 9.0625 -6.671875 C 8.882812 -6.742188 8.664062 -6.78125 8.40625 -6.78125 C 8.132812 -6.78125 7.890625 -6.726562 7.671875 -6.625 C 7.460938 -6.519531 7.28125 -6.367188 7.125 -6.171875 C 6.976562 -5.972656 6.863281 -5.726562 6.78125 -5.4375 C 6.695312 -5.144531 6.65625 -4.800781 6.65625 -4.40625 L 6.65625 0 Z M 5.40625 0 \"/>\n",
       "</symbol>\n",
       "<symbol overflow=\"visible\" id=\"glyph3-6\">\n",
       "<path style=\"stroke:none;\" d=\"M 2.90625 0.140625 C 2.144531 0.140625 1.570312 -0.0546875 1.1875 -0.453125 C 0.800781 -0.859375 0.609375 -1.414062 0.609375 -2.125 C 0.609375 -2.625 0.703125 -3.035156 0.890625 -3.359375 C 1.085938 -3.679688 1.335938 -3.929688 1.640625 -4.109375 C 1.953125 -4.296875 2.300781 -4.421875 2.6875 -4.484375 C 3.082031 -4.554688 3.484375 -4.597656 3.890625 -4.609375 L 5.609375 -4.640625 L 5.609375 -5.0625 C 5.609375 -5.375 5.570312 -5.640625 5.5 -5.859375 C 5.4375 -6.078125 5.335938 -6.253906 5.203125 -6.390625 C 5.066406 -6.523438 4.894531 -6.625 4.6875 -6.6875 C 4.488281 -6.75 4.25 -6.78125 3.96875 -6.78125 C 3.726562 -6.78125 3.507812 -6.765625 3.3125 -6.734375 C 3.113281 -6.703125 2.941406 -6.640625 2.796875 -6.546875 C 2.648438 -6.453125 2.53125 -6.328125 2.4375 -6.171875 C 2.351562 -6.015625 2.296875 -5.816406 2.265625 -5.578125 L 0.953125 -5.703125 C 0.992188 -5.992188 1.078125 -6.265625 1.203125 -6.515625 C 1.335938 -6.773438 1.523438 -6.992188 1.765625 -7.171875 C 2.015625 -7.359375 2.320312 -7.5 2.6875 -7.59375 C 3.050781 -7.695312 3.488281 -7.75 4 -7.75 C 4.957031 -7.75 5.675781 -7.53125 6.15625 -7.09375 C 6.644531 -6.65625 6.890625 -6.019531 6.890625 -5.1875 L 6.890625 -1.90625 C 6.890625 -1.53125 6.9375 -1.25 7.03125 -1.0625 C 7.132812 -0.875 7.320312 -0.78125 7.59375 -0.78125 C 7.664062 -0.78125 7.734375 -0.785156 7.796875 -0.796875 C 7.867188 -0.804688 7.941406 -0.816406 8.015625 -0.828125 L 8.015625 -0.046875 C 7.847656 -0.00390625 7.6875 0.0234375 7.53125 0.046875 C 7.375 0.0664062 7.207031 0.078125 7.03125 0.078125 C 6.789062 0.078125 6.582031 0.046875 6.40625 -0.015625 C 6.238281 -0.0859375 6.101562 -0.1875 6 -0.3125 C 5.894531 -0.4375 5.8125 -0.59375 5.75 -0.78125 C 5.695312 -0.976562 5.664062 -1.203125 5.65625 -1.453125 L 5.609375 -1.453125 C 5.472656 -1.210938 5.320312 -0.992188 5.15625 -0.796875 C 5 -0.597656 4.8125 -0.425781 4.59375 -0.28125 C 4.375 -0.144531 4.128906 -0.0390625 3.859375 0.03125 C 3.585938 0.101562 3.269531 0.140625 2.90625 0.140625 Z M 3.203125 -0.8125 C 3.609375 -0.8125 3.960938 -0.882812 4.265625 -1.03125 C 4.566406 -1.175781 4.816406 -1.363281 5.015625 -1.59375 C 5.210938 -1.820312 5.359375 -2.070312 5.453125 -2.34375 C 5.554688 -2.613281 5.609375 -2.875 5.609375 -3.125 L 5.609375 -3.75 L 4.21875 -3.734375 C 3.90625 -3.722656 3.609375 -3.695312 3.328125 -3.65625 C 3.054688 -3.625 2.8125 -3.546875 2.59375 -3.421875 C 2.382812 -3.304688 2.21875 -3.140625 2.09375 -2.921875 C 1.96875 -2.710938 1.90625 -2.441406 1.90625 -2.109375 C 1.90625 -1.691406 2.015625 -1.367188 2.234375 -1.140625 C 2.460938 -0.921875 2.785156 -0.8125 3.203125 -0.8125 Z M 3.203125 -0.8125 \"/>\n",
       "</symbol>\n",
       "<symbol overflow=\"visible\" id=\"glyph3-7\">\n",
       "<path style=\"stroke:none;\" d=\"M 1.9375 -3.53125 C 1.9375 -3.132812 1.976562 -2.769531 2.0625 -2.4375 C 2.144531 -2.101562 2.269531 -1.8125 2.4375 -1.5625 C 2.613281 -1.320312 2.832031 -1.132812 3.09375 -1 C 3.363281 -0.875 3.6875 -0.8125 4.0625 -0.8125 C 4.613281 -0.8125 5.050781 -0.921875 5.375 -1.140625 C 5.707031 -1.359375 5.9375 -1.640625 6.0625 -1.984375 L 7.171875 -1.65625 C 7.085938 -1.445312 6.972656 -1.234375 6.828125 -1.015625 C 6.691406 -0.804688 6.503906 -0.613281 6.265625 -0.4375 C 6.023438 -0.269531 5.722656 -0.128906 5.359375 -0.015625 C 5.003906 0.0859375 4.570312 0.140625 4.0625 0.140625 C 2.9375 0.140625 2.078125 -0.191406 1.484375 -0.859375 C 0.898438 -1.535156 0.609375 -2.535156 0.609375 -3.859375 C 0.609375 -4.566406 0.695312 -5.164062 0.875 -5.65625 C 1.050781 -6.15625 1.296875 -6.5625 1.609375 -6.875 C 1.921875 -7.1875 2.28125 -7.410156 2.6875 -7.546875 C 3.101562 -7.679688 3.546875 -7.75 4.015625 -7.75 C 4.648438 -7.75 5.179688 -7.644531 5.609375 -7.4375 C 6.046875 -7.226562 6.394531 -6.941406 6.65625 -6.578125 C 6.914062 -6.222656 7.097656 -5.796875 7.203125 -5.296875 C 7.316406 -4.804688 7.375 -4.273438 7.375 -3.703125 L 7.375 -3.53125 Z M 6.0625 -4.515625 C 5.988281 -5.316406 5.78125 -5.898438 5.4375 -6.265625 C 5.101562 -6.628906 4.625 -6.8125 4 -6.8125 C 3.78125 -6.8125 3.554688 -6.773438 3.328125 -6.703125 C 3.097656 -6.640625 2.882812 -6.519531 2.6875 -6.34375 C 2.488281 -6.175781 2.320312 -5.941406 2.1875 -5.640625 C 2.050781 -5.347656 1.972656 -4.972656 1.953125 -4.515625 Z M 6.0625 -4.515625 \"/>\n",
       "</symbol>\n",
       "<symbol overflow=\"visible\" id=\"glyph3-8\">\n",
       "<path style=\"stroke:none;\" d=\"M 5.78125 -1.21875 C 5.539062 -0.738281 5.226562 -0.390625 4.84375 -0.171875 C 4.457031 0.0351562 3.976562 0.140625 3.40625 0.140625 C 2.445312 0.140625 1.738281 -0.179688 1.28125 -0.828125 C 0.832031 -1.472656 0.609375 -2.453125 0.609375 -3.765625 C 0.609375 -6.421875 1.539062 -7.75 3.40625 -7.75 C 3.976562 -7.75 4.457031 -7.644531 4.84375 -7.4375 C 5.226562 -7.226562 5.539062 -6.890625 5.78125 -6.421875 L 5.796875 -6.421875 C 5.796875 -6.472656 5.789062 -6.546875 5.78125 -6.640625 C 5.78125 -6.742188 5.78125 -6.847656 5.78125 -6.953125 C 5.78125 -7.066406 5.78125 -7.171875 5.78125 -7.265625 C 5.78125 -7.367188 5.78125 -7.441406 5.78125 -7.484375 L 5.78125 -10.4375 L 7.046875 -10.4375 L 7.046875 -1.5625 C 7.046875 -1.382812 7.046875 -1.207031 7.046875 -1.03125 C 7.046875 -0.863281 7.046875 -0.707031 7.046875 -0.5625 C 7.054688 -0.425781 7.0625 -0.304688 7.0625 -0.203125 C 7.070312 -0.109375 7.078125 -0.0390625 7.078125 0 L 5.875 0 C 5.863281 -0.0507812 5.851562 -0.117188 5.84375 -0.203125 C 5.84375 -0.285156 5.835938 -0.382812 5.828125 -0.5 C 5.816406 -0.613281 5.804688 -0.734375 5.796875 -0.859375 C 5.796875 -0.984375 5.796875 -1.101562 5.796875 -1.21875 Z M 1.9375 -3.8125 C 1.9375 -3.289062 1.96875 -2.84375 2.03125 -2.46875 C 2.09375 -2.09375 2.195312 -1.78125 2.34375 -1.53125 C 2.488281 -1.289062 2.675781 -1.113281 2.90625 -1 C 3.132812 -0.894531 3.410156 -0.84375 3.734375 -0.84375 C 4.066406 -0.84375 4.359375 -0.894531 4.609375 -1 C 4.867188 -1.101562 5.082031 -1.273438 5.25 -1.515625 C 5.425781 -1.765625 5.554688 -2.082031 5.640625 -2.46875 C 5.734375 -2.851562 5.78125 -3.328125 5.78125 -3.890625 C 5.78125 -4.429688 5.734375 -4.890625 5.640625 -5.265625 C 5.554688 -5.640625 5.425781 -5.941406 5.25 -6.171875 C 5.070312 -6.398438 4.859375 -6.5625 4.609375 -6.65625 C 4.359375 -6.757812 4.070312 -6.8125 3.75 -6.8125 C 3.4375 -6.8125 3.164062 -6.757812 2.9375 -6.65625 C 2.71875 -6.550781 2.53125 -6.378906 2.375 -6.140625 C 2.226562 -5.898438 2.117188 -5.585938 2.046875 -5.203125 C 1.972656 -4.816406 1.9375 -4.351562 1.9375 -3.8125 Z M 1.9375 -3.8125 \"/>\n",
       "</symbol>\n",
       "<symbol overflow=\"visible\" id=\"glyph3-9\">\n",
       "<path style=\"stroke:none;\" d=\"\"/>\n",
       "</symbol>\n",
       "<symbol overflow=\"visible\" id=\"glyph3-10\">\n",
       "<path style=\"stroke:none;\" d=\"M 1.9375 -3.84375 C 1.9375 -3.40625 1.96875 -3.003906 2.03125 -2.640625 C 2.09375 -2.273438 2.195312 -1.957031 2.34375 -1.6875 C 2.5 -1.425781 2.695312 -1.222656 2.9375 -1.078125 C 3.1875 -0.929688 3.492188 -0.859375 3.859375 -0.859375 C 4.304688 -0.859375 4.679688 -0.976562 4.984375 -1.21875 C 5.285156 -1.46875 5.472656 -1.84375 5.546875 -2.34375 L 6.828125 -2.265625 C 6.785156 -1.953125 6.691406 -1.648438 6.546875 -1.359375 C 6.410156 -1.066406 6.21875 -0.8125 5.96875 -0.59375 C 5.726562 -0.375 5.4375 -0.195312 5.09375 -0.0625 C 4.75 0.0703125 4.347656 0.140625 3.890625 0.140625 C 3.296875 0.140625 2.789062 0.0390625 2.375 -0.15625 C 1.957031 -0.363281 1.617188 -0.644531 1.359375 -1 C 1.097656 -1.351562 0.90625 -1.769531 0.78125 -2.25 C 0.664062 -2.726562 0.609375 -3.25 0.609375 -3.8125 C 0.609375 -4.320312 0.648438 -4.769531 0.734375 -5.15625 C 0.816406 -5.550781 0.9375 -5.894531 1.09375 -6.1875 C 1.25 -6.488281 1.425781 -6.738281 1.625 -6.9375 C 1.832031 -7.132812 2.054688 -7.289062 2.296875 -7.40625 C 2.546875 -7.53125 2.800781 -7.617188 3.0625 -7.671875 C 3.332031 -7.722656 3.601562 -7.75 3.875 -7.75 C 4.300781 -7.75 4.679688 -7.691406 5.015625 -7.578125 C 5.347656 -7.460938 5.632812 -7.300781 5.875 -7.09375 C 6.113281 -6.882812 6.304688 -6.640625 6.453125 -6.359375 C 6.609375 -6.085938 6.71875 -5.796875 6.78125 -5.484375 L 5.484375 -5.375 C 5.410156 -5.800781 5.238281 -6.140625 4.96875 -6.390625 C 4.707031 -6.640625 4.332031 -6.765625 3.84375 -6.765625 C 3.476562 -6.765625 3.175781 -6.703125 2.9375 -6.578125 C 2.695312 -6.460938 2.5 -6.28125 2.34375 -6.03125 C 2.195312 -5.789062 2.09375 -5.488281 2.03125 -5.125 C 1.96875 -4.757812 1.9375 -4.332031 1.9375 -3.84375 Z M 1.9375 -3.84375 \"/>\n",
       "</symbol>\n",
       "<symbol overflow=\"visible\" id=\"glyph3-11\">\n",
       "<path style=\"stroke:none;\" d=\"M 2.203125 -7.609375 L 2.203125 -2.78125 C 2.203125 -2.414062 2.226562 -2.109375 2.28125 -1.859375 C 2.34375 -1.609375 2.429688 -1.40625 2.546875 -1.25 C 2.671875 -1.101562 2.832031 -1 3.03125 -0.9375 C 3.226562 -0.875 3.476562 -0.84375 3.78125 -0.84375 C 4.082031 -0.84375 4.351562 -0.894531 4.59375 -1 C 4.832031 -1.101562 5.035156 -1.253906 5.203125 -1.453125 C 5.378906 -1.648438 5.515625 -1.894531 5.609375 -2.1875 C 5.703125 -2.476562 5.75 -2.816406 5.75 -3.203125 L 5.75 -7.609375 L 7.015625 -7.609375 L 7.015625 -1.625 C 7.015625 -1.46875 7.015625 -1.300781 7.015625 -1.125 C 7.015625 -0.945312 7.015625 -0.78125 7.015625 -0.625 C 7.023438 -0.46875 7.03125 -0.332031 7.03125 -0.21875 C 7.039062 -0.101562 7.050781 -0.03125 7.0625 0 L 5.859375 0 C 5.859375 -0.0195312 5.851562 -0.0820312 5.84375 -0.1875 C 5.84375 -0.289062 5.835938 -0.410156 5.828125 -0.546875 C 5.816406 -0.679688 5.804688 -0.816406 5.796875 -0.953125 C 5.796875 -1.085938 5.796875 -1.203125 5.796875 -1.296875 L 5.78125 -1.296875 C 5.65625 -1.078125 5.519531 -0.878906 5.375 -0.703125 C 5.226562 -0.523438 5.0625 -0.375 4.875 -0.25 C 4.6875 -0.125 4.46875 -0.03125 4.21875 0.03125 C 3.96875 0.101562 3.675781 0.140625 3.34375 0.140625 C 2.925781 0.140625 2.5625 0.0859375 2.25 -0.015625 C 1.945312 -0.117188 1.695312 -0.273438 1.5 -0.484375 C 1.300781 -0.703125 1.15625 -0.976562 1.0625 -1.3125 C 0.976562 -1.65625 0.9375 -2.066406 0.9375 -2.546875 L 0.9375 -7.609375 Z M 2.203125 -7.609375 \"/>\n",
       "</symbol>\n",
       "<symbol overflow=\"visible\" id=\"glyph3-12\">\n",
       "<path style=\"stroke:none;\" d=\"M 1 0 L 1 -5.84375 C 1 -6 0.992188 -6.160156 0.984375 -6.328125 C 0.984375 -6.492188 0.984375 -6.65625 0.984375 -6.8125 C 0.984375 -6.96875 0.976562 -7.113281 0.96875 -7.25 C 0.96875 -7.382812 0.960938 -7.503906 0.953125 -7.609375 L 2.15625 -7.609375 C 2.15625 -7.503906 2.160156 -7.378906 2.171875 -7.234375 C 2.179688 -7.097656 2.1875 -6.957031 2.1875 -6.8125 C 2.195312 -6.664062 2.203125 -6.523438 2.203125 -6.390625 C 2.203125 -6.265625 2.203125 -6.15625 2.203125 -6.0625 L 2.234375 -6.0625 C 2.328125 -6.351562 2.421875 -6.601562 2.515625 -6.8125 C 2.617188 -7.019531 2.738281 -7.191406 2.875 -7.328125 C 3.007812 -7.472656 3.171875 -7.578125 3.359375 -7.640625 C 3.546875 -7.710938 3.773438 -7.75 4.046875 -7.75 C 4.148438 -7.75 4.25 -7.738281 4.34375 -7.71875 C 4.4375 -7.707031 4.507812 -7.695312 4.5625 -7.6875 L 4.5625 -6.515625 C 4.476562 -6.546875 4.378906 -6.566406 4.265625 -6.578125 C 4.148438 -6.585938 4.023438 -6.59375 3.890625 -6.59375 C 3.597656 -6.59375 3.347656 -6.523438 3.140625 -6.390625 C 2.929688 -6.265625 2.765625 -6.082031 2.640625 -5.84375 C 2.515625 -5.613281 2.421875 -5.335938 2.359375 -5.015625 C 2.296875 -4.691406 2.265625 -4.34375 2.265625 -3.96875 L 2.265625 0 Z M 1 0 \"/>\n",
       "</symbol>\n",
       "<symbol overflow=\"visible\" id=\"glyph3-13\">\n",
       "<path style=\"stroke:none;\" d=\"M 4.25 0 C 4.070312 0.457031 3.890625 0.867188 3.703125 1.234375 C 3.515625 1.609375 3.304688 1.925781 3.078125 2.1875 C 2.847656 2.445312 2.59375 2.644531 2.3125 2.78125 C 2.03125 2.914062 1.707031 2.984375 1.34375 2.984375 C 1.1875 2.984375 1.039062 2.976562 0.90625 2.96875 C 0.769531 2.96875 0.625 2.945312 0.46875 2.90625 L 0.46875 1.96875 C 0.5625 1.976562 0.660156 1.984375 0.765625 1.984375 C 0.878906 1.992188 0.976562 2 1.0625 2 C 1.4375 2 1.78125 1.859375 2.09375 1.578125 C 2.414062 1.304688 2.695312 0.867188 2.9375 0.265625 L 3.046875 -0.03125 L 0.03125 -7.609375 L 1.390625 -7.609375 L 2.984375 -3.40625 C 3.035156 -3.28125 3.097656 -3.109375 3.171875 -2.890625 C 3.242188 -2.679688 3.316406 -2.472656 3.390625 -2.265625 C 3.460938 -2.054688 3.523438 -1.863281 3.578125 -1.6875 C 3.640625 -1.519531 3.671875 -1.414062 3.671875 -1.375 C 3.691406 -1.425781 3.726562 -1.523438 3.78125 -1.671875 C 3.832031 -1.828125 3.890625 -2 3.953125 -2.1875 C 4.023438 -2.375 4.097656 -2.5625 4.171875 -2.75 C 4.242188 -2.945312 4.300781 -3.117188 4.34375 -3.265625 L 5.84375 -7.609375 L 7.171875 -7.609375 Z M 4.25 0 \"/>\n",
       "</symbol>\n",
       "<symbol overflow=\"visible\" id=\"glyph3-14\">\n",
       "<path style=\"stroke:none;\" d=\"M 4.3125 0 L 2.8125 0 L 0.046875 -7.609375 L 1.40625 -7.609375 L 3.078125 -2.65625 C 3.109375 -2.550781 3.144531 -2.425781 3.1875 -2.28125 C 3.226562 -2.132812 3.269531 -1.976562 3.3125 -1.8125 C 3.363281 -1.65625 3.410156 -1.503906 3.453125 -1.359375 C 3.492188 -1.210938 3.53125 -1.085938 3.5625 -0.984375 C 3.59375 -1.085938 3.628906 -1.210938 3.671875 -1.359375 C 3.710938 -1.503906 3.753906 -1.65625 3.796875 -1.8125 C 3.847656 -1.96875 3.898438 -2.117188 3.953125 -2.265625 C 4.003906 -2.410156 4.046875 -2.535156 4.078125 -2.640625 L 5.8125 -7.609375 L 7.15625 -7.609375 Z M 4.3125 0 \"/>\n",
       "</symbol>\n",
       "<symbol overflow=\"visible\" id=\"glyph3-15\">\n",
       "<path style=\"stroke:none;\" d=\"M 2.234375 -6.3125 C 2.367188 -6.570312 2.519531 -6.789062 2.6875 -6.96875 C 2.851562 -7.144531 3.035156 -7.289062 3.234375 -7.40625 C 3.429688 -7.53125 3.644531 -7.617188 3.875 -7.671875 C 4.113281 -7.722656 4.375 -7.75 4.65625 -7.75 C 5.144531 -7.75 5.546875 -7.679688 5.859375 -7.546875 C 6.171875 -7.421875 6.414062 -7.238281 6.59375 -7 C 6.78125 -6.757812 6.90625 -6.472656 6.96875 -6.140625 C 7.039062 -5.816406 7.078125 -5.460938 7.078125 -5.078125 L 7.078125 0 L 5.796875 0 L 5.796875 -4.828125 C 5.796875 -5.148438 5.773438 -5.429688 5.734375 -5.671875 C 5.703125 -5.921875 5.628906 -6.125 5.515625 -6.28125 C 5.398438 -6.445312 5.238281 -6.570312 5.03125 -6.65625 C 4.832031 -6.738281 4.566406 -6.78125 4.234375 -6.78125 C 3.929688 -6.78125 3.660156 -6.722656 3.421875 -6.609375 C 3.179688 -6.503906 2.972656 -6.351562 2.796875 -6.15625 C 2.628906 -5.957031 2.5 -5.71875 2.40625 -5.4375 C 2.3125 -5.15625 2.265625 -4.835938 2.265625 -4.484375 L 2.265625 0 L 1 0 L 1 -10.4375 L 2.265625 -10.4375 L 2.265625 -7.71875 C 2.265625 -7.5625 2.257812 -7.40625 2.25 -7.25 C 2.25 -7.101562 2.242188 -6.960938 2.234375 -6.828125 C 2.234375 -6.703125 2.226562 -6.59375 2.21875 -6.5 C 2.21875 -6.40625 2.210938 -6.34375 2.203125 -6.3125 Z M 2.234375 -6.3125 \"/>\n",
       "</symbol>\n",
       "<symbol overflow=\"visible\" id=\"glyph3-16\">\n",
       "<path style=\"stroke:none;\" d=\"M 5.796875 0 L 5.796875 -4.828125 C 5.796875 -5.191406 5.769531 -5.5 5.71875 -5.75 C 5.664062 -6 5.578125 -6.195312 5.453125 -6.34375 C 5.335938 -6.5 5.175781 -6.609375 4.96875 -6.671875 C 4.769531 -6.742188 4.523438 -6.78125 4.234375 -6.78125 C 3.929688 -6.78125 3.660156 -6.722656 3.421875 -6.609375 C 3.179688 -6.503906 2.972656 -6.351562 2.796875 -6.15625 C 2.628906 -5.957031 2.5 -5.710938 2.40625 -5.421875 C 2.3125 -5.128906 2.265625 -4.789062 2.265625 -4.40625 L 2.265625 0 L 1 0 L 1 -5.984375 C 1 -6.140625 0.992188 -6.304688 0.984375 -6.484375 C 0.984375 -6.660156 0.984375 -6.828125 0.984375 -6.984375 C 0.984375 -7.140625 0.976562 -7.273438 0.96875 -7.390625 C 0.96875 -7.503906 0.960938 -7.578125 0.953125 -7.609375 L 2.15625 -7.609375 C 2.15625 -7.585938 2.15625 -7.523438 2.15625 -7.421875 C 2.164062 -7.316406 2.171875 -7.195312 2.171875 -7.0625 C 2.179688 -6.925781 2.1875 -6.789062 2.1875 -6.65625 C 2.195312 -6.519531 2.203125 -6.40625 2.203125 -6.3125 L 2.234375 -6.3125 C 2.347656 -6.53125 2.476562 -6.726562 2.625 -6.90625 C 2.769531 -7.082031 2.9375 -7.234375 3.125 -7.359375 C 3.320312 -7.484375 3.546875 -7.578125 3.796875 -7.640625 C 4.046875 -7.710938 4.332031 -7.75 4.65625 -7.75 C 5.082031 -7.75 5.445312 -7.695312 5.75 -7.59375 C 6.0625 -7.488281 6.3125 -7.328125 6.5 -7.109375 C 6.695312 -6.898438 6.84375 -6.625 6.9375 -6.28125 C 7.03125 -5.945312 7.078125 -5.546875 7.078125 -5.078125 L 7.078125 0 Z M 5.796875 0 \"/>\n",
       "</symbol>\n",
       "<symbol overflow=\"visible\" id=\"glyph3-17\">\n",
       "<path style=\"stroke:none;\" d=\"M 7.40625 -3.84375 C 7.40625 -1.1875 6.472656 0.140625 4.609375 0.140625 C 4.035156 0.140625 3.554688 0.0351562 3.171875 -0.171875 C 2.785156 -0.378906 2.472656 -0.71875 2.234375 -1.1875 L 2.21875 -1.1875 C 2.21875 -1.0625 2.210938 -0.929688 2.203125 -0.796875 C 2.203125 -0.671875 2.195312 -0.550781 2.1875 -0.4375 C 2.1875 -0.320312 2.179688 -0.222656 2.171875 -0.140625 C 2.160156 -0.0664062 2.15625 -0.0195312 2.15625 0 L 0.921875 0 C 0.929688 -0.0390625 0.9375 -0.109375 0.9375 -0.203125 C 0.945312 -0.304688 0.953125 -0.425781 0.953125 -0.5625 C 0.960938 -0.707031 0.96875 -0.863281 0.96875 -1.03125 C 0.96875 -1.207031 0.96875 -1.382812 0.96875 -1.5625 L 0.96875 -10.4375 L 2.234375 -10.4375 L 2.234375 -7.46875 C 2.234375 -7.320312 2.234375 -7.179688 2.234375 -7.046875 C 2.234375 -6.921875 2.226562 -6.8125 2.21875 -6.71875 C 2.21875 -6.601562 2.210938 -6.492188 2.203125 -6.390625 L 2.234375 -6.390625 C 2.472656 -6.878906 2.785156 -7.226562 3.171875 -7.4375 C 3.554688 -7.644531 4.035156 -7.75 4.609375 -7.75 C 5.566406 -7.75 6.269531 -7.425781 6.71875 -6.78125 C 7.175781 -6.132812 7.40625 -5.15625 7.40625 -3.84375 Z M 6.078125 -3.796875 C 6.078125 -4.328125 6.039062 -4.78125 5.96875 -5.15625 C 5.90625 -5.53125 5.800781 -5.835938 5.65625 -6.078125 C 5.507812 -6.316406 5.320312 -6.492188 5.09375 -6.609375 C 4.875 -6.722656 4.601562 -6.78125 4.28125 -6.78125 C 3.945312 -6.78125 3.648438 -6.722656 3.390625 -6.609375 C 3.140625 -6.503906 2.925781 -6.332031 2.75 -6.09375 C 2.582031 -5.851562 2.453125 -5.535156 2.359375 -5.140625 C 2.273438 -4.753906 2.234375 -4.28125 2.234375 -3.71875 C 2.234375 -3.175781 2.273438 -2.71875 2.359375 -2.34375 C 2.453125 -1.976562 2.582031 -1.675781 2.75 -1.4375 C 2.925781 -1.207031 3.140625 -1.039062 3.390625 -0.9375 C 3.648438 -0.84375 3.941406 -0.796875 4.265625 -0.796875 C 4.578125 -0.796875 4.84375 -0.847656 5.0625 -0.953125 C 5.289062 -1.066406 5.476562 -1.242188 5.625 -1.484375 C 5.78125 -1.722656 5.894531 -2.03125 5.96875 -2.40625 C 6.039062 -2.789062 6.078125 -3.253906 6.078125 -3.796875 Z M 6.078125 -3.796875 \"/>\n",
       "</symbol>\n",
       "<symbol overflow=\"visible\" id=\"glyph3-18\">\n",
       "<path style=\"stroke:none;\" d=\"M 7.40625 -3.8125 C 7.40625 -2.476562 7.113281 -1.484375 6.53125 -0.828125 C 5.945312 -0.179688 5.09375 0.140625 3.96875 0.140625 C 3.4375 0.140625 2.960938 0.0625 2.546875 -0.09375 C 2.128906 -0.257812 1.773438 -0.503906 1.484375 -0.828125 C 1.203125 -1.160156 0.984375 -1.570312 0.828125 -2.0625 C 0.679688 -2.5625 0.609375 -3.144531 0.609375 -3.8125 C 0.609375 -6.4375 1.742188 -7.75 4.015625 -7.75 C 4.609375 -7.75 5.117188 -7.664062 5.546875 -7.5 C 5.972656 -7.34375 6.320312 -7.097656 6.59375 -6.765625 C 6.875 -6.441406 7.078125 -6.03125 7.203125 -5.53125 C 7.335938 -5.039062 7.40625 -4.46875 7.40625 -3.8125 Z M 6.078125 -3.8125 C 6.078125 -4.40625 6.03125 -4.894531 5.9375 -5.28125 C 5.84375 -5.664062 5.707031 -5.972656 5.53125 -6.203125 C 5.363281 -6.429688 5.148438 -6.585938 4.890625 -6.671875 C 4.640625 -6.765625 4.351562 -6.8125 4.03125 -6.8125 C 3.707031 -6.8125 3.414062 -6.765625 3.15625 -6.671875 C 2.894531 -6.578125 2.671875 -6.410156 2.484375 -6.171875 C 2.304688 -5.941406 2.171875 -5.632812 2.078125 -5.25 C 1.984375 -4.863281 1.9375 -4.382812 1.9375 -3.8125 C 1.9375 -3.21875 1.988281 -2.726562 2.09375 -2.34375 C 2.195312 -1.957031 2.335938 -1.648438 2.515625 -1.421875 C 2.691406 -1.191406 2.90625 -1.03125 3.15625 -0.9375 C 3.40625 -0.84375 3.671875 -0.796875 3.953125 -0.796875 C 4.285156 -0.796875 4.582031 -0.835938 4.84375 -0.921875 C 5.101562 -1.015625 5.320312 -1.175781 5.5 -1.40625 C 5.6875 -1.644531 5.828125 -1.957031 5.921875 -2.34375 C 6.023438 -2.726562 6.078125 -3.21875 6.078125 -3.8125 Z M 6.078125 -3.8125 \"/>\n",
       "</symbol>\n",
       "<symbol overflow=\"visible\" id=\"glyph3-19\">\n",
       "<path style=\"stroke:none;\" d=\"M 2.546875 -6.6875 L 2.546875 0 L 1.265625 0 L 1.265625 -6.6875 L 0.203125 -6.6875 L 0.203125 -7.609375 L 1.265625 -7.609375 L 1.265625 -8.46875 C 1.265625 -8.75 1.289062 -9.003906 1.34375 -9.234375 C 1.394531 -9.472656 1.488281 -9.679688 1.625 -9.859375 C 1.769531 -10.035156 1.960938 -10.171875 2.203125 -10.265625 C 2.441406 -10.367188 2.75 -10.421875 3.125 -10.421875 C 3.28125 -10.421875 3.4375 -10.410156 3.59375 -10.390625 C 3.757812 -10.378906 3.90625 -10.363281 4.03125 -10.34375 L 4.03125 -9.375 C 3.945312 -9.382812 3.851562 -9.394531 3.75 -9.40625 C 3.644531 -9.425781 3.546875 -9.4375 3.453125 -9.4375 C 3.265625 -9.4375 3.113281 -9.410156 3 -9.359375 C 2.882812 -9.304688 2.789062 -9.226562 2.71875 -9.125 C 2.644531 -9.03125 2.597656 -8.910156 2.578125 -8.765625 C 2.554688 -8.628906 2.546875 -8.472656 2.546875 -8.296875 L 2.546875 -7.609375 L 4.03125 -7.609375 L 4.03125 -6.6875 Z M 2.546875 -6.6875 \"/>\n",
       "</symbol>\n",
       "<symbol overflow=\"visible\" id=\"glyph3-20\">\n",
       "<path style=\"stroke:none;\" d=\"M 3.859375 2.984375 C 3.421875 2.984375 3.03125 2.9375 2.6875 2.84375 C 2.351562 2.757812 2.066406 2.632812 1.828125 2.46875 C 1.585938 2.300781 1.390625 2.101562 1.234375 1.875 C 1.085938 1.644531 0.984375 1.390625 0.921875 1.109375 L 2.1875 0.921875 C 2.28125 1.273438 2.46875 1.546875 2.75 1.734375 C 3.039062 1.929688 3.421875 2.03125 3.890625 2.03125 C 4.171875 2.03125 4.425781 1.988281 4.65625 1.90625 C 4.894531 1.820312 5.097656 1.691406 5.265625 1.515625 C 5.429688 1.347656 5.554688 1.125 5.640625 0.84375 C 5.734375 0.5625 5.78125 0.21875 5.78125 -0.1875 L 5.78125 -1.40625 L 5.765625 -1.40625 C 5.671875 -1.21875 5.554688 -1.035156 5.421875 -0.859375 C 5.285156 -0.679688 5.113281 -0.523438 4.90625 -0.390625 C 4.707031 -0.253906 4.476562 -0.144531 4.21875 -0.0625 C 3.957031 0.0195312 3.65625 0.0625 3.3125 0.0625 C 2.832031 0.0625 2.421875 -0.015625 2.078125 -0.171875 C 1.734375 -0.335938 1.453125 -0.582031 1.234375 -0.90625 C 1.015625 -1.238281 0.851562 -1.644531 0.75 -2.125 C 0.65625 -2.601562 0.609375 -3.160156 0.609375 -3.796875 C 0.609375 -4.398438 0.65625 -4.945312 0.75 -5.4375 C 0.851562 -5.925781 1.019531 -6.335938 1.25 -6.671875 C 1.476562 -7.015625 1.773438 -7.273438 2.140625 -7.453125 C 2.503906 -7.640625 2.941406 -7.734375 3.453125 -7.734375 C 3.992188 -7.734375 4.460938 -7.609375 4.859375 -7.359375 C 5.253906 -7.109375 5.5625 -6.757812 5.78125 -6.3125 L 5.796875 -6.3125 C 5.796875 -6.425781 5.796875 -6.554688 5.796875 -6.703125 C 5.804688 -6.847656 5.816406 -6.984375 5.828125 -7.109375 C 5.835938 -7.242188 5.84375 -7.359375 5.84375 -7.453125 C 5.851562 -7.546875 5.863281 -7.597656 5.875 -7.609375 L 7.078125 -7.609375 C 7.078125 -7.566406 7.070312 -7.492188 7.0625 -7.390625 C 7.0625 -7.296875 7.054688 -7.175781 7.046875 -7.03125 C 7.046875 -6.894531 7.046875 -6.738281 7.046875 -6.5625 C 7.046875 -6.394531 7.046875 -6.21875 7.046875 -6.03125 L 7.046875 -0.21875 C 7.046875 0.84375 6.78125 1.640625 6.25 2.171875 C 5.726562 2.710938 4.929688 2.984375 3.859375 2.984375 Z M 5.78125 -3.8125 C 5.78125 -4.332031 5.722656 -4.78125 5.609375 -5.15625 C 5.492188 -5.539062 5.34375 -5.851562 5.15625 -6.09375 C 4.96875 -6.332031 4.753906 -6.503906 4.515625 -6.609375 C 4.273438 -6.722656 4.023438 -6.78125 3.765625 -6.78125 C 3.441406 -6.78125 3.164062 -6.722656 2.9375 -6.609375 C 2.707031 -6.503906 2.515625 -6.328125 2.359375 -6.078125 C 2.203125 -5.835938 2.085938 -5.53125 2.015625 -5.15625 C 1.941406 -4.78125 1.90625 -4.332031 1.90625 -3.8125 C 1.90625 -3.257812 1.941406 -2.796875 2.015625 -2.421875 C 2.085938 -2.046875 2.195312 -1.742188 2.34375 -1.515625 C 2.5 -1.285156 2.691406 -1.117188 2.921875 -1.015625 C 3.148438 -0.921875 3.425781 -0.875 3.75 -0.875 C 4 -0.875 4.242188 -0.925781 4.484375 -1.03125 C 4.734375 -1.144531 4.953125 -1.316406 5.140625 -1.546875 C 5.335938 -1.785156 5.492188 -2.085938 5.609375 -2.453125 C 5.722656 -2.828125 5.78125 -3.28125 5.78125 -3.8125 Z M 5.78125 -3.8125 \"/>\n",
       "</symbol>\n",
       "<symbol overflow=\"visible\" id=\"glyph3-21\">\n",
       "<path style=\"stroke:none;\" d=\"M 0.890625 -3.75 C 0.890625 -4.394531 0.9375 -5.015625 1.03125 -5.609375 C 1.132812 -6.203125 1.289062 -6.773438 1.5 -7.328125 C 1.71875 -7.878906 1.988281 -8.410156 2.3125 -8.921875 C 2.644531 -9.441406 3.035156 -9.945312 3.484375 -10.4375 L 4.71875 -10.4375 C 4.269531 -9.945312 3.882812 -9.441406 3.5625 -8.921875 C 3.25 -8.398438 2.988281 -7.863281 2.78125 -7.3125 C 2.570312 -6.769531 2.414062 -6.195312 2.3125 -5.59375 C 2.21875 -5 2.171875 -4.378906 2.171875 -3.734375 C 2.171875 -3.078125 2.21875 -2.453125 2.3125 -1.859375 C 2.414062 -1.265625 2.570312 -0.6875 2.78125 -0.125 C 2.988281 0.425781 3.25 0.957031 3.5625 1.46875 C 3.882812 1.988281 4.269531 2.492188 4.71875 2.984375 L 3.484375 2.984375 C 3.035156 2.492188 2.644531 1.988281 2.3125 1.46875 C 1.988281 0.957031 1.71875 0.425781 1.5 -0.125 C 1.289062 -0.675781 1.132812 -1.25 1.03125 -1.84375 C 0.9375 -2.4375 0.890625 -3.0625 0.890625 -3.71875 Z M 0.890625 -3.75 \"/>\n",
       "</symbol>\n",
       "<symbol overflow=\"visible\" id=\"glyph3-22\">\n",
       "<path style=\"stroke:none;\" d=\"M 5.734375 0 L 3.171875 -3.46875 L 2.234375 -2.703125 L 2.234375 0 L 0.96875 0 L 0.96875 -10.4375 L 2.234375 -10.4375 L 2.234375 -3.921875 L 5.578125 -7.609375 L 7.0625 -7.609375 L 3.96875 -4.34375 L 7.21875 0 Z M 5.734375 0 \"/>\n",
       "</symbol>\n",
       "<symbol overflow=\"visible\" id=\"glyph3-23\">\n",
       "<path style=\"stroke:none;\" d=\"M 0.703125 -6.015625 L 0.703125 -7.0625 L 7.703125 -7.0625 L 7.703125 -6.015625 Z M 0.703125 -2.421875 L 0.703125 -3.453125 L 7.703125 -3.453125 L 7.703125 -2.421875 Z M 0.703125 -2.421875 \"/>\n",
       "</symbol>\n",
       "<symbol overflow=\"visible\" id=\"glyph3-24\">\n",
       "<path style=\"stroke:none;\" d=\"M 1.09375 0 L 1.09375 -1.078125 L 3.625 -1.078125 L 3.625 -8.703125 L 1.390625 -7.109375 L 1.390625 -8.296875 L 3.734375 -9.90625 L 4.890625 -9.90625 L 4.890625 -1.078125 L 7.3125 -1.078125 L 7.3125 0 Z M 1.09375 0 \"/>\n",
       "</symbol>\n",
       "<symbol overflow=\"visible\" id=\"glyph3-25\">\n",
       "<path style=\"stroke:none;\" d=\"M 7.453125 -4.953125 C 7.453125 -4.003906 7.359375 -3.203125 7.171875 -2.546875 C 6.992188 -1.898438 6.75 -1.375 6.4375 -0.96875 C 6.125 -0.570312 5.753906 -0.285156 5.328125 -0.109375 C 4.910156 0.0546875 4.460938 0.140625 3.984375 0.140625 C 3.503906 0.140625 3.054688 0.0546875 2.640625 -0.109375 C 2.222656 -0.285156 1.859375 -0.570312 1.546875 -0.96875 C 1.242188 -1.375 1.003906 -1.898438 0.828125 -2.546875 C 0.648438 -3.203125 0.5625 -4.003906 0.5625 -4.953125 C 0.5625 -5.953125 0.648438 -6.78125 0.828125 -7.4375 C 1.003906 -8.09375 1.242188 -8.613281 1.546875 -9 C 1.859375 -9.394531 2.222656 -9.671875 2.640625 -9.828125 C 3.066406 -9.984375 3.53125 -10.0625 4.03125 -10.0625 C 4.5 -10.0625 4.941406 -9.984375 5.359375 -9.828125 C 5.773438 -9.671875 6.140625 -9.394531 6.453125 -9 C 6.765625 -8.613281 7.007812 -8.09375 7.1875 -7.4375 C 7.363281 -6.78125 7.453125 -5.953125 7.453125 -4.953125 Z M 6.15625 -4.953125 C 6.15625 -5.742188 6.109375 -6.398438 6.015625 -6.921875 C 5.921875 -7.441406 5.78125 -7.859375 5.59375 -8.171875 C 5.414062 -8.484375 5.191406 -8.703125 4.921875 -8.828125 C 4.660156 -8.960938 4.363281 -9.03125 4.03125 -9.03125 C 3.675781 -9.03125 3.363281 -8.960938 3.09375 -8.828125 C 2.820312 -8.703125 2.59375 -8.484375 2.40625 -8.171875 C 2.21875 -7.859375 2.078125 -7.441406 1.984375 -6.921875 C 1.890625 -6.398438 1.84375 -5.742188 1.84375 -4.953125 C 1.84375 -4.191406 1.890625 -3.550781 1.984375 -3.03125 C 2.078125 -2.519531 2.21875 -2.101562 2.40625 -1.78125 C 2.59375 -1.46875 2.816406 -1.238281 3.078125 -1.09375 C 3.347656 -0.957031 3.65625 -0.890625 4 -0.890625 C 4.332031 -0.890625 4.628906 -0.957031 4.890625 -1.09375 C 5.160156 -1.238281 5.390625 -1.46875 5.578125 -1.78125 C 5.765625 -2.101562 5.90625 -2.519531 6 -3.03125 C 6.101562 -3.550781 6.15625 -4.191406 6.15625 -4.953125 Z M 6.15625 -4.953125 \"/>\n",
       "</symbol>\n",
       "<symbol overflow=\"visible\" id=\"glyph3-26\">\n",
       "<path style=\"stroke:none;\" d=\"M 3.90625 -3.71875 C 3.90625 -3.0625 3.851562 -2.4375 3.75 -1.84375 C 3.65625 -1.25 3.5 -0.675781 3.28125 -0.125 C 3.070312 0.425781 2.800781 0.957031 2.46875 1.46875 C 2.144531 1.988281 1.757812 2.492188 1.3125 2.984375 L 0.078125 2.984375 C 0.523438 2.492188 0.90625 1.988281 1.21875 1.46875 C 1.539062 0.957031 1.804688 0.425781 2.015625 -0.125 C 2.222656 -0.6875 2.375 -1.265625 2.46875 -1.859375 C 2.570312 -2.453125 2.625 -3.078125 2.625 -3.734375 C 2.625 -4.378906 2.570312 -5 2.46875 -5.59375 C 2.375 -6.195312 2.222656 -6.769531 2.015625 -7.3125 C 1.804688 -7.863281 1.539062 -8.398438 1.21875 -8.921875 C 0.90625 -9.441406 0.523438 -9.945312 0.078125 -10.4375 L 1.3125 -10.4375 C 1.757812 -9.945312 2.144531 -9.441406 2.46875 -8.921875 C 2.800781 -8.410156 3.070312 -7.878906 3.28125 -7.328125 C 3.5 -6.773438 3.65625 -6.203125 3.75 -5.609375 C 3.851562 -5.015625 3.90625 -4.394531 3.90625 -3.75 Z M 3.90625 -3.71875 \"/>\n",
       "</symbol>\n",
       "</g>\n",
       "<clipPath id=\"clip1\">\n",
       "  <path d=\"M 43.152344 23.957031 L 498.523438 23.957031 L 498.523438 469.847656 L 43.152344 469.847656 Z M 43.152344 23.957031 \"/>\n",
       "</clipPath>\n",
       "<clipPath id=\"clip2\">\n",
       "  <path d=\"M 43.152344 419 L 498.523438 419 L 498.523438 420 L 43.152344 420 Z M 43.152344 419 \"/>\n",
       "</clipPath>\n",
       "<clipPath id=\"clip3\">\n",
       "  <path d=\"M 43.152344 292 L 498.523438 292 L 498.523438 293 L 43.152344 293 Z M 43.152344 292 \"/>\n",
       "</clipPath>\n",
       "<clipPath id=\"clip4\">\n",
       "  <path d=\"M 43.152344 165 L 498.523438 165 L 498.523438 166 L 43.152344 166 Z M 43.152344 165 \"/>\n",
       "</clipPath>\n",
       "<clipPath id=\"clip5\">\n",
       "  <path d=\"M 43.152344 38 L 498.523438 38 L 498.523438 39 L 43.152344 39 Z M 43.152344 38 \"/>\n",
       "</clipPath>\n",
       "<clipPath id=\"clip6\">\n",
       "  <path d=\"M 48 23.957031 L 49 23.957031 L 49 469.847656 L 48 469.847656 Z M 48 23.957031 \"/>\n",
       "</clipPath>\n",
       "<clipPath id=\"clip7\">\n",
       "  <path d=\"M 70 23.957031 L 71 23.957031 L 71 469.847656 L 70 469.847656 Z M 70 23.957031 \"/>\n",
       "</clipPath>\n",
       "<clipPath id=\"clip8\">\n",
       "  <path d=\"M 91 23.957031 L 93 23.957031 L 93 469.847656 L 91 469.847656 Z M 91 23.957031 \"/>\n",
       "</clipPath>\n",
       "<clipPath id=\"clip9\">\n",
       "  <path d=\"M 113 23.957031 L 115 23.957031 L 115 469.847656 L 113 469.847656 Z M 113 23.957031 \"/>\n",
       "</clipPath>\n",
       "<clipPath id=\"clip10\">\n",
       "  <path d=\"M 135 23.957031 L 137 23.957031 L 137 469.847656 L 135 469.847656 Z M 135 23.957031 \"/>\n",
       "</clipPath>\n",
       "<clipPath id=\"clip11\">\n",
       "  <path d=\"M 157 23.957031 L 158 23.957031 L 158 469.847656 L 157 469.847656 Z M 157 23.957031 \"/>\n",
       "</clipPath>\n",
       "<clipPath id=\"clip12\">\n",
       "  <path d=\"M 179 23.957031 L 180 23.957031 L 180 469.847656 L 179 469.847656 Z M 179 23.957031 \"/>\n",
       "</clipPath>\n",
       "<clipPath id=\"clip13\">\n",
       "  <path d=\"M 200 23.957031 L 202 23.957031 L 202 469.847656 L 200 469.847656 Z M 200 23.957031 \"/>\n",
       "</clipPath>\n",
       "<clipPath id=\"clip14\">\n",
       "  <path d=\"M 222 23.957031 L 224 23.957031 L 224 469.847656 L 222 469.847656 Z M 222 23.957031 \"/>\n",
       "</clipPath>\n",
       "<clipPath id=\"clip15\">\n",
       "  <path d=\"M 244 23.957031 L 245 23.957031 L 245 469.847656 L 244 469.847656 Z M 244 23.957031 \"/>\n",
       "</clipPath>\n",
       "<clipPath id=\"clip16\">\n",
       "  <path d=\"M 266 23.957031 L 267 23.957031 L 267 469.847656 L 266 469.847656 Z M 266 23.957031 \"/>\n",
       "</clipPath>\n",
       "<clipPath id=\"clip17\">\n",
       "  <path d=\"M 288 23.957031 L 289 23.957031 L 289 469.847656 L 288 469.847656 Z M 288 23.957031 \"/>\n",
       "</clipPath>\n",
       "<clipPath id=\"clip18\">\n",
       "  <path d=\"M 309 23.957031 L 311 23.957031 L 311 469.847656 L 309 469.847656 Z M 309 23.957031 \"/>\n",
       "</clipPath>\n",
       "<clipPath id=\"clip19\">\n",
       "  <path d=\"M 331 23.957031 L 333 23.957031 L 333 469.847656 L 331 469.847656 Z M 331 23.957031 \"/>\n",
       "</clipPath>\n",
       "<clipPath id=\"clip20\">\n",
       "  <path d=\"M 353 23.957031 L 354 23.957031 L 354 469.847656 L 353 469.847656 Z M 353 23.957031 \"/>\n",
       "</clipPath>\n",
       "<clipPath id=\"clip21\">\n",
       "  <path d=\"M 375 23.957031 L 376 23.957031 L 376 469.847656 L 375 469.847656 Z M 375 23.957031 \"/>\n",
       "</clipPath>\n",
       "<clipPath id=\"clip22\">\n",
       "  <path d=\"M 396 23.957031 L 398 23.957031 L 398 469.847656 L 396 469.847656 Z M 396 23.957031 \"/>\n",
       "</clipPath>\n",
       "<clipPath id=\"clip23\">\n",
       "  <path d=\"M 418 23.957031 L 420 23.957031 L 420 469.847656 L 418 469.847656 Z M 418 23.957031 \"/>\n",
       "</clipPath>\n",
       "<clipPath id=\"clip24\">\n",
       "  <path d=\"M 440 23.957031 L 442 23.957031 L 442 469.847656 L 440 469.847656 Z M 440 23.957031 \"/>\n",
       "</clipPath>\n",
       "<clipPath id=\"clip25\">\n",
       "  <path d=\"M 462 23.957031 L 463 23.957031 L 463 469.847656 L 462 469.847656 Z M 462 23.957031 \"/>\n",
       "</clipPath>\n",
       "<clipPath id=\"clip26\">\n",
       "  <path d=\"M 484 23.957031 L 485 23.957031 L 485 469.847656 L 484 469.847656 Z M 484 23.957031 \"/>\n",
       "</clipPath>\n",
       "<clipPath id=\"clip27\">\n",
       "  <path d=\"M 43.152344 355 L 498.523438 355 L 498.523438 357 L 43.152344 357 Z M 43.152344 355 \"/>\n",
       "</clipPath>\n",
       "<clipPath id=\"clip28\">\n",
       "  <path d=\"M 43.152344 228 L 498.523438 228 L 498.523438 230 L 43.152344 230 Z M 43.152344 228 \"/>\n",
       "</clipPath>\n",
       "<clipPath id=\"clip29\">\n",
       "  <path d=\"M 43.152344 101 L 498.523438 101 L 498.523438 103 L 43.152344 103 Z M 43.152344 101 \"/>\n",
       "</clipPath>\n",
       "<clipPath id=\"clip30\">\n",
       "  <path d=\"M 58 23.957031 L 61 23.957031 L 61 469.847656 L 58 469.847656 Z M 58 23.957031 \"/>\n",
       "</clipPath>\n",
       "<clipPath id=\"clip31\">\n",
       "  <path d=\"M 80 23.957031 L 82 23.957031 L 82 469.847656 L 80 469.847656 Z M 80 23.957031 \"/>\n",
       "</clipPath>\n",
       "<clipPath id=\"clip32\">\n",
       "  <path d=\"M 102 23.957031 L 104 23.957031 L 104 469.847656 L 102 469.847656 Z M 102 23.957031 \"/>\n",
       "</clipPath>\n",
       "<clipPath id=\"clip33\">\n",
       "  <path d=\"M 124 23.957031 L 126 23.957031 L 126 469.847656 L 124 469.847656 Z M 124 23.957031 \"/>\n",
       "</clipPath>\n",
       "<clipPath id=\"clip34\">\n",
       "  <path d=\"M 146 23.957031 L 148 23.957031 L 148 469.847656 L 146 469.847656 Z M 146 23.957031 \"/>\n",
       "</clipPath>\n",
       "<clipPath id=\"clip35\">\n",
       "  <path d=\"M 167 23.957031 L 169 23.957031 L 169 469.847656 L 167 469.847656 Z M 167 23.957031 \"/>\n",
       "</clipPath>\n",
       "<clipPath id=\"clip36\">\n",
       "  <path d=\"M 189 23.957031 L 191 23.957031 L 191 469.847656 L 189 469.847656 Z M 189 23.957031 \"/>\n",
       "</clipPath>\n",
       "<clipPath id=\"clip37\">\n",
       "  <path d=\"M 211 23.957031 L 213 23.957031 L 213 469.847656 L 211 469.847656 Z M 211 23.957031 \"/>\n",
       "</clipPath>\n",
       "<clipPath id=\"clip38\">\n",
       "  <path d=\"M 233 23.957031 L 235 23.957031 L 235 469.847656 L 233 469.847656 Z M 233 23.957031 \"/>\n",
       "</clipPath>\n",
       "<clipPath id=\"clip39\">\n",
       "  <path d=\"M 255 23.957031 L 257 23.957031 L 257 469.847656 L 255 469.847656 Z M 255 23.957031 \"/>\n",
       "</clipPath>\n",
       "<clipPath id=\"clip40\">\n",
       "  <path d=\"M 276 23.957031 L 278 23.957031 L 278 469.847656 L 276 469.847656 Z M 276 23.957031 \"/>\n",
       "</clipPath>\n",
       "<clipPath id=\"clip41\">\n",
       "  <path d=\"M 298 23.957031 L 300 23.957031 L 300 469.847656 L 298 469.847656 Z M 298 23.957031 \"/>\n",
       "</clipPath>\n",
       "<clipPath id=\"clip42\">\n",
       "  <path d=\"M 320 23.957031 L 322 23.957031 L 322 469.847656 L 320 469.847656 Z M 320 23.957031 \"/>\n",
       "</clipPath>\n",
       "<clipPath id=\"clip43\">\n",
       "  <path d=\"M 342 23.957031 L 344 23.957031 L 344 469.847656 L 342 469.847656 Z M 342 23.957031 \"/>\n",
       "</clipPath>\n",
       "<clipPath id=\"clip44\">\n",
       "  <path d=\"M 363 23.957031 L 366 23.957031 L 366 469.847656 L 363 469.847656 Z M 363 23.957031 \"/>\n",
       "</clipPath>\n",
       "<clipPath id=\"clip45\">\n",
       "  <path d=\"M 385 23.957031 L 387 23.957031 L 387 469.847656 L 385 469.847656 Z M 385 23.957031 \"/>\n",
       "</clipPath>\n",
       "<clipPath id=\"clip46\">\n",
       "  <path d=\"M 407 23.957031 L 409 23.957031 L 409 469.847656 L 407 469.847656 Z M 407 23.957031 \"/>\n",
       "</clipPath>\n",
       "<clipPath id=\"clip47\">\n",
       "  <path d=\"M 429 23.957031 L 431 23.957031 L 431 469.847656 L 429 469.847656 Z M 429 23.957031 \"/>\n",
       "</clipPath>\n",
       "<clipPath id=\"clip48\">\n",
       "  <path d=\"M 451 23.957031 L 453 23.957031 L 453 469.847656 L 451 469.847656 Z M 451 23.957031 \"/>\n",
       "</clipPath>\n",
       "<clipPath id=\"clip49\">\n",
       "  <path d=\"M 472 23.957031 L 474 23.957031 L 474 469.847656 L 472 469.847656 Z M 472 23.957031 \"/>\n",
       "</clipPath>\n",
       "<clipPath id=\"clip50\">\n",
       "  <path d=\"M 494 23.957031 L 496 23.957031 L 496 469.847656 L 494 469.847656 Z M 494 23.957031 \"/>\n",
       "</clipPath>\n",
       "</defs>\n",
       "<g id=\"surface236\">\n",
       "<rect x=\"0\" y=\"0\" width=\"504\" height=\"504\" style=\"fill:rgb(100%,100%,100%);fill-opacity:1;stroke:none;\"/>\n",
       "<rect x=\"0\" y=\"0\" width=\"504\" height=\"504\" style=\"fill:rgb(100%,100%,100%);fill-opacity:1;stroke:none;\"/>\n",
       "<path style=\"fill:none;stroke-width:1.066978;stroke-linecap:round;stroke-linejoin:round;stroke:rgb(100%,100%,100%);stroke-opacity:1;stroke-miterlimit:10;\" d=\"M 0 504 L 504 504 L 504 0 L 0 0 Z M 0 504 \"/>\n",
       "<g clip-path=\"url(#clip1)\" clip-rule=\"nonzero\">\n",
       "<path style=\" stroke:none;fill-rule:nonzero;fill:rgb(92.156863%,92.156863%,92.156863%);fill-opacity:1;\" d=\"M 43.152344 469.847656 L 498.523438 469.847656 L 498.523438 23.957031 L 43.152344 23.957031 Z M 43.152344 469.847656 \"/>\n",
       "</g>\n",
       "<g clip-path=\"url(#clip2)\" clip-rule=\"nonzero\">\n",
       "<path style=\"fill:none;stroke-width:0.533489;stroke-linecap:butt;stroke-linejoin:round;stroke:rgb(100%,100%,100%);stroke-opacity:1;stroke-miterlimit:10;\" d=\"M 43.152344 419.28125 L 498.519531 419.28125 \"/>\n",
       "</g>\n",
       "<g clip-path=\"url(#clip3)\" clip-rule=\"nonzero\">\n",
       "<path style=\"fill:none;stroke-width:0.533489;stroke-linecap:butt;stroke-linejoin:round;stroke:rgb(100%,100%,100%);stroke-opacity:1;stroke-miterlimit:10;\" d=\"M 43.152344 292.382812 L 498.519531 292.382812 \"/>\n",
       "</g>\n",
       "<g clip-path=\"url(#clip4)\" clip-rule=\"nonzero\">\n",
       "<path style=\"fill:none;stroke-width:0.533489;stroke-linecap:butt;stroke-linejoin:round;stroke:rgb(100%,100%,100%);stroke-opacity:1;stroke-miterlimit:10;\" d=\"M 43.152344 165.484375 L 498.519531 165.484375 \"/>\n",
       "</g>\n",
       "<g clip-path=\"url(#clip5)\" clip-rule=\"nonzero\">\n",
       "<path style=\"fill:none;stroke-width:0.533489;stroke-linecap:butt;stroke-linejoin:round;stroke:rgb(100%,100%,100%);stroke-opacity:1;stroke-miterlimit:10;\" d=\"M 43.152344 38.585938 L 498.519531 38.585938 \"/>\n",
       "</g>\n",
       "<g clip-path=\"url(#clip6)\" clip-rule=\"nonzero\">\n",
       "<path style=\"fill:none;stroke-width:0.533489;stroke-linecap:butt;stroke-linejoin:round;stroke:rgb(100%,100%,100%);stroke-opacity:1;stroke-miterlimit:10;\" d=\"M 48.597656 469.847656 L 48.597656 23.957031 \"/>\n",
       "</g>\n",
       "<g clip-path=\"url(#clip7)\" clip-rule=\"nonzero\">\n",
       "<path style=\"fill:none;stroke-width:0.533489;stroke-linecap:butt;stroke-linejoin:round;stroke:rgb(100%,100%,100%);stroke-opacity:1;stroke-miterlimit:10;\" d=\"M 70.386719 469.847656 L 70.386719 23.957031 \"/>\n",
       "</g>\n",
       "<g clip-path=\"url(#clip8)\" clip-rule=\"nonzero\">\n",
       "<path style=\"fill:none;stroke-width:0.533489;stroke-linecap:butt;stroke-linejoin:round;stroke:rgb(100%,100%,100%);stroke-opacity:1;stroke-miterlimit:10;\" d=\"M 92.171875 469.847656 L 92.171875 23.957031 \"/>\n",
       "</g>\n",
       "<g clip-path=\"url(#clip9)\" clip-rule=\"nonzero\">\n",
       "<path style=\"fill:none;stroke-width:0.533489;stroke-linecap:butt;stroke-linejoin:round;stroke:rgb(100%,100%,100%);stroke-opacity:1;stroke-miterlimit:10;\" d=\"M 113.960938 469.847656 L 113.960938 23.957031 \"/>\n",
       "</g>\n",
       "<g clip-path=\"url(#clip10)\" clip-rule=\"nonzero\">\n",
       "<path style=\"fill:none;stroke-width:0.533489;stroke-linecap:butt;stroke-linejoin:round;stroke:rgb(100%,100%,100%);stroke-opacity:1;stroke-miterlimit:10;\" d=\"M 135.75 469.847656 L 135.75 23.957031 \"/>\n",
       "</g>\n",
       "<g clip-path=\"url(#clip11)\" clip-rule=\"nonzero\">\n",
       "<path style=\"fill:none;stroke-width:0.533489;stroke-linecap:butt;stroke-linejoin:round;stroke:rgb(100%,100%,100%);stroke-opacity:1;stroke-miterlimit:10;\" d=\"M 157.539062 469.847656 L 157.539062 23.957031 \"/>\n",
       "</g>\n",
       "<g clip-path=\"url(#clip12)\" clip-rule=\"nonzero\">\n",
       "<path style=\"fill:none;stroke-width:0.533489;stroke-linecap:butt;stroke-linejoin:round;stroke:rgb(100%,100%,100%);stroke-opacity:1;stroke-miterlimit:10;\" d=\"M 179.324219 469.847656 L 179.324219 23.957031 \"/>\n",
       "</g>\n",
       "<g clip-path=\"url(#clip13)\" clip-rule=\"nonzero\">\n",
       "<path style=\"fill:none;stroke-width:0.533489;stroke-linecap:butt;stroke-linejoin:round;stroke:rgb(100%,100%,100%);stroke-opacity:1;stroke-miterlimit:10;\" d=\"M 201.113281 469.847656 L 201.113281 23.957031 \"/>\n",
       "</g>\n",
       "<g clip-path=\"url(#clip14)\" clip-rule=\"nonzero\">\n",
       "<path style=\"fill:none;stroke-width:0.533489;stroke-linecap:butt;stroke-linejoin:round;stroke:rgb(100%,100%,100%);stroke-opacity:1;stroke-miterlimit:10;\" d=\"M 222.902344 469.847656 L 222.902344 23.957031 \"/>\n",
       "</g>\n",
       "<g clip-path=\"url(#clip15)\" clip-rule=\"nonzero\">\n",
       "<path style=\"fill:none;stroke-width:0.533489;stroke-linecap:butt;stroke-linejoin:round;stroke:rgb(100%,100%,100%);stroke-opacity:1;stroke-miterlimit:10;\" d=\"M 244.691406 469.847656 L 244.691406 23.957031 \"/>\n",
       "</g>\n",
       "<g clip-path=\"url(#clip16)\" clip-rule=\"nonzero\">\n",
       "<path style=\"fill:none;stroke-width:0.533489;stroke-linecap:butt;stroke-linejoin:round;stroke:rgb(100%,100%,100%);stroke-opacity:1;stroke-miterlimit:10;\" d=\"M 266.476562 469.847656 L 266.476562 23.957031 \"/>\n",
       "</g>\n",
       "<g clip-path=\"url(#clip17)\" clip-rule=\"nonzero\">\n",
       "<path style=\"fill:none;stroke-width:0.533489;stroke-linecap:butt;stroke-linejoin:round;stroke:rgb(100%,100%,100%);stroke-opacity:1;stroke-miterlimit:10;\" d=\"M 288.265625 469.847656 L 288.265625 23.957031 \"/>\n",
       "</g>\n",
       "<g clip-path=\"url(#clip18)\" clip-rule=\"nonzero\">\n",
       "<path style=\"fill:none;stroke-width:0.533489;stroke-linecap:butt;stroke-linejoin:round;stroke:rgb(100%,100%,100%);stroke-opacity:1;stroke-miterlimit:10;\" d=\"M 310.054688 469.847656 L 310.054688 23.957031 \"/>\n",
       "</g>\n",
       "<g clip-path=\"url(#clip19)\" clip-rule=\"nonzero\">\n",
       "<path style=\"fill:none;stroke-width:0.533489;stroke-linecap:butt;stroke-linejoin:round;stroke:rgb(100%,100%,100%);stroke-opacity:1;stroke-miterlimit:10;\" d=\"M 331.84375 469.847656 L 331.84375 23.957031 \"/>\n",
       "</g>\n",
       "<g clip-path=\"url(#clip20)\" clip-rule=\"nonzero\">\n",
       "<path style=\"fill:none;stroke-width:0.533489;stroke-linecap:butt;stroke-linejoin:round;stroke:rgb(100%,100%,100%);stroke-opacity:1;stroke-miterlimit:10;\" d=\"M 353.628906 469.847656 L 353.628906 23.957031 \"/>\n",
       "</g>\n",
       "<g clip-path=\"url(#clip21)\" clip-rule=\"nonzero\">\n",
       "<path style=\"fill:none;stroke-width:0.533489;stroke-linecap:butt;stroke-linejoin:round;stroke:rgb(100%,100%,100%);stroke-opacity:1;stroke-miterlimit:10;\" d=\"M 375.417969 469.847656 L 375.417969 23.957031 \"/>\n",
       "</g>\n",
       "<g clip-path=\"url(#clip22)\" clip-rule=\"nonzero\">\n",
       "<path style=\"fill:none;stroke-width:0.533489;stroke-linecap:butt;stroke-linejoin:round;stroke:rgb(100%,100%,100%);stroke-opacity:1;stroke-miterlimit:10;\" d=\"M 397.207031 469.847656 L 397.207031 23.957031 \"/>\n",
       "</g>\n",
       "<g clip-path=\"url(#clip23)\" clip-rule=\"nonzero\">\n",
       "<path style=\"fill:none;stroke-width:0.533489;stroke-linecap:butt;stroke-linejoin:round;stroke:rgb(100%,100%,100%);stroke-opacity:1;stroke-miterlimit:10;\" d=\"M 418.996094 469.847656 L 418.996094 23.957031 \"/>\n",
       "</g>\n",
       "<g clip-path=\"url(#clip24)\" clip-rule=\"nonzero\">\n",
       "<path style=\"fill:none;stroke-width:0.533489;stroke-linecap:butt;stroke-linejoin:round;stroke:rgb(100%,100%,100%);stroke-opacity:1;stroke-miterlimit:10;\" d=\"M 440.78125 469.847656 L 440.78125 23.957031 \"/>\n",
       "</g>\n",
       "<g clip-path=\"url(#clip25)\" clip-rule=\"nonzero\">\n",
       "<path style=\"fill:none;stroke-width:0.533489;stroke-linecap:butt;stroke-linejoin:round;stroke:rgb(100%,100%,100%);stroke-opacity:1;stroke-miterlimit:10;\" d=\"M 462.570312 469.847656 L 462.570312 23.957031 \"/>\n",
       "</g>\n",
       "<g clip-path=\"url(#clip26)\" clip-rule=\"nonzero\">\n",
       "<path style=\"fill:none;stroke-width:0.533489;stroke-linecap:butt;stroke-linejoin:round;stroke:rgb(100%,100%,100%);stroke-opacity:1;stroke-miterlimit:10;\" d=\"M 484.359375 469.847656 L 484.359375 23.957031 \"/>\n",
       "</g>\n",
       "<g clip-path=\"url(#clip27)\" clip-rule=\"nonzero\">\n",
       "<path style=\"fill:none;stroke-width:1.066978;stroke-linecap:butt;stroke-linejoin:round;stroke:rgb(100%,100%,100%);stroke-opacity:1;stroke-miterlimit:10;\" d=\"M 43.152344 355.832031 L 498.519531 355.832031 \"/>\n",
       "</g>\n",
       "<g clip-path=\"url(#clip28)\" clip-rule=\"nonzero\">\n",
       "<path style=\"fill:none;stroke-width:1.066978;stroke-linecap:butt;stroke-linejoin:round;stroke:rgb(100%,100%,100%);stroke-opacity:1;stroke-miterlimit:10;\" d=\"M 43.152344 228.933594 L 498.519531 228.933594 \"/>\n",
       "</g>\n",
       "<g clip-path=\"url(#clip29)\" clip-rule=\"nonzero\">\n",
       "<path style=\"fill:none;stroke-width:1.066978;stroke-linecap:butt;stroke-linejoin:round;stroke:rgb(100%,100%,100%);stroke-opacity:1;stroke-miterlimit:10;\" d=\"M 43.152344 102.035156 L 498.519531 102.035156 \"/>\n",
       "</g>\n",
       "<g clip-path=\"url(#clip30)\" clip-rule=\"nonzero\">\n",
       "<path style=\"fill:none;stroke-width:1.066978;stroke-linecap:butt;stroke-linejoin:round;stroke:rgb(100%,100%,100%);stroke-opacity:1;stroke-miterlimit:10;\" d=\"M 59.492188 469.847656 L 59.492188 23.957031 \"/>\n",
       "</g>\n",
       "<g clip-path=\"url(#clip31)\" clip-rule=\"nonzero\">\n",
       "<path style=\"fill:none;stroke-width:1.066978;stroke-linecap:butt;stroke-linejoin:round;stroke:rgb(100%,100%,100%);stroke-opacity:1;stroke-miterlimit:10;\" d=\"M 81.28125 469.847656 L 81.28125 23.957031 \"/>\n",
       "</g>\n",
       "<g clip-path=\"url(#clip32)\" clip-rule=\"nonzero\">\n",
       "<path style=\"fill:none;stroke-width:1.066978;stroke-linecap:butt;stroke-linejoin:round;stroke:rgb(100%,100%,100%);stroke-opacity:1;stroke-miterlimit:10;\" d=\"M 103.066406 469.847656 L 103.066406 23.957031 \"/>\n",
       "</g>\n",
       "<g clip-path=\"url(#clip33)\" clip-rule=\"nonzero\">\n",
       "<path style=\"fill:none;stroke-width:1.066978;stroke-linecap:butt;stroke-linejoin:round;stroke:rgb(100%,100%,100%);stroke-opacity:1;stroke-miterlimit:10;\" d=\"M 124.855469 469.847656 L 124.855469 23.957031 \"/>\n",
       "</g>\n",
       "<g clip-path=\"url(#clip34)\" clip-rule=\"nonzero\">\n",
       "<path style=\"fill:none;stroke-width:1.066978;stroke-linecap:butt;stroke-linejoin:round;stroke:rgb(100%,100%,100%);stroke-opacity:1;stroke-miterlimit:10;\" d=\"M 146.644531 469.847656 L 146.644531 23.957031 \"/>\n",
       "</g>\n",
       "<g clip-path=\"url(#clip35)\" clip-rule=\"nonzero\">\n",
       "<path style=\"fill:none;stroke-width:1.066978;stroke-linecap:butt;stroke-linejoin:round;stroke:rgb(100%,100%,100%);stroke-opacity:1;stroke-miterlimit:10;\" d=\"M 168.433594 469.847656 L 168.433594 23.957031 \"/>\n",
       "</g>\n",
       "<g clip-path=\"url(#clip36)\" clip-rule=\"nonzero\">\n",
       "<path style=\"fill:none;stroke-width:1.066978;stroke-linecap:butt;stroke-linejoin:round;stroke:rgb(100%,100%,100%);stroke-opacity:1;stroke-miterlimit:10;\" d=\"M 190.21875 469.847656 L 190.21875 23.957031 \"/>\n",
       "</g>\n",
       "<g clip-path=\"url(#clip37)\" clip-rule=\"nonzero\">\n",
       "<path style=\"fill:none;stroke-width:1.066978;stroke-linecap:butt;stroke-linejoin:round;stroke:rgb(100%,100%,100%);stroke-opacity:1;stroke-miterlimit:10;\" d=\"M 212.007812 469.847656 L 212.007812 23.957031 \"/>\n",
       "</g>\n",
       "<g clip-path=\"url(#clip38)\" clip-rule=\"nonzero\">\n",
       "<path style=\"fill:none;stroke-width:1.066978;stroke-linecap:butt;stroke-linejoin:round;stroke:rgb(100%,100%,100%);stroke-opacity:1;stroke-miterlimit:10;\" d=\"M 233.796875 469.847656 L 233.796875 23.957031 \"/>\n",
       "</g>\n",
       "<g clip-path=\"url(#clip39)\" clip-rule=\"nonzero\">\n",
       "<path style=\"fill:none;stroke-width:1.066978;stroke-linecap:butt;stroke-linejoin:round;stroke:rgb(100%,100%,100%);stroke-opacity:1;stroke-miterlimit:10;\" d=\"M 255.585938 469.847656 L 255.585938 23.957031 \"/>\n",
       "</g>\n",
       "<g clip-path=\"url(#clip40)\" clip-rule=\"nonzero\">\n",
       "<path style=\"fill:none;stroke-width:1.066978;stroke-linecap:butt;stroke-linejoin:round;stroke:rgb(100%,100%,100%);stroke-opacity:1;stroke-miterlimit:10;\" d=\"M 277.371094 469.847656 L 277.371094 23.957031 \"/>\n",
       "</g>\n",
       "<g clip-path=\"url(#clip41)\" clip-rule=\"nonzero\">\n",
       "<path style=\"fill:none;stroke-width:1.066978;stroke-linecap:butt;stroke-linejoin:round;stroke:rgb(100%,100%,100%);stroke-opacity:1;stroke-miterlimit:10;\" d=\"M 299.160156 469.847656 L 299.160156 23.957031 \"/>\n",
       "</g>\n",
       "<g clip-path=\"url(#clip42)\" clip-rule=\"nonzero\">\n",
       "<path style=\"fill:none;stroke-width:1.066978;stroke-linecap:butt;stroke-linejoin:round;stroke:rgb(100%,100%,100%);stroke-opacity:1;stroke-miterlimit:10;\" d=\"M 320.949219 469.847656 L 320.949219 23.957031 \"/>\n",
       "</g>\n",
       "<g clip-path=\"url(#clip43)\" clip-rule=\"nonzero\">\n",
       "<path style=\"fill:none;stroke-width:1.066978;stroke-linecap:butt;stroke-linejoin:round;stroke:rgb(100%,100%,100%);stroke-opacity:1;stroke-miterlimit:10;\" d=\"M 342.734375 469.847656 L 342.734375 23.957031 \"/>\n",
       "</g>\n",
       "<g clip-path=\"url(#clip44)\" clip-rule=\"nonzero\">\n",
       "<path style=\"fill:none;stroke-width:1.066978;stroke-linecap:butt;stroke-linejoin:round;stroke:rgb(100%,100%,100%);stroke-opacity:1;stroke-miterlimit:10;\" d=\"M 364.523438 469.847656 L 364.523438 23.957031 \"/>\n",
       "</g>\n",
       "<g clip-path=\"url(#clip45)\" clip-rule=\"nonzero\">\n",
       "<path style=\"fill:none;stroke-width:1.066978;stroke-linecap:butt;stroke-linejoin:round;stroke:rgb(100%,100%,100%);stroke-opacity:1;stroke-miterlimit:10;\" d=\"M 386.3125 469.847656 L 386.3125 23.957031 \"/>\n",
       "</g>\n",
       "<g clip-path=\"url(#clip46)\" clip-rule=\"nonzero\">\n",
       "<path style=\"fill:none;stroke-width:1.066978;stroke-linecap:butt;stroke-linejoin:round;stroke:rgb(100%,100%,100%);stroke-opacity:1;stroke-miterlimit:10;\" d=\"M 408.101562 469.847656 L 408.101562 23.957031 \"/>\n",
       "</g>\n",
       "<g clip-path=\"url(#clip47)\" clip-rule=\"nonzero\">\n",
       "<path style=\"fill:none;stroke-width:1.066978;stroke-linecap:butt;stroke-linejoin:round;stroke:rgb(100%,100%,100%);stroke-opacity:1;stroke-miterlimit:10;\" d=\"M 429.886719 469.847656 L 429.886719 23.957031 \"/>\n",
       "</g>\n",
       "<g clip-path=\"url(#clip48)\" clip-rule=\"nonzero\">\n",
       "<path style=\"fill:none;stroke-width:1.066978;stroke-linecap:butt;stroke-linejoin:round;stroke:rgb(100%,100%,100%);stroke-opacity:1;stroke-miterlimit:10;\" d=\"M 451.675781 469.847656 L 451.675781 23.957031 \"/>\n",
       "</g>\n",
       "<g clip-path=\"url(#clip49)\" clip-rule=\"nonzero\">\n",
       "<path style=\"fill:none;stroke-width:1.066978;stroke-linecap:butt;stroke-linejoin:round;stroke:rgb(100%,100%,100%);stroke-opacity:1;stroke-miterlimit:10;\" d=\"M 473.464844 469.847656 L 473.464844 23.957031 \"/>\n",
       "</g>\n",
       "<g clip-path=\"url(#clip50)\" clip-rule=\"nonzero\">\n",
       "<path style=\"fill:none;stroke-width:1.066978;stroke-linecap:butt;stroke-linejoin:round;stroke:rgb(100%,100%,100%);stroke-opacity:1;stroke-miterlimit:10;\" d=\"M 495.253906 469.847656 L 495.253906 23.957031 \"/>\n",
       "</g>\n",
       "<path style=\"fill-rule:nonzero;fill:rgb(0%,0%,0%);fill-opacity:1;stroke-width:0.708661;stroke-linecap:round;stroke-linejoin:round;stroke:rgb(0%,0%,0%);stroke-opacity:1;stroke-miterlimit:10;\" d=\"M 174.746094 44.226562 C 174.746094 46.832031 170.835938 46.832031 170.835938 44.226562 C 170.835938 41.621094 174.746094 41.621094 174.746094 44.226562 \"/>\n",
       "<path style=\"fill-rule:nonzero;fill:rgb(0%,0%,0%);fill-opacity:1;stroke-width:0.708661;stroke-linecap:round;stroke-linejoin:round;stroke:rgb(0%,0%,0%);stroke-opacity:1;stroke-miterlimit:10;\" d=\"M 152.957031 45.535156 C 152.957031 48.140625 149.046875 48.140625 149.046875 45.535156 C 149.046875 42.929688 152.957031 42.929688 152.957031 45.535156 \"/>\n",
       "<path style=\"fill-rule:nonzero;fill:rgb(0%,0%,0%);fill-opacity:1;stroke-width:0.708661;stroke-linecap:round;stroke-linejoin:round;stroke:rgb(0%,0%,0%);stroke-opacity:1;stroke-miterlimit:10;\" d=\"M 196.53125 47.820312 C 196.53125 50.425781 192.621094 50.425781 192.621094 47.820312 C 192.621094 45.214844 196.53125 45.214844 196.53125 47.820312 \"/>\n",
       "<path style=\"fill-rule:nonzero;fill:rgb(0%,0%,0%);fill-opacity:1;stroke-width:0.708661;stroke-linecap:round;stroke-linejoin:round;stroke:rgb(0%,0%,0%);stroke-opacity:1;stroke-miterlimit:10;\" d=\"M 218.320312 49.78125 C 218.320312 52.386719 214.410156 52.386719 214.410156 49.78125 C 214.410156 47.171875 218.320312 47.171875 218.320312 49.78125 \"/>\n",
       "<path style=\"fill-rule:nonzero;fill:rgb(0%,0%,0%);fill-opacity:1;stroke-width:0.708661;stroke-linecap:round;stroke-linejoin:round;stroke:rgb(0%,0%,0%);stroke-opacity:1;stroke-miterlimit:10;\" d=\"M 240.109375 65.785156 C 240.109375 68.390625 236.199219 68.390625 236.199219 65.785156 C 236.199219 63.175781 240.109375 63.175781 240.109375 65.785156 \"/>\n",
       "<path style=\"fill-rule:nonzero;fill:rgb(0%,0%,0%);fill-opacity:1;stroke-width:0.708661;stroke-linecap:round;stroke-linejoin:round;stroke:rgb(0%,0%,0%);stroke-opacity:1;stroke-miterlimit:10;\" d=\"M 261.894531 67.742188 C 261.894531 70.351562 257.988281 70.351562 257.988281 67.742188 C 257.988281 65.136719 261.894531 65.136719 261.894531 67.742188 \"/>\n",
       "<path style=\"fill-rule:nonzero;fill:rgb(0%,0%,0%);fill-opacity:1;stroke-width:0.708661;stroke-linecap:round;stroke-linejoin:round;stroke:rgb(0%,0%,0%);stroke-opacity:1;stroke-miterlimit:10;\" d=\"M 283.683594 68.722656 C 283.683594 71.332031 279.773438 71.332031 279.773438 68.722656 C 279.773438 66.117188 283.683594 66.117188 283.683594 68.722656 \"/>\n",
       "<path style=\"fill-rule:nonzero;fill:rgb(0%,0%,0%);fill-opacity:1;stroke-width:0.708661;stroke-linecap:round;stroke-linejoin:round;stroke:rgb(0%,0%,0%);stroke-opacity:1;stroke-miterlimit:10;\" d=\"M 392.625 73.621094 C 392.625 76.230469 388.714844 76.230469 388.714844 73.621094 C 388.714844 71.015625 392.625 71.015625 392.625 73.621094 \"/>\n",
       "<path style=\"fill-rule:nonzero;fill:rgb(0%,0%,0%);fill-opacity:1;stroke-width:0.708661;stroke-linecap:round;stroke-linejoin:round;stroke:rgb(0%,0%,0%);stroke-opacity:1;stroke-miterlimit:10;\" d=\"M 436.199219 74.273438 C 436.199219 76.882812 432.292969 76.882812 432.292969 74.273438 C 432.292969 71.667969 436.199219 71.667969 436.199219 74.273438 \"/>\n",
       "<path style=\"fill-rule:nonzero;fill:rgb(0%,0%,0%);fill-opacity:1;stroke-width:0.708661;stroke-linecap:round;stroke-linejoin:round;stroke:rgb(0%,0%,0%);stroke-opacity:1;stroke-miterlimit:10;\" d=\"M 305.472656 74.601562 C 305.472656 77.210938 301.5625 77.210938 301.5625 74.601562 C 301.5625 71.996094 305.472656 71.996094 305.472656 74.601562 \"/>\n",
       "<path style=\"fill-rule:nonzero;fill:rgb(0%,0%,0%);fill-opacity:1;stroke-width:0.708661;stroke-linecap:round;stroke-linejoin:round;stroke:rgb(0%,0%,0%);stroke-opacity:1;stroke-miterlimit:10;\" d=\"M 414.414062 74.929688 C 414.414062 77.535156 410.503906 77.535156 410.503906 74.929688 C 410.503906 72.324219 414.414062 72.324219 414.414062 74.929688 \"/>\n",
       "<path style=\"fill-rule:nonzero;fill:rgb(0%,0%,0%);fill-opacity:1;stroke-width:0.708661;stroke-linecap:round;stroke-linejoin:round;stroke:rgb(0%,0%,0%);stroke-opacity:1;stroke-miterlimit:10;\" d=\"M 370.835938 76.238281 C 370.835938 78.84375 366.925781 78.84375 366.925781 76.238281 C 366.925781 73.628906 370.835938 73.628906 370.835938 76.238281 \"/>\n",
       "<path style=\"fill-rule:nonzero;fill:rgb(0%,0%,0%);fill-opacity:1;stroke-width:0.708661;stroke-linecap:round;stroke-linejoin:round;stroke:rgb(0%,0%,0%);stroke-opacity:1;stroke-miterlimit:10;\" d=\"M 349.046875 78.847656 C 349.046875 81.453125 345.140625 81.453125 345.140625 78.847656 C 345.140625 76.242188 349.046875 76.242188 349.046875 78.847656 \"/>\n",
       "<path style=\"fill-rule:nonzero;fill:rgb(0%,0%,0%);fill-opacity:1;stroke-width:0.708661;stroke-linecap:round;stroke-linejoin:round;stroke:rgb(0%,0%,0%);stroke-opacity:1;stroke-miterlimit:10;\" d=\"M 327.261719 78.847656 C 327.261719 81.457031 323.351562 81.457031 323.351562 78.847656 C 323.351562 76.242188 327.261719 76.242188 327.261719 78.847656 \"/>\n",
       "<path style=\"fill-rule:nonzero;fill:rgb(0%,0%,0%);fill-opacity:1;stroke-width:0.708661;stroke-linecap:round;stroke-linejoin:round;stroke:rgb(0%,0%,0%);stroke-opacity:1;stroke-miterlimit:10;\" d=\"M 479.777344 87.667969 C 479.777344 90.273438 475.867188 90.273438 475.867188 87.667969 C 475.867188 85.0625 479.777344 85.0625 479.777344 87.667969 \"/>\n",
       "<path style=\"fill-rule:nonzero;fill:rgb(0%,0%,0%);fill-opacity:1;stroke-width:0.708661;stroke-linecap:round;stroke-linejoin:round;stroke:rgb(0%,0%,0%);stroke-opacity:1;stroke-miterlimit:10;\" d=\"M 457.988281 88.972656 C 457.988281 91.578125 454.078125 91.578125 454.078125 88.972656 C 454.078125 86.367188 457.988281 86.367188 457.988281 88.972656 \"/>\n",
       "<path style=\"fill-rule:nonzero;fill:rgb(0%,0%,0%);fill-opacity:1;stroke-width:0.708661;stroke-linecap:round;stroke-linejoin:round;stroke:rgb(0%,0%,0%);stroke-opacity:1;stroke-miterlimit:10;\" d=\"M 131.167969 89.953125 C 131.167969 92.558594 127.257812 92.558594 127.257812 89.953125 C 127.257812 87.347656 131.167969 87.347656 131.167969 89.953125 \"/>\n",
       "<path style=\"fill-rule:nonzero;fill:rgb(0%,0%,0%);fill-opacity:1;stroke-width:0.708661;stroke-linecap:round;stroke-linejoin:round;stroke:rgb(0%,0%,0%);stroke-opacity:1;stroke-miterlimit:10;\" d=\"M 109.378906 117.386719 C 109.378906 119.996094 105.46875 119.996094 105.46875 117.386719 C 105.46875 114.78125 109.378906 114.78125 109.378906 117.386719 \"/>\n",
       "<path style=\"fill-rule:nonzero;fill:rgb(0%,0%,0%);fill-opacity:1;stroke-width:0.708661;stroke-linecap:round;stroke-linejoin:round;stroke:rgb(0%,0%,0%);stroke-opacity:1;stroke-miterlimit:10;\" d=\"M 87.59375 280.707031 C 87.59375 283.3125 83.683594 283.3125 83.683594 280.707031 C 83.683594 278.101562 87.59375 278.101562 87.59375 280.707031 \"/>\n",
       "<path style=\"fill-rule:nonzero;fill:rgb(0%,0%,0%);fill-opacity:1;stroke-width:0.708661;stroke-linecap:round;stroke-linejoin:round;stroke:rgb(0%,0%,0%);stroke-opacity:1;stroke-miterlimit:10;\" d=\"M 65.804688 449.582031 C 65.804688 452.1875 61.894531 452.1875 61.894531 449.582031 C 61.894531 446.976562 65.804688 446.976562 65.804688 449.582031 \"/>\n",
       "<path style=\"fill:none;stroke-width:1.066978;stroke-linecap:butt;stroke-linejoin:round;stroke:rgb(0%,0%,0%);stroke-opacity:1;stroke-miterlimit:10;\" d=\"M 63.847656 449.582031 L 85.636719 280.707031 L 107.425781 117.386719 L 129.214844 89.953125 L 151 45.535156 L 172.789062 44.226562 L 194.578125 47.820312 L 216.367188 49.78125 L 238.152344 65.785156 L 259.941406 67.742188 L 281.730469 68.722656 L 303.519531 74.601562 L 325.304688 78.847656 L 347.09375 78.847656 L 368.882812 76.238281 L 390.667969 73.621094 L 412.457031 74.929688 L 434.246094 74.273438 L 456.035156 88.972656 L 477.820312 87.667969 \"/>\n",
       "<g style=\"fill:rgb(30.196078%,30.196078%,30.196078%);fill-opacity:1;\">\n",
       "  <use xlink:href=\"#glyph0-1\" x=\"20.21875\" y=\"359.021484\"/>\n",
       "  <use xlink:href=\"#glyph0-2\" x=\"25.21875\" y=\"359.021484\"/>\n",
       "  <use xlink:href=\"#glyph0-3\" x=\"28.21875\" y=\"359.021484\"/>\n",
       "  <use xlink:href=\"#glyph0-1\" x=\"33.21875\" y=\"359.021484\"/>\n",
       "</g>\n",
       "<g style=\"fill:rgb(30.196078%,30.196078%,30.196078%);fill-opacity:1;\">\n",
       "  <use xlink:href=\"#glyph0-1\" x=\"20.21875\" y=\"232.123047\"/>\n",
       "  <use xlink:href=\"#glyph0-2\" x=\"25.21875\" y=\"232.123047\"/>\n",
       "  <use xlink:href=\"#glyph0-3\" x=\"28.21875\" y=\"232.123047\"/>\n",
       "  <use xlink:href=\"#glyph0-4\" x=\"33.21875\" y=\"232.123047\"/>\n",
       "</g>\n",
       "<g style=\"fill:rgb(30.196078%,30.196078%,30.196078%);fill-opacity:1;\">\n",
       "  <use xlink:href=\"#glyph0-1\" x=\"20.21875\" y=\"105.224609\"/>\n",
       "  <use xlink:href=\"#glyph0-2\" x=\"25.21875\" y=\"105.224609\"/>\n",
       "  <use xlink:href=\"#glyph0-3\" x=\"28.21875\" y=\"105.224609\"/>\n",
       "  <use xlink:href=\"#glyph0-5\" x=\"33.21875\" y=\"105.224609\"/>\n",
       "</g>\n",
       "<path style=\"fill:none;stroke-width:1.066978;stroke-linecap:butt;stroke-linejoin:round;stroke:rgb(20%,20%,20%);stroke-opacity:1;stroke-miterlimit:10;\" d=\"M 40.410156 355.832031 L 43.152344 355.832031 \"/>\n",
       "<path style=\"fill:none;stroke-width:1.066978;stroke-linecap:butt;stroke-linejoin:round;stroke:rgb(20%,20%,20%);stroke-opacity:1;stroke-miterlimit:10;\" d=\"M 40.410156 228.933594 L 43.152344 228.933594 \"/>\n",
       "<path style=\"fill:none;stroke-width:1.066978;stroke-linecap:butt;stroke-linejoin:round;stroke:rgb(20%,20%,20%);stroke-opacity:1;stroke-miterlimit:10;\" d=\"M 40.410156 102.035156 L 43.152344 102.035156 \"/>\n",
       "<path style=\"fill:none;stroke-width:1.066978;stroke-linecap:butt;stroke-linejoin:round;stroke:rgb(20%,20%,20%);stroke-opacity:1;stroke-miterlimit:10;\" d=\"M 59.492188 472.589844 L 59.492188 469.847656 \"/>\n",
       "<path style=\"fill:none;stroke-width:1.066978;stroke-linecap:butt;stroke-linejoin:round;stroke:rgb(20%,20%,20%);stroke-opacity:1;stroke-miterlimit:10;\" d=\"M 81.28125 472.589844 L 81.28125 469.847656 \"/>\n",
       "<path style=\"fill:none;stroke-width:1.066978;stroke-linecap:butt;stroke-linejoin:round;stroke:rgb(20%,20%,20%);stroke-opacity:1;stroke-miterlimit:10;\" d=\"M 103.066406 472.589844 L 103.066406 469.847656 \"/>\n",
       "<path style=\"fill:none;stroke-width:1.066978;stroke-linecap:butt;stroke-linejoin:round;stroke:rgb(20%,20%,20%);stroke-opacity:1;stroke-miterlimit:10;\" d=\"M 124.855469 472.589844 L 124.855469 469.847656 \"/>\n",
       "<path style=\"fill:none;stroke-width:1.066978;stroke-linecap:butt;stroke-linejoin:round;stroke:rgb(20%,20%,20%);stroke-opacity:1;stroke-miterlimit:10;\" d=\"M 146.644531 472.589844 L 146.644531 469.847656 \"/>\n",
       "<path style=\"fill:none;stroke-width:1.066978;stroke-linecap:butt;stroke-linejoin:round;stroke:rgb(20%,20%,20%);stroke-opacity:1;stroke-miterlimit:10;\" d=\"M 168.433594 472.589844 L 168.433594 469.847656 \"/>\n",
       "<path style=\"fill:none;stroke-width:1.066978;stroke-linecap:butt;stroke-linejoin:round;stroke:rgb(20%,20%,20%);stroke-opacity:1;stroke-miterlimit:10;\" d=\"M 190.21875 472.589844 L 190.21875 469.847656 \"/>\n",
       "<path style=\"fill:none;stroke-width:1.066978;stroke-linecap:butt;stroke-linejoin:round;stroke:rgb(20%,20%,20%);stroke-opacity:1;stroke-miterlimit:10;\" d=\"M 212.007812 472.589844 L 212.007812 469.847656 \"/>\n",
       "<path style=\"fill:none;stroke-width:1.066978;stroke-linecap:butt;stroke-linejoin:round;stroke:rgb(20%,20%,20%);stroke-opacity:1;stroke-miterlimit:10;\" d=\"M 233.796875 472.589844 L 233.796875 469.847656 \"/>\n",
       "<path style=\"fill:none;stroke-width:1.066978;stroke-linecap:butt;stroke-linejoin:round;stroke:rgb(20%,20%,20%);stroke-opacity:1;stroke-miterlimit:10;\" d=\"M 255.585938 472.589844 L 255.585938 469.847656 \"/>\n",
       "<path style=\"fill:none;stroke-width:1.066978;stroke-linecap:butt;stroke-linejoin:round;stroke:rgb(20%,20%,20%);stroke-opacity:1;stroke-miterlimit:10;\" d=\"M 277.371094 472.589844 L 277.371094 469.847656 \"/>\n",
       "<path style=\"fill:none;stroke-width:1.066978;stroke-linecap:butt;stroke-linejoin:round;stroke:rgb(20%,20%,20%);stroke-opacity:1;stroke-miterlimit:10;\" d=\"M 299.160156 472.589844 L 299.160156 469.847656 \"/>\n",
       "<path style=\"fill:none;stroke-width:1.066978;stroke-linecap:butt;stroke-linejoin:round;stroke:rgb(20%,20%,20%);stroke-opacity:1;stroke-miterlimit:10;\" d=\"M 320.949219 472.589844 L 320.949219 469.847656 \"/>\n",
       "<path style=\"fill:none;stroke-width:1.066978;stroke-linecap:butt;stroke-linejoin:round;stroke:rgb(20%,20%,20%);stroke-opacity:1;stroke-miterlimit:10;\" d=\"M 342.734375 472.589844 L 342.734375 469.847656 \"/>\n",
       "<path style=\"fill:none;stroke-width:1.066978;stroke-linecap:butt;stroke-linejoin:round;stroke:rgb(20%,20%,20%);stroke-opacity:1;stroke-miterlimit:10;\" d=\"M 364.523438 472.589844 L 364.523438 469.847656 \"/>\n",
       "<path style=\"fill:none;stroke-width:1.066978;stroke-linecap:butt;stroke-linejoin:round;stroke:rgb(20%,20%,20%);stroke-opacity:1;stroke-miterlimit:10;\" d=\"M 386.3125 472.589844 L 386.3125 469.847656 \"/>\n",
       "<path style=\"fill:none;stroke-width:1.066978;stroke-linecap:butt;stroke-linejoin:round;stroke:rgb(20%,20%,20%);stroke-opacity:1;stroke-miterlimit:10;\" d=\"M 408.101562 472.589844 L 408.101562 469.847656 \"/>\n",
       "<path style=\"fill:none;stroke-width:1.066978;stroke-linecap:butt;stroke-linejoin:round;stroke:rgb(20%,20%,20%);stroke-opacity:1;stroke-miterlimit:10;\" d=\"M 429.886719 472.589844 L 429.886719 469.847656 \"/>\n",
       "<path style=\"fill:none;stroke-width:1.066978;stroke-linecap:butt;stroke-linejoin:round;stroke:rgb(20%,20%,20%);stroke-opacity:1;stroke-miterlimit:10;\" d=\"M 451.675781 472.589844 L 451.675781 469.847656 \"/>\n",
       "<path style=\"fill:none;stroke-width:1.066978;stroke-linecap:butt;stroke-linejoin:round;stroke:rgb(20%,20%,20%);stroke-opacity:1;stroke-miterlimit:10;\" d=\"M 473.464844 472.589844 L 473.464844 469.847656 \"/>\n",
       "<path style=\"fill:none;stroke-width:1.066978;stroke-linecap:butt;stroke-linejoin:round;stroke:rgb(20%,20%,20%);stroke-opacity:1;stroke-miterlimit:10;\" d=\"M 495.253906 472.589844 L 495.253906 469.847656 \"/>\n",
       "<g style=\"fill:rgb(30.196078%,30.196078%,30.196078%);fill-opacity:1;\">\n",
       "  <use xlink:href=\"#glyph0-1\" x=\"56.992188\" y=\"481.470703\"/>\n",
       "</g>\n",
       "<g style=\"fill:rgb(30.196078%,30.196078%,30.196078%);fill-opacity:1;\">\n",
       "  <use xlink:href=\"#glyph0-6\" x=\"78.78125\" y=\"481.470703\"/>\n",
       "</g>\n",
       "<g style=\"fill:rgb(30.196078%,30.196078%,30.196078%);fill-opacity:1;\">\n",
       "  <use xlink:href=\"#glyph0-7\" x=\"98.066406\" y=\"481.470703\"/>\n",
       "  <use xlink:href=\"#glyph0-1\" x=\"103.066406\" y=\"481.470703\"/>\n",
       "</g>\n",
       "<g style=\"fill:rgb(30.196078%,30.196078%,30.196078%);fill-opacity:1;\">\n",
       "  <use xlink:href=\"#glyph0-7\" x=\"119.855469\" y=\"481.470703\"/>\n",
       "  <use xlink:href=\"#glyph0-6\" x=\"124.855469\" y=\"481.470703\"/>\n",
       "</g>\n",
       "<g style=\"fill:rgb(30.196078%,30.196078%,30.196078%);fill-opacity:1;\">\n",
       "  <use xlink:href=\"#glyph0-4\" x=\"141.644531\" y=\"481.470703\"/>\n",
       "  <use xlink:href=\"#glyph0-1\" x=\"146.644531\" y=\"481.470703\"/>\n",
       "</g>\n",
       "<g style=\"fill:rgb(30.196078%,30.196078%,30.196078%);fill-opacity:1;\">\n",
       "  <use xlink:href=\"#glyph0-4\" x=\"163.433594\" y=\"481.470703\"/>\n",
       "  <use xlink:href=\"#glyph0-6\" x=\"168.433594\" y=\"481.470703\"/>\n",
       "</g>\n",
       "<g style=\"fill:rgb(30.196078%,30.196078%,30.196078%);fill-opacity:1;\">\n",
       "  <use xlink:href=\"#glyph0-8\" x=\"185.21875\" y=\"481.470703\"/>\n",
       "  <use xlink:href=\"#glyph0-1\" x=\"190.21875\" y=\"481.470703\"/>\n",
       "</g>\n",
       "<g style=\"fill:rgb(30.196078%,30.196078%,30.196078%);fill-opacity:1;\">\n",
       "  <use xlink:href=\"#glyph0-8\" x=\"207.007812\" y=\"481.470703\"/>\n",
       "  <use xlink:href=\"#glyph0-6\" x=\"212.007812\" y=\"481.470703\"/>\n",
       "</g>\n",
       "<g style=\"fill:rgb(30.196078%,30.196078%,30.196078%);fill-opacity:1;\">\n",
       "  <use xlink:href=\"#glyph0-5\" x=\"228.796875\" y=\"481.470703\"/>\n",
       "  <use xlink:href=\"#glyph0-1\" x=\"233.796875\" y=\"481.470703\"/>\n",
       "</g>\n",
       "<g style=\"fill:rgb(30.196078%,30.196078%,30.196078%);fill-opacity:1;\">\n",
       "  <use xlink:href=\"#glyph0-5\" x=\"250.585938\" y=\"481.470703\"/>\n",
       "  <use xlink:href=\"#glyph0-6\" x=\"255.585938\" y=\"481.470703\"/>\n",
       "</g>\n",
       "<g style=\"fill:rgb(30.196078%,30.196078%,30.196078%);fill-opacity:1;\">\n",
       "  <use xlink:href=\"#glyph0-6\" x=\"272.371094\" y=\"481.470703\"/>\n",
       "  <use xlink:href=\"#glyph0-1\" x=\"277.371094\" y=\"481.470703\"/>\n",
       "</g>\n",
       "<g style=\"fill:rgb(30.196078%,30.196078%,30.196078%);fill-opacity:1;\">\n",
       "  <use xlink:href=\"#glyph0-6\" x=\"294.160156\" y=\"481.470703\"/>\n",
       "  <use xlink:href=\"#glyph0-6\" x=\"299.160156\" y=\"481.470703\"/>\n",
       "</g>\n",
       "<g style=\"fill:rgb(30.196078%,30.196078%,30.196078%);fill-opacity:1;\">\n",
       "  <use xlink:href=\"#glyph0-3\" x=\"315.949219\" y=\"481.470703\"/>\n",
       "  <use xlink:href=\"#glyph0-1\" x=\"320.949219\" y=\"481.470703\"/>\n",
       "</g>\n",
       "<g style=\"fill:rgb(30.196078%,30.196078%,30.196078%);fill-opacity:1;\">\n",
       "  <use xlink:href=\"#glyph0-3\" x=\"337.734375\" y=\"481.470703\"/>\n",
       "  <use xlink:href=\"#glyph0-6\" x=\"342.734375\" y=\"481.470703\"/>\n",
       "</g>\n",
       "<g style=\"fill:rgb(30.196078%,30.196078%,30.196078%);fill-opacity:1;\">\n",
       "  <use xlink:href=\"#glyph0-9\" x=\"359.523438\" y=\"481.470703\"/>\n",
       "  <use xlink:href=\"#glyph0-1\" x=\"364.523438\" y=\"481.470703\"/>\n",
       "</g>\n",
       "<g style=\"fill:rgb(30.196078%,30.196078%,30.196078%);fill-opacity:1;\">\n",
       "  <use xlink:href=\"#glyph0-9\" x=\"381.3125\" y=\"481.470703\"/>\n",
       "  <use xlink:href=\"#glyph0-6\" x=\"386.3125\" y=\"481.470703\"/>\n",
       "</g>\n",
       "<g style=\"fill:rgb(30.196078%,30.196078%,30.196078%);fill-opacity:1;\">\n",
       "  <use xlink:href=\"#glyph0-10\" x=\"403.101562\" y=\"481.470703\"/>\n",
       "  <use xlink:href=\"#glyph0-1\" x=\"408.101562\" y=\"481.470703\"/>\n",
       "</g>\n",
       "<g style=\"fill:rgb(30.196078%,30.196078%,30.196078%);fill-opacity:1;\">\n",
       "  <use xlink:href=\"#glyph0-10\" x=\"424.886719\" y=\"481.470703\"/>\n",
       "  <use xlink:href=\"#glyph0-6\" x=\"429.886719\" y=\"481.470703\"/>\n",
       "</g>\n",
       "<g style=\"fill:rgb(30.196078%,30.196078%,30.196078%);fill-opacity:1;\">\n",
       "  <use xlink:href=\"#glyph0-11\" x=\"446.675781\" y=\"481.470703\"/>\n",
       "  <use xlink:href=\"#glyph0-1\" x=\"451.675781\" y=\"481.470703\"/>\n",
       "</g>\n",
       "<g style=\"fill:rgb(30.196078%,30.196078%,30.196078%);fill-opacity:1;\">\n",
       "  <use xlink:href=\"#glyph0-11\" x=\"468.464844\" y=\"481.470703\"/>\n",
       "  <use xlink:href=\"#glyph0-6\" x=\"473.464844\" y=\"481.470703\"/>\n",
       "</g>\n",
       "<g style=\"fill:rgb(30.196078%,30.196078%,30.196078%);fill-opacity:1;\">\n",
       "  <use xlink:href=\"#glyph0-7\" x=\"487.753906\" y=\"481.470703\"/>\n",
       "  <use xlink:href=\"#glyph0-1\" x=\"492.753906\" y=\"481.470703\"/>\n",
       "  <use xlink:href=\"#glyph0-1\" x=\"497.753906\" y=\"481.470703\"/>\n",
       "</g>\n",
       "<g style=\"fill:rgb(0%,0%,0%);fill-opacity:1;\">\n",
       "  <use xlink:href=\"#glyph1-1\" x=\"242.335938\" y=\"495.382812\"/>\n",
       "  <use xlink:href=\"#glyph1-2\" x=\"251.335938\" y=\"495.382812\"/>\n",
       "  <use xlink:href=\"#glyph1-3\" x=\"258.335938\" y=\"495.382812\"/>\n",
       "  <use xlink:href=\"#glyph1-4\" x=\"261.335938\" y=\"495.382812\"/>\n",
       "  <use xlink:href=\"#glyph1-5\" x=\"268.335938\" y=\"495.382812\"/>\n",
       "  <use xlink:href=\"#glyph1-6\" x=\"275.335938\" y=\"495.382812\"/>\n",
       "  <use xlink:href=\"#glyph1-7\" x=\"282.335938\" y=\"495.382812\"/>\n",
       "  <use xlink:href=\"#glyph1-8\" x=\"289.335938\" y=\"495.382812\"/>\n",
       "  <use xlink:href=\"#glyph1-9\" x=\"293.335938\" y=\"495.382812\"/>\n",
       "</g>\n",
       "<g style=\"fill:rgb(0%,0%,0%);fill-opacity:1;\">\n",
       "  <use xlink:href=\"#glyph2-1\" x=\"14.34375\" y=\"296.902344\"/>\n",
       "  <use xlink:href=\"#glyph2-2\" x=\"14.34375\" y=\"288.902344\"/>\n",
       "  <use xlink:href=\"#glyph2-2\" x=\"14.34375\" y=\"282.902344\"/>\n",
       "  <use xlink:href=\"#glyph2-3\" x=\"14.34375\" y=\"276.902344\"/>\n",
       "  <use xlink:href=\"#glyph2-4\" x=\"14.34375\" y=\"269.902344\"/>\n",
       "  <use xlink:href=\"#glyph2-5\" x=\"14.34375\" y=\"265.902344\"/>\n",
       "  <use xlink:href=\"#glyph2-2\" x=\"14.34375\" y=\"258.902344\"/>\n",
       "  <use xlink:href=\"#glyph2-6\" x=\"14.34375\" y=\"252.902344\"/>\n",
       "  <use xlink:href=\"#glyph2-7\" x=\"14.34375\" y=\"246.902344\"/>\n",
       "  <use xlink:href=\"#glyph2-8\" x=\"14.34375\" y=\"243.902344\"/>\n",
       "  <use xlink:href=\"#glyph2-9\" x=\"14.34375\" y=\"235.902344\"/>\n",
       "  <use xlink:href=\"#glyph2-10\" x=\"14.34375\" y=\"229.902344\"/>\n",
       "  <use xlink:href=\"#glyph2-11\" x=\"14.34375\" y=\"226.902344\"/>\n",
       "  <use xlink:href=\"#glyph2-12\" x=\"14.34375\" y=\"223.902344\"/>\n",
       "  <use xlink:href=\"#glyph2-5\" x=\"14.34375\" y=\"213.902344\"/>\n",
       "  <use xlink:href=\"#glyph2-10\" x=\"14.34375\" y=\"206.902344\"/>\n",
       "  <use xlink:href=\"#glyph2-13\" x=\"14.34375\" y=\"203.902344\"/>\n",
       "</g>\n",
       "<g style=\"fill:rgb(0%,0%,0%);fill-opacity:1;\">\n",
       "  <use xlink:href=\"#glyph3-1\" x=\"43.152344\" y=\"14.515625\"/>\n",
       "  <use xlink:href=\"#glyph3-2\" x=\"53.152344\" y=\"14.515625\"/>\n",
       "  <use xlink:href=\"#glyph3-3\" x=\"60.152344\" y=\"14.515625\"/>\n",
       "  <use xlink:href=\"#glyph3-4\" x=\"64.152344\" y=\"14.515625\"/>\n",
       "  <use xlink:href=\"#glyph3-5\" x=\"67.152344\" y=\"14.515625\"/>\n",
       "  <use xlink:href=\"#glyph3-6\" x=\"79.152344\" y=\"14.515625\"/>\n",
       "  <use xlink:href=\"#glyph3-3\" x=\"87.152344\" y=\"14.515625\"/>\n",
       "  <use xlink:href=\"#glyph3-7\" x=\"91.152344\" y=\"14.515625\"/>\n",
       "  <use xlink:href=\"#glyph3-8\" x=\"99.152344\" y=\"14.515625\"/>\n",
       "  <use xlink:href=\"#glyph3-9\" x=\"107.152344\" y=\"14.515625\"/>\n",
       "  <use xlink:href=\"#glyph3-6\" x=\"111.152344\" y=\"14.515625\"/>\n",
       "  <use xlink:href=\"#glyph3-10\" x=\"119.152344\" y=\"14.515625\"/>\n",
       "  <use xlink:href=\"#glyph3-10\" x=\"126.152344\" y=\"14.515625\"/>\n",
       "  <use xlink:href=\"#glyph3-11\" x=\"133.152344\" y=\"14.515625\"/>\n",
       "  <use xlink:href=\"#glyph3-12\" x=\"141.152344\" y=\"14.515625\"/>\n",
       "  <use xlink:href=\"#glyph3-6\" x=\"146.152344\" y=\"14.515625\"/>\n",
       "  <use xlink:href=\"#glyph3-10\" x=\"154.152344\" y=\"14.515625\"/>\n",
       "  <use xlink:href=\"#glyph3-13\" x=\"161.152344\" y=\"14.515625\"/>\n",
       "  <use xlink:href=\"#glyph3-9\" x=\"168.152344\" y=\"14.515625\"/>\n",
       "  <use xlink:href=\"#glyph3-14\" x=\"172.152344\" y=\"14.515625\"/>\n",
       "  <use xlink:href=\"#glyph3-7\" x=\"179.152344\" y=\"14.515625\"/>\n",
       "  <use xlink:href=\"#glyph3-12\" x=\"187.152344\" y=\"14.515625\"/>\n",
       "  <use xlink:href=\"#glyph3-2\" x=\"192.152344\" y=\"14.515625\"/>\n",
       "  <use xlink:href=\"#glyph3-11\" x=\"199.152344\" y=\"14.515625\"/>\n",
       "  <use xlink:href=\"#glyph3-2\" x=\"207.152344\" y=\"14.515625\"/>\n",
       "  <use xlink:href=\"#glyph3-9\" x=\"214.152344\" y=\"14.515625\"/>\n",
       "  <use xlink:href=\"#glyph3-3\" x=\"218.152344\" y=\"14.515625\"/>\n",
       "  <use xlink:href=\"#glyph3-15\" x=\"222.152344\" y=\"14.515625\"/>\n",
       "  <use xlink:href=\"#glyph3-7\" x=\"230.152344\" y=\"14.515625\"/>\n",
       "  <use xlink:href=\"#glyph3-9\" x=\"238.152344\" y=\"14.515625\"/>\n",
       "  <use xlink:href=\"#glyph3-16\" x=\"242.152344\" y=\"14.515625\"/>\n",
       "  <use xlink:href=\"#glyph3-11\" x=\"250.152344\" y=\"14.515625\"/>\n",
       "  <use xlink:href=\"#glyph3-5\" x=\"258.152344\" y=\"14.515625\"/>\n",
       "  <use xlink:href=\"#glyph3-17\" x=\"270.152344\" y=\"14.515625\"/>\n",
       "  <use xlink:href=\"#glyph3-7\" x=\"278.152344\" y=\"14.515625\"/>\n",
       "  <use xlink:href=\"#glyph3-12\" x=\"286.152344\" y=\"14.515625\"/>\n",
       "  <use xlink:href=\"#glyph3-9\" x=\"291.152344\" y=\"14.515625\"/>\n",
       "  <use xlink:href=\"#glyph3-18\" x=\"295.152344\" y=\"14.515625\"/>\n",
       "  <use xlink:href=\"#glyph3-19\" x=\"303.152344\" y=\"14.515625\"/>\n",
       "  <use xlink:href=\"#glyph3-9\" x=\"307.152344\" y=\"14.515625\"/>\n",
       "  <use xlink:href=\"#glyph3-16\" x=\"311.152344\" y=\"14.515625\"/>\n",
       "  <use xlink:href=\"#glyph3-7\" x=\"319.152344\" y=\"14.515625\"/>\n",
       "  <use xlink:href=\"#glyph3-4\" x=\"327.152344\" y=\"14.515625\"/>\n",
       "  <use xlink:href=\"#glyph3-20\" x=\"330.152344\" y=\"14.515625\"/>\n",
       "  <use xlink:href=\"#glyph3-15\" x=\"338.152344\" y=\"14.515625\"/>\n",
       "  <use xlink:href=\"#glyph3-17\" x=\"346.152344\" y=\"14.515625\"/>\n",
       "  <use xlink:href=\"#glyph3-18\" x=\"354.152344\" y=\"14.515625\"/>\n",
       "  <use xlink:href=\"#glyph3-12\" x=\"362.152344\" y=\"14.515625\"/>\n",
       "  <use xlink:href=\"#glyph3-2\" x=\"367.152344\" y=\"14.515625\"/>\n",
       "  <use xlink:href=\"#glyph3-9\" x=\"374.152344\" y=\"14.515625\"/>\n",
       "  <use xlink:href=\"#glyph3-21\" x=\"378.152344\" y=\"14.515625\"/>\n",
       "  <use xlink:href=\"#glyph3-19\" x=\"383.152344\" y=\"14.515625\"/>\n",
       "  <use xlink:href=\"#glyph3-18\" x=\"387.152344\" y=\"14.515625\"/>\n",
       "  <use xlink:href=\"#glyph3-12\" x=\"395.152344\" y=\"14.515625\"/>\n",
       "  <use xlink:href=\"#glyph3-9\" x=\"400.152344\" y=\"14.515625\"/>\n",
       "  <use xlink:href=\"#glyph3-22\" x=\"404.152344\" y=\"14.515625\"/>\n",
       "  <use xlink:href=\"#glyph3-9\" x=\"411.152344\" y=\"14.515625\"/>\n",
       "  <use xlink:href=\"#glyph3-23\" x=\"415.152344\" y=\"14.515625\"/>\n",
       "  <use xlink:href=\"#glyph3-9\" x=\"423.152344\" y=\"14.515625\"/>\n",
       "  <use xlink:href=\"#glyph3-24\" x=\"427.152344\" y=\"14.515625\"/>\n",
       "  <use xlink:href=\"#glyph3-9\" x=\"435.152344\" y=\"14.515625\"/>\n",
       "  <use xlink:href=\"#glyph3-3\" x=\"439.152344\" y=\"14.515625\"/>\n",
       "  <use xlink:href=\"#glyph3-18\" x=\"443.152344\" y=\"14.515625\"/>\n",
       "  <use xlink:href=\"#glyph3-9\" x=\"451.152344\" y=\"14.515625\"/>\n",
       "  <use xlink:href=\"#glyph3-24\" x=\"455.152344\" y=\"14.515625\"/>\n",
       "  <use xlink:href=\"#glyph3-25\" x=\"463.152344\" y=\"14.515625\"/>\n",
       "  <use xlink:href=\"#glyph3-25\" x=\"471.152344\" y=\"14.515625\"/>\n",
       "  <use xlink:href=\"#glyph3-26\" x=\"479.152344\" y=\"14.515625\"/>\n",
       "</g>\n",
       "</g>\n",
       "</svg>\n"
      ],
      "text/plain": [
       "plot without title"
      ]
     },
     "metadata": {
      "application/pdf": {
       "height": 420,
       "width": 420
      },
      "image/jpeg": {
       "height": 420,
       "width": 420
      },
      "image/png": {
       "height": 420,
       "width": 420
      },
      "image/svg+xml": {
       "height": 420,
       "isolated": true,
       "width": 420
      }
     },
     "output_type": "display_data"
    }
   ],
   "source": [
    "accuracy_vs_k <- ggplot(accuracies, aes(x = neighbors, y = mean)) +\n",
    "                 geom_point() +\n",
    "                 geom_line() + \n",
    "                 labs(x = \"Neighbors\", y = \"Accuracy Estimate\") +\n",
    "                 ggtitle(\"Estimated accuracy versus the number of neighbors (for k = 1 to 100)\") +\n",
    "                 theme(text = element_text(size = 12)) + \n",
    "                 scale_x_continuous(breaks = seq(0, 100, by = 5))\n",
    "\n",
    "accuracy_vs_k"
   ]
  },
  {
   "cell_type": "markdown",
   "id": "f3093d2d-9118-445d-8ffd-a5ace71d8bf6",
   "metadata": {
    "tags": []
   },
   "source": [
    "<font size= '2'> **Figure (ADD NUMBER):** A plot of depicting the estimated accuracy versus the number of neighbors from 0 to 100. Based on the graph, it looks like *k* = NUMBER provides the highest accuracy (ADD NUMBER) "
   ]
  },
  {
   "cell_type": "markdown",
   "id": "c7793331-eacb-4940-89ce-dd54166fc585",
   "metadata": {},
   "source": [
    "### 3) Predicting satisfaction in airplane_test "
   ]
  },
  {
   "cell_type": "code",
   "execution_count": null,
   "id": "fc7eaaa5-0110-4950-afea-25b8a617762a",
   "metadata": {},
   "outputs": [],
   "source": [
    "With our *k* value chosen, we can create `knn_spec_best_k` which will...."
   ]
  },
  {
   "cell_type": "code",
   "execution_count": 21,
   "id": "ec717bad-1858-4940-8078-60b9411fa19b",
   "metadata": {
    "tags": []
   },
   "outputs": [],
   "source": [
    "knn_spec_best_k <- nearest_neighbor(weight_func = \"rectangular\", neighbors = 26) |>\n",
    "                   set_engine(\"kknn\") |>\n",
    "                   set_mode(\"classification\")\n",
    "\n",
    "knn_fit <- workflow() |>\n",
    "        add_recipe(airplane_recipe) |>\n",
    "        add_model(knn_spec_best_k) |>\n",
    "        fit(data = airplane_train)\n",
    "\n",
    "airplane_test_predictions <- predict(knn_fit, airplane_test) |>\n",
    "                          bind_cols(airplane_test)"
   ]
  },
  {
   "cell_type": "markdown",
   "id": "6a8c49a2-1f4d-4d9b-bbc7-f3a597dc0670",
   "metadata": {},
   "source": [
    "### 4) Evaluating the performance of the classifier"
   ]
  },
  {
   "cell_type": "code",
   "execution_count": 24,
   "id": "2acc503e-da68-4bf2-9c7c-eae86fe3253f",
   "metadata": {
    "tags": []
   },
   "outputs": [
    {
     "data": {
      "text/html": [
       "<table class=\"dataframe\">\n",
       "<caption>A tibble: 1 × 3</caption>\n",
       "<thead>\n",
       "\t<tr><th scope=col>.metric</th><th scope=col>.estimator</th><th scope=col>.estimate</th></tr>\n",
       "\t<tr><th scope=col>&lt;chr&gt;</th><th scope=col>&lt;chr&gt;</th><th scope=col>&lt;dbl&gt;</th></tr>\n",
       "</thead>\n",
       "<tbody>\n",
       "\t<tr><td>accuracy</td><td>binary</td><td>0.6349599</td></tr>\n",
       "</tbody>\n",
       "</table>\n"
      ],
      "text/latex": [
       "A tibble: 1 × 3\n",
       "\\begin{tabular}{lll}\n",
       " .metric & .estimator & .estimate\\\\\n",
       " <chr> & <chr> & <dbl>\\\\\n",
       "\\hline\n",
       "\t accuracy & binary & 0.6349599\\\\\n",
       "\\end{tabular}\n"
      ],
      "text/markdown": [
       "\n",
       "A tibble: 1 × 3\n",
       "\n",
       "| .metric &lt;chr&gt; | .estimator &lt;chr&gt; | .estimate &lt;dbl&gt; |\n",
       "|---|---|---|\n",
       "| accuracy | binary | 0.6349599 |\n",
       "\n"
      ],
      "text/plain": [
       "  .metric  .estimator .estimate\n",
       "1 accuracy binary     0.6349599"
      ]
     },
     "metadata": {},
     "output_type": "display_data"
    }
   ],
   "source": [
    "airplane_test_predictions |>\n",
    "    metrics(truth = satisfaction, estimate = .pred_class) |>\n",
    "    filter(.metric == \"accuracy\")"
   ]
  },
  {
   "cell_type": "markdown",
   "id": "6470ab33-16d9-4982-8482-c678bfa88384",
   "metadata": {},
   "source": [
    "### ADD TEXT"
   ]
  },
  {
   "cell_type": "code",
   "execution_count": 26,
   "id": "19164884-0a55-4961-bd8e-7ed648a9ce07",
   "metadata": {
    "tags": []
   },
   "outputs": [
    {
     "data": {
      "text/plain": [
       "                         Truth\n",
       "Prediction                satisfied neutral or dissatisfied\n",
       "  satisfied                     927                     497\n",
       "  neutral or dissatisfied      1867                    3185"
      ]
     },
     "metadata": {},
     "output_type": "display_data"
    }
   ],
   "source": [
    "confusion_matrix <- airplane_test_predictions |>\n",
    "                 conf_mat(truth = satisfaction, estimate = .pred_class)\n",
    "\n",
    "confusion_matrix"
   ]
  },
  {
   "cell_type": "markdown",
   "id": "50f06396-18a1-4a7b-b4d5-5f336cfba35b",
   "metadata": {},
   "source": [
    "## ADD TEXT"
   ]
  },
  {
   "cell_type": "markdown",
   "id": "95951fd9-5011-4210-956b-4eb5de96885a",
   "metadata": {},
   "source": [
    "## Discussion"
   ]
  },
  {
   "cell_type": "markdown",
   "id": "dcab4538-4321-4d9b-9c02-79968cee02a2",
   "metadata": {},
   "source": [
    "It is important to note that there are only two classes: `neutral or dissatisfied` or `satisfied`. As such, our data set groups together passengers who are **either** neutral *or* dissatisfied. Thus, there is no way to know the proportion of passengers that are **either** dissatisfied or neutral within the `neutral or dissatisfied` class. \n",
    "\n",
    "That being said, this distinction between neutral or dissatisfied might not be as important given that the results of our analysis would likely be used to improve upon airline experience. Thus, when evaluating upon airline services, the goal would be to ensure that most passengers are overall satisfied such that they aren't just neutral or (more importantly) dissatisfied with their experience.\n",
    "\n",
    "\n",
    "\n",
    "^Something to potentially add in discussion\n",
    "\n",
    "- might also be useful to Note weaknesses and strengths of k-nearest neighbors in the context of trying to answer our question "
   ]
  },
  {
   "cell_type": "markdown",
   "id": "1e4f0630-3200-45fd-9c75-247d774e4fa9",
   "metadata": {},
   "source": [
    "## References"
   ]
  },
  {
   "cell_type": "code",
   "execution_count": null,
   "id": "03ffa312-9ee2-4afb-9e8d-113b42d73722",
   "metadata": {},
   "outputs": [],
   "source": []
  }
 ],
 "metadata": {
  "kernelspec": {
   "display_name": "R",
   "language": "R",
   "name": "ir"
  },
  "language_info": {
   "codemirror_mode": "r",
   "file_extension": ".r",
   "mimetype": "text/x-r-source",
   "name": "R",
   "pygments_lexer": "r",
   "version": "4.2.2"
  }
 },
 "nbformat": 4,
 "nbformat_minor": 5
}
